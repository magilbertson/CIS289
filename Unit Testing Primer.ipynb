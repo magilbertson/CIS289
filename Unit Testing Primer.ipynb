{
 "cells": [
  {
   "cell_type": "markdown",
   "metadata": {},
   "source": [
    "# Unit Testing Primer"
   ]
  },
  {
   "cell_type": "markdown",
   "metadata": {},
   "source": [
    "## For this primer, I'll go over several different types of unit testing.  I'll do some simple examples and work up to some more complex situations"
   ]
  },
  {
   "cell_type": "markdown",
   "metadata": {},
   "source": [
    "### Let's start simple\n",
    "### This simple function accepts a string and returns the number of characters in the string.  We need to test happy path and that the expected exception occurs when we input a bad datatype."
   ]
  },
  {
   "cell_type": "code",
   "execution_count": null,
   "metadata": {},
   "outputs": [],
   "source": [
    "def count_the_letters(inputstring):\n",
    "    return len(inputstring)\n",
    "\n",
    "print(count_the_letters(\"whatever\")) #happy path\n",
    "print(count_the_letters(\"\"))\n",
    "print(count_the_letters(343434)) #expect a TypeError exception"
   ]
  },
  {
   "cell_type": "code",
   "execution_count": 13,
   "metadata": {},
   "outputs": [
    {
     "name": "stderr",
     "output_type": "stream",
     "text": [
      "..\n",
      "----------------------------------------------------------------------\n",
      "Ran 2 tests in 0.002s\n",
      "\n",
      "OK\n"
     ]
    }
   ],
   "source": [
    "import unittest\n",
    "\n",
    "class TestLetterCounting(unittest.TestCase):\n",
    "    def test_happy_path(self): # Recall that this function must start with \"test\" to actually run the tests\n",
    "        self.assertEqual(count_the_letters(\"manycharacterslongstring\"),24)\n",
    "        self.assertEqual(count_the_letters(\"\"),0)\n",
    "        self.assertEqual(count_the_letters(\"12345\"),5)\n",
    "    \n",
    "    def test_type_error(self): # An assertRaises test only passes when the correct assert is raised\n",
    "        with self.assertRaises(TypeError):\n",
    "            count_the_letters(2345) #The function expects a string so an integer will raise a TypeError\n",
    "\n",
    "        \n",
    "if __name__ == '__main__':\n",
    "    unittest.main(argv=[''],exit=False) #This is specific to Jupyter Notebooks\n",
    "    # It would look like this in PyCharm: unittest.main()"
   ]
  },
  {
   "cell_type": "markdown",
   "metadata": {},
   "source": [
    "### Not too bad.  However, just like everything with coding, users make it more difficult :)\n",
    "### Let's mock some user inputs.  I'm going to adjust the function above to request two strings from the user, count the total number of characters in the two strings, and return the result"
   ]
  },
  {
   "cell_type": "code",
   "execution_count": 17,
   "metadata": {},
   "outputs": [
    {
     "name": "stdout",
     "output_type": "stream",
     "text": [
      "Give me the first string: 23455\n",
      "Give me the second string: 232456\n"
     ]
    },
    {
     "data": {
      "text/plain": [
       "11"
      ]
     },
     "execution_count": 17,
     "metadata": {},
     "output_type": "execute_result"
    }
   ],
   "source": [
    "def count_the_letters_with_input():\n",
    "    string_1 = input(\"Give me the first string: \")\n",
    "    string_2 = input(\"Give me the second string: \")\n",
    "    return (len(string_1) + len(string_2))\n",
    "\n",
    "count_the_letters_with_input()"
   ]
  },
  {
   "cell_type": "markdown",
   "metadata": {},
   "source": [
    "#### Part of our job is easier here because we don't have to deal with the TypeError.  No matter what a user puts in, Python will treat it like a string by default"
   ]
  },
  {
   "cell_type": "markdown",
   "metadata": {},
   "source": [
    "#### First I'm going to just use a generic return value for all inputs."
   ]
  },
  {
   "cell_type": "code",
   "execution_count": 25,
   "metadata": {},
   "outputs": [
    {
     "name": "stderr",
     "output_type": "stream",
     "text": [
      "...\n",
      "----------------------------------------------------------------------\n",
      "Ran 3 tests in 0.002s\n",
      "\n",
      "OK\n"
     ]
    }
   ],
   "source": [
    "import unittest\n",
    "from unittest import mock\n",
    "\n",
    "class TestLetterCountingWithInput(unittest.TestCase): \n",
    "    def test_same_input_every_time(self):\n",
    "        with mock.patch('builtins.input', return_value=\"whatever\"): # This method mocks the user input as \"whatever\" as many times as the underlying function calls it\n",
    "            assert count_the_letters_with_input() == 16 # Function receives \"whatever\" and \"whatever\" which is 16 characters\n",
    "        \n",
    "        with mock.patch('builtins.input', return_value=\"\"): \n",
    "            assert count_the_letters_with_input() == 0 # Function receives no characters both times\n",
    "            \n",
    "if __name__ == '__main__':    \n",
    "    unittest.main(argv=[''],exit=False) #This is specific to Jupyter Notebooks\n",
    "    # It would look like this in PyCharm: unittest.main()"
   ]
  },
  {
   "cell_type": "markdown",
   "metadata": {},
   "source": [
    "#### Now let's be more specific about the inputs that are mocked"
   ]
  },
  {
   "cell_type": "code",
   "execution_count": 29,
   "metadata": {},
   "outputs": [
    {
     "name": "stderr",
     "output_type": "stream",
     "text": [
      "...\n",
      "----------------------------------------------------------------------\n",
      "Ran 3 tests in 0.002s\n",
      "\n",
      "OK\n"
     ]
    }
   ],
   "source": [
    "import unittest\n",
    "from unittest import mock\n",
    "\n",
    "class TestLetterCountingWithInput(unittest.TestCase): \n",
    "    def test_different_input_every_time(self):\n",
    "        with mock.patch('builtins.input', side_effect=[\"word\",\"otherword\"]):\n",
    "            assert count_the_letters_with_input() == 13 # Function receives \"whatever\" and \"whatever\" which is 16 characters\n",
    "        \n",
    "        with mock.patch('builtins.input', side_effect=[\"abunchoftext\",\"\"]): \n",
    "            assert count_the_letters_with_input() == 12 # Function receives no characters both times\n",
    "            \n",
    "if __name__ == '__main__':    \n",
    "    unittest.main(argv=[''],exit=False) #This is specific to Jupyter Notebooks\n",
    "    # It would look like this in PyCharm: unittest.main()"
   ]
  },
  {
   "cell_type": "markdown",
   "metadata": {},
   "source": [
    "### Now I'll create a program that has multiple functions and test each of those functions.  It's important to remember that unit testing doesn't test programs. It tests functions.  There are times that you may need to adjust how your program is structured in order to make it testable"
   ]
  },
  {
   "cell_type": "markdown",
   "metadata": {},
   "source": [
    "### My program is going to ask for multiple user inputs, confirm that those inputs are valid, and then adds those inputs to a list."
   ]
  },
  {
   "cell_type": "code",
   "execution_count": 49,
   "metadata": {},
   "outputs": [
    {
     "name": "stdout",
     "output_type": "stream",
     "text": [
      "Please enter the number of integers you want to store in a list: ewr\n",
      "You failed to give me a properly formatted quantity of strings\n",
      "your list of integers:  []\n"
     ]
    }
   ],
   "source": [
    "def gather_user_input():\n",
    "    user_input = input(\"give me one of your inputs: \")\n",
    "    if verify_user_input_integer(user_input) == \"fail\":\n",
    "        return \"fail\"\n",
    "    else:\n",
    "        return int(user_input)\n",
    "\n",
    "def verify_user_input_integer(check_user_input):\n",
    "    try:\n",
    "        int(check_user_input)\n",
    "    except:\n",
    "        return \"fail\"\n",
    "    else:\n",
    "        return int(check_user_input)\n",
    "\n",
    "def how_many_inputs():\n",
    "    result = verify_user_input_integer(input(\"Please enter the number of integers you want to store in a list: \"))\n",
    "    if result == \"fail\":\n",
    "        return \"fail\"\n",
    "    else:\n",
    "        return result\n",
    "    \n",
    "def get_all_numbers(quantity):\n",
    "    user_list = []\n",
    "    good_input_count = 0\n",
    "    while good_input_count < quantity:\n",
    "        user_input_integer = gather_user_input()\n",
    "        if user_input_integer == \"fail\":\n",
    "            print(\"Your input was not an integer so this input will be skipped\")\n",
    "            continue\n",
    "        else:\n",
    "            user_list.append(user_input_integer)\n",
    "            good_input_count += 1\n",
    "    return user_list\n",
    "\n",
    "if __name__ == '__main__':\n",
    "    user_integers = []\n",
    "    number_of_inputs = how_many_inputs()\n",
    "    if number_of_inputs == \"fail\":\n",
    "        print(\"You failed to give me a properly formatted quantity of strings\")\n",
    "    else:\n",
    "        user_integers = get_all_numbers(number_of_inputs)\n",
    "    print(\"your list of integers: \", user_integers)"
   ]
  },
  {
   "cell_type": "markdown",
   "metadata": {},
   "source": [
    "#### In order to test my program functions, I have to test each of the four functions with various inputs and ensure they have the correct output."
   ]
  },
  {
   "cell_type": "code",
   "execution_count": 61,
   "metadata": {},
   "outputs": [
    {
     "name": "stderr",
     "output_type": "stream",
     "text": [
      "..........."
     ]
    },
    {
     "name": "stdout",
     "output_type": "stream",
     "text": [
      "Your input was not an integer so this input will be skipped\n",
      "Your input was not an integer so this input will be skipped\n",
      "Your input was not an integer so this input will be skipped\n",
      "Your input was not an integer so this input will be skipped\n",
      "Your input was not an integer so this input will be skipped\n",
      "Your input was not an integer so this input will be skipped\n",
      "Your input was not an integer so this input will be skipped\n"
     ]
    },
    {
     "name": "stderr",
     "output_type": "stream",
     "text": [
      "\n",
      "----------------------------------------------------------------------\n",
      "Ran 11 tests in 0.011s\n",
      "\n",
      "OK\n"
     ]
    }
   ],
   "source": [
    "import unittest\n",
    "from unittest import mock\n",
    "\n",
    "class TestGatherUserInput(unittest.TestCase): \n",
    "    def test_good_input(self):\n",
    "        with mock.patch('builtins.input', side_effect=[\"13\"]):\n",
    "            assert gather_user_input() == 13 \n",
    "        with mock.patch('builtins.input', side_effect=[\"1\"]):\n",
    "            assert gather_user_input() == 1 \n",
    "    def test_bad_input(self):\n",
    "        with mock.patch('builtins.input', side_effect=[\"whatever\"]):\n",
    "            assert gather_user_input() == \"fail\" \n",
    "        with mock.patch('builtins.input', side_effect=[\"\"]):\n",
    "            assert gather_user_input() == \"fail\" \n",
    "        \n",
    "class TestVerifyUserInputInteger(unittest.TestCase):\n",
    "    def test_good_datatype(self):\n",
    "        self.assertEqual(verify_user_input_integer(\"10\"),10)\n",
    "        self.assertEqual(verify_user_input_integer(\"25\"),25)\n",
    "        \n",
    "    def test_bad_datatype(self):\n",
    "        self.assertEqual(verify_user_input_integer(\"ere\"),\"fail\")\n",
    "        self.assertEqual(verify_user_input_integer(\"\"),\"fail\")\n",
    "            \n",
    "class TestHowManyInputs(unittest.TestCase):\n",
    "    def test_good_num_input(self):\n",
    "        with mock.patch('builtins.input', side_effect=[\"13\"]):\n",
    "            assert how_many_inputs() == 13 \n",
    "        with mock.patch('builtins.input', side_effect=[\"1\"]):\n",
    "            assert how_many_inputs() == 1 \n",
    "    def test_bad_num_input(self):\n",
    "        with mock.patch('builtins.input', side_effect=[\"whatever\"]):\n",
    "            assert how_many_inputs() == \"fail\" \n",
    "        with mock.patch('builtins.input', side_effect=[\"\"]):\n",
    "            assert how_many_inputs() == \"fail\" \n",
    "            \n",
    "class TestGetAllNumbers(unittest.TestCase):\n",
    "    def test_good_user_list(self):\n",
    "        with mock.patch('builtins.input', side_effect=[1,2,3]):\n",
    "            assert get_all_numbers(3) == [1,2,3]\n",
    "        with mock.patch('builtins.input', side_effect=[1,2,3,4,5,6,7,8]):\n",
    "            assert get_all_numbers(8) == [1,2,3,4,5,6,7,8]\n",
    "    def test_bad_user_list(self):\n",
    "        with mock.patch('builtins.input', side_effect=[\"what\",3,\"ever\",4,5]):\n",
    "            assert get_all_numbers(3) == [3,4,5]\n",
    "        with mock.patch('builtins.input', side_effect=[\"what\",3,\"ever\",4,\"bad\",\"input\",\"from\",5]):\n",
    "            assert get_all_numbers(3) == [3,4,5]\n",
    "            \n",
    "if __name__ == '__main__':    \n",
    "    unittest.main(argv=[''],exit=False) #This is specific to Jupyter Notebooks\n",
    "    # It would look like this in PyCharm: unittest.main()"
   ]
  },
  {
   "cell_type": "markdown",
   "metadata": {},
   "source": [
    "#### Now I have tested all four of my functions as independently as possible both through happy path and expected issues.  Note again that I'm not testing main anywhere in the unit testing.  Main is not tested in unit testing."
   ]
  }
 ],
 "metadata": {
  "kernelspec": {
   "display_name": "Python 3",
   "language": "python",
   "name": "python3"
  },
  "language_info": {
   "codemirror_mode": {
    "name": "ipython",
    "version": 3
   },
   "file_extension": ".py",
   "mimetype": "text/x-python",
   "name": "python",
   "nbconvert_exporter": "python",
   "pygments_lexer": "ipython3",
   "version": "3.7.9"
  }
 },
 "nbformat": 4,
 "nbformat_minor": 4
}
