{
 "cells": [
  {
   "cell_type": "markdown",
   "metadata": {
    "slideshow": {
     "slide_type": "slide"
    }
   },
   "source": [
    "# CIS289 Module 2: Maps, Lambdas, Regex"
   ]
  },
  {
   "cell_type": "code",
   "execution_count": 1,
   "metadata": {},
   "outputs": [],
   "source": [
    "some_num = 5\n",
    "check = [3,6,9,12]\n",
    "\n",
    "if some_num in check:\n",
    "    print(\"This is True\")\n"
   ]
  },
  {
   "cell_type": "markdown",
   "metadata": {
    "slideshow": {
     "slide_type": "slide"
    }
   },
   "source": [
    "## Map Functions"
   ]
  },
  {
   "cell_type": "markdown",
   "metadata": {
    "slideshow": {
     "slide_type": "fragment"
    }
   },
   "source": [
    "### Map Functions allow one or more iterables (tuples, lists, sets) to be mapped to a function to create a map object."
   ]
  },
  {
   "cell_type": "code",
   "execution_count": 3,
   "metadata": {
    "slideshow": {
     "slide_type": "subslide"
    }
   },
   "outputs": [
    {
     "name": "stdout",
     "output_type": "stream",
     "text": [
      "[2, 8, 16, 24, 30, 38]\n"
     ]
    }
   ],
   "source": [
    "# Function used in map\n",
    "def doubles(input_number):\n",
    "    return input_number * 2\n",
    "\n",
    "# Iterable to use in the map\n",
    "numbers_to_double = [1,4,8,12,15,19]\n",
    "\n",
    "# Creates map object and assigns it to the result variable\n",
    "result = map(doubles,numbers_to_double)\n",
    "\n",
    "# Output result map as a list\n",
    "print(list(result))"
   ]
  },
  {
   "cell_type": "markdown",
   "metadata": {
    "slideshow": {
     "slide_type": "subslide"
    }
   },
   "source": [
    "### This could be done using a for loop and get the same result but ..."
   ]
  },
  {
   "cell_type": "code",
   "execution_count": 4,
   "metadata": {
    "slideshow": {
     "slide_type": "fragment"
    }
   },
   "outputs": [
    {
     "name": "stdout",
     "output_type": "stream",
     "text": [
      "1.04 µs ± 84.2 ns per loop (mean ± std. dev. of 7 runs, 1000000 loops each)\n"
     ]
    }
   ],
   "source": [
    "%%timeit \n",
    "result = []\n",
    "for item in numbers_to_double:\n",
    "    result.append(doubles(item))"
   ]
  },
  {
   "cell_type": "code",
   "execution_count": 5,
   "metadata": {
    "slideshow": {
     "slide_type": "fragment"
    }
   },
   "outputs": [
    {
     "name": "stdout",
     "output_type": "stream",
     "text": [
      "176 ns ± 7.37 ns per loop (mean ± std. dev. of 7 runs, 10000000 loops each)\n"
     ]
    }
   ],
   "source": [
    "%%timeit\n",
    "result = map(doubles,numbers_to_double)"
   ]
  },
  {
   "cell_type": "markdown",
   "metadata": {
    "slideshow": {
     "slide_type": "subslide"
    }
   },
   "source": [
    "### Here another example using OOP to quickly pull attributes from objects"
   ]
  },
  {
   "cell_type": "code",
   "execution_count": 6,
   "metadata": {
    "slideshow": {
     "slide_type": "subslide"
    }
   },
   "outputs": [],
   "source": [
    "class Person:\n",
    "    def __init__(self, age, gender, hair_color):\n",
    "        self.age = age\n",
    "        self.gender = gender\n",
    "        self.hair_color = hair_color\n",
    "    \n",
    "Jim = Person(25, \"male\", \"brown\")\n",
    "Jane = Person(30, \"female\", \"red\")\n",
    "Tim = Person(35, \"male\", \"none\")\n",
    "Tina = Person(40, \"female\", \"blond\")\n",
    "people_list = (Jim,Jane,Tim,Tina)"
   ]
  },
  {
   "cell_type": "code",
   "execution_count": 7,
   "metadata": {
    "slideshow": {
     "slide_type": "fragment"
    }
   },
   "outputs": [
    {
     "name": "stdout",
     "output_type": "stream",
     "text": [
      "[25, 30, 35, 40]\n"
     ]
    }
   ],
   "source": [
    "age_list = list(map(lambda x:x.age,people_list))\n",
    "print(age_list)"
   ]
  },
  {
   "cell_type": "code",
   "execution_count": 8,
   "metadata": {
    "slideshow": {
     "slide_type": "subslide"
    }
   },
   "outputs": [
    {
     "name": "stdout",
     "output_type": "stream",
     "text": [
      "825 ns ± 84.9 ns per loop (mean ± std. dev. of 7 runs, 1000000 loops each)\n"
     ]
    }
   ],
   "source": [
    "%%timeit\n",
    "age_list = []\n",
    "age_list = list(map(lambda x:x.age,people_list))\n",
    "#print(age_list)"
   ]
  },
  {
   "cell_type": "code",
   "execution_count": 9,
   "metadata": {
    "slideshow": {
     "slide_type": "fragment"
    }
   },
   "outputs": [
    {
     "name": "stdout",
     "output_type": "stream",
     "text": [
      "379 ns ± 48 ns per loop (mean ± std. dev. of 7 runs, 1000000 loops each)\n"
     ]
    }
   ],
   "source": [
    "%%timeit\n",
    "age_list = []\n",
    "for item in people_list:\n",
    "    age_list.append(item.age)\n",
    "#print(age_list)"
   ]
  },
  {
   "cell_type": "markdown",
   "metadata": {
    "slideshow": {
     "slide_type": "subslide"
    }
   },
   "source": [
    "### Mapping can also be done for multiple iterables.  The function in the map just needs to accept as many input parameters as iterables."
   ]
  },
  {
   "cell_type": "markdown",
   "metadata": {
    "slideshow": {
     "slide_type": "fragment"
    }
   },
   "source": [
    "### Let's combine numbers across three iterables"
   ]
  },
  {
   "cell_type": "code",
   "execution_count": 10,
   "metadata": {
    "slideshow": {
     "slide_type": "subslide"
    }
   },
   "outputs": [],
   "source": [
    "def combine_nums(number_1, number_2, number_3):\n",
    "    final_num=number_1 + number_2 + number_3\n",
    "    return final_num"
   ]
  },
  {
   "cell_type": "code",
   "execution_count": 11,
   "metadata": {
    "slideshow": {
     "slide_type": "fragment"
    }
   },
   "outputs": [
    {
     "name": "stdout",
     "output_type": "stream",
     "text": [
      "[8, 17, 23, 9, 16]\n"
     ]
    }
   ],
   "source": [
    "list_of_nums = [2,5,8,3,5,7,3,1]\n",
    "tuple_of_nums = (2,5,9,2,6,2,0)\n",
    "list2_of_nums = [4,7,6,4,5] #intentionally shortened to show shortest iterable becomes length of output\n",
    "output_list = list(map(combine_nums,list_of_nums,tuple_of_nums,list2_of_nums))\n",
    "print(output_list)"
   ]
  },
  {
   "cell_type": "markdown",
   "metadata": {
    "slideshow": {
     "slide_type": "slide"
    }
   },
   "source": [
    "## Lambda Functions"
   ]
  },
  {
   "cell_type": "markdown",
   "metadata": {
    "slideshow": {
     "slide_type": "fragment"
    }
   },
   "source": [
    "### Lambda (anonymous) functions are limited versions of simple functions.  They can only contain 1 statement and automatically return the result.  Let's look at a couple of simple examples"
   ]
  },
  {
   "cell_type": "code",
   "execution_count": 12,
   "metadata": {
    "slideshow": {
     "slide_type": "subslide"
    }
   },
   "outputs": [
    {
     "data": {
      "text/plain": [
       "18"
      ]
     },
     "execution_count": 12,
     "metadata": {},
     "output_type": "execute_result"
    }
   ],
   "source": [
    "def add_three_nums(num_1,num_2,num_3):\n",
    "    return num_1+num_2+num_3\n",
    "\n",
    "add_three_nums(5,6,7)"
   ]
  },
  {
   "cell_type": "code",
   "execution_count": 13,
   "metadata": {
    "slideshow": {
     "slide_type": "subslide"
    }
   },
   "outputs": [
    {
     "name": "stdout",
     "output_type": "stream",
     "text": [
      "18\n"
     ]
    }
   ],
   "source": [
    "solution = (lambda a,b,c:a+b+c)(5,6,7) #immediately invoked function execution\n",
    "print(solution)"
   ]
  },
  {
   "cell_type": "code",
   "execution_count": 14,
   "metadata": {
    "slideshow": {
     "slide_type": "fragment"
    }
   },
   "outputs": [
    {
     "data": {
      "text/plain": [
       "18"
      ]
     },
     "execution_count": 14,
     "metadata": {},
     "output_type": "execute_result"
    }
   ],
   "source": [
    "solution = (lambda a,b,c:a+b+c)\n",
    "solution(5,6,7)"
   ]
  },
  {
   "cell_type": "markdown",
   "metadata": {
    "slideshow": {
     "slide_type": "subslide"
    }
   },
   "source": [
    "### In most cases, lambda functions aren't necessary and can be replaced by other methods.  I just want you to be aware of them because you will see them occasionally while looking at code online."
   ]
  },
  {
   "cell_type": "markdown",
   "metadata": {
    "slideshow": {
     "slide_type": "slide"
    }
   },
   "source": [
    "## Regex"
   ]
  },
  {
   "cell_type": "markdown",
   "metadata": {
    "slideshow": {
     "slide_type": "fragment"
    }
   },
   "source": [
    "### Regexing is a structured way to search data.  We could spend weeks (that we don't have) on just this topic.  For now, I just want to make you aware of it and get a bit of practice so you can be more comfortable with the concept"
   ]
  },
  {
   "cell_type": "markdown",
   "metadata": {
    "slideshow": {
     "slide_type": "fragment"
    }
   },
   "source": [
    "### Let's start by using the re library to find some words in a string of text"
   ]
  },
  {
   "cell_type": "code",
   "execution_count": 15,
   "metadata": {
    "slideshow": {
     "slide_type": "subslide"
    }
   },
   "outputs": [
    {
     "name": "stdout",
     "output_type": "stream",
     "text": [
      "<re.Match object; span=(0, 3), match='You'>\n",
      "<re.Match object; span=(17, 27), match='understand'>\n",
      "None\n"
     ]
    }
   ],
   "source": [
    "import re # Need to import the regex library\n",
    "search_string = \"You never really understand a person until you consider things from his point of view\"\n",
    "x = re.search(\"You\",search_string) # Will only return the first result and is case sensitive\n",
    "print(x)\n",
    "z = re.search(\"understand\", search_string)\n",
    "print(z)\n",
    "y = re.search(\"whatever\",search_string)\n",
    "print(y)"
   ]
  },
  {
   "cell_type": "markdown",
   "metadata": {
    "slideshow": {
     "slide_type": "subslide"
    }
   },
   "source": [
    "### Now let's use some simple regex characters to find all the letters t in the same string and return it and the three characters after it"
   ]
  },
  {
   "cell_type": "code",
   "execution_count": 17,
   "metadata": {
    "slideshow": {
     "slide_type": "fragment"
    }
   },
   "outputs": [
    {
     "name": "stdout",
     "output_type": "stream",
     "text": [
      "['tand', 'til ', 'thin', 't of']\n",
      "You never really understand a person until you consider things from his point of view\n"
     ]
    }
   ],
   "source": [
    "word_list = re.findall(\"t...\",search_string)\n",
    "print (word_list)\n",
    "print(search_string)"
   ]
  },
  {
   "cell_type": "markdown",
   "metadata": {
    "slideshow": {
     "slide_type": "subslide"
    }
   },
   "source": [
    "### I didn't like those ones that had a space in it.  Lets change it to only return if there are three letter characters after the \"t\" "
   ]
  },
  {
   "cell_type": "code",
   "execution_count": 19,
   "metadata": {
    "slideshow": {
     "slide_type": "fragment"
    }
   },
   "outputs": [
    {
     "name": "stdout",
     "output_type": "stream",
     "text": [
      "['tand', 'thin']\n",
      "You never really understand a person until you consider things from his point of view\n"
     ]
    }
   ],
   "source": [
    "word_list = re.findall(\"t[\\S][\\S][\\S]\",search_string)\n",
    "print (word_list)\n",
    "print(search_string)"
   ]
  },
  {
   "cell_type": "markdown",
   "metadata": {
    "slideshow": {
     "slide_type": "subslide"
    }
   },
   "source": [
    "### We can also split that string up into a list of words "
   ]
  },
  {
   "cell_type": "code",
   "execution_count": 20,
   "metadata": {
    "slideshow": {
     "slide_type": "fragment"
    }
   },
   "outputs": [
    {
     "name": "stdout",
     "output_type": "stream",
     "text": [
      "['You', 'never', 'really', 'understand', 'a', 'person', 'until', 'you', 'consider', 'things', 'from', 'his', 'point', 'of', 'view']\n"
     ]
    }
   ],
   "source": [
    "split_string = re.split(\"\\s\",search_string)\n",
    "print (split_string)       "
   ]
  },
  {
   "cell_type": "markdown",
   "metadata": {
    "slideshow": {
     "slide_type": "subslide"
    }
   },
   "source": [
    "### Now let's pull some text out of the original string.  Let's remove the words \"you\", \"a\", and \"of\" and assign the string to a new variable"
   ]
  },
  {
   "cell_type": "code",
   "execution_count": 22,
   "metadata": {
    "slideshow": {
     "slide_type": "fragment"
    }
   },
   "outputs": [
    {
     "name": "stdout",
     "output_type": "stream",
     "text": [
      "You never really understand a person until you consider things from his point of view\n",
      " never really understand person until  consider things from his point view\n"
     ]
    }
   ],
   "source": [
    "updated_search_string = re.sub(\" you | a | of \",\" \",search_string,flags=re.IGNORECASE)\n",
    "print (search_string)\n",
    "print (updated_search_string)"
   ]
  },
  {
   "cell_type": "code",
   "execution_count": 26,
   "metadata": {},
   "outputs": [
    {
     "name": "stdout",
     "output_type": "stream",
     "text": [
      "my list of words \n"
     ]
    }
   ],
   "source": [
    "list1 = [\"my\",\"list\",\"of\",\"words\"]\n",
    "stuck_together = \"\"\n",
    "for item in list1:\n",
    "    stuck_together += item + \" \"\n",
    "print (stuck_together)"
   ]
  }
 ],
 "metadata": {
  "celltoolbar": "Slideshow",
  "kernelspec": {
   "display_name": "Python 3",
   "language": "python",
   "name": "python3"
  },
  "language_info": {
   "codemirror_mode": {
    "name": "ipython",
    "version": 3
   },
   "file_extension": ".py",
   "mimetype": "text/x-python",
   "name": "python",
   "nbconvert_exporter": "python",
   "pygments_lexer": "ipython3",
   "version": "3.7.6"
  }
 },
 "nbformat": 4,
 "nbformat_minor": 2
}
