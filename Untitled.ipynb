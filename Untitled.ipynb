{
 "cells": [
  {
   "cell_type": "code",
   "execution_count": 3,
   "metadata": {},
   "outputs": [],
   "source": [
    "def season_outside(season_input,temp):\n",
    "    if season_input == 'spring':\n",
    "        if temp == \"yes\":\n",
    "            return \"stay inside\"\n",
    "        if temp ==\"no\":\n",
    "            return \"go outside\"\n",
    "    elif season_input == 'summer':\n",
    "        if temp == \"yes\":\n",
    "            return \"stay inside\"\n",
    "        if temp ==\"no\":\n",
    "            return \"go outside\"\n",
    "    elif season_input == 'fall':\n",
    "        if temp == \"yes\":\n",
    "            return \"stay inside\"\n",
    "        if temp ==\"no\":\n",
    "            return \"go outside\"\n",
    "    elif season_input == 'winter':\n",
    "        if temp == \"yes\":\n",
    "            return \"stay inside\"\n",
    "        if temp ==\"no\":\n",
    "            return \"go outside\"\n",
    "    else:\n",
    "        return \"bad input\""
   ]
  },
  {
   "cell_type": "code",
   "execution_count": 4,
   "metadata": {},
   "outputs": [
    {
     "name": "stdout",
     "output_type": "stream",
     "text": [
      "what season is it?:winter\n",
      "yes/no, is it cold?:no\n",
      "go outside\n"
     ]
    }
   ],
   "source": [
    "user_season = input(\"what season is it?:\")\n",
    "user_weather = input(\"yes/no, is it cold?:\")\n",
    "print(season_outside(user_season,user_weather))"
   ]
  },
  {
   "cell_type": "code",
   "execution_count": 6,
   "metadata": {},
   "outputs": [],
   "source": [
    "def what_to_do(user_input_math_type,value1,value2):\n",
    "    if user_input_math_type == \"addition\":\n",
    "        return (value1+value2)\n",
    "    elif user_input_math_type == \"subtraction\":\n",
    "        return (value1 - value2)"
   ]
  },
  {
   "cell_type": "code",
   "execution_count": 7,
   "metadata": {},
   "outputs": [
    {
     "name": "stdout",
     "output_type": "stream",
     "text": [
      "9\n",
      "-1\n"
     ]
    }
   ],
   "source": [
    "print(what_to_do(\"addition\",4,5))\n",
    "print(what_to_do(\"subtraction\",4,5))"
   ]
  }
 ],
 "metadata": {
  "kernelspec": {
   "display_name": "Python 3",
   "language": "python",
   "name": "python3"
  },
  "language_info": {
   "codemirror_mode": {
    "name": "ipython",
    "version": 3
   },
   "file_extension": ".py",
   "mimetype": "text/x-python",
   "name": "python",
   "nbconvert_exporter": "python",
   "pygments_lexer": "ipython3",
   "version": "3.7.6"
  }
 },
 "nbformat": 4,
 "nbformat_minor": 4
}
