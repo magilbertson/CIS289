{
 "cells": [
  {
   "cell_type": "markdown",
   "metadata": {},
   "source": [
    "### Data Types\n"
   ]
  },
  {
   "cell_type": "code",
   "execution_count": null,
   "metadata": {},
   "outputs": [],
   "source": [
    "# integer\n",
    "my_number = 7\n",
    "print(type(my_number))"
   ]
  },
  {
   "cell_type": "code",
   "execution_count": null,
   "metadata": {
    "scrolled": true
   },
   "outputs": [],
   "source": [
    "# float\n",
    "my_number = 9.5\n",
    "print(type(my_number))"
   ]
  },
  {
   "cell_type": "code",
   "execution_count": null,
   "metadata": {
    "scrolled": true
   },
   "outputs": [],
   "source": [
    "# complex\n",
    "my_number = 5 + 7j\n",
    "print(type(my_number))"
   ]
  },
  {
   "cell_type": "code",
   "execution_count": null,
   "metadata": {},
   "outputs": [],
   "source": [
    "# string\n",
    "my_word = \"whatever\"\n",
    "print(type(my_word))"
   ]
  },
  {
   "cell_type": "code",
   "execution_count": null,
   "metadata": {},
   "outputs": [],
   "source": [
    "# bool\n",
    "this_is_all_review = True\n",
    "print (type(this_is_all_review))"
   ]
  },
  {
   "cell_type": "code",
   "execution_count": null,
   "metadata": {
    "scrolled": true
   },
   "outputs": [],
   "source": [
    "# list\n",
    "my_words = [\"a\", \"list\", \"of\", 5, \"items\"]\n",
    "print(type(my_words))"
   ]
  },
  {
   "cell_type": "code",
   "execution_count": null,
   "metadata": {},
   "outputs": [],
   "source": [
    "# tuple\n",
    "more_things = (\"what\", \"belongs\", \"in\", 34556, \"this\", \"tuple\")\n",
    "print(type(more_things))"
   ]
  },
  {
   "cell_type": "code",
   "execution_count": null,
   "metadata": {},
   "outputs": [],
   "source": [
    "# dictionary\n",
    "people = {\"man\":\"adult\", \"woman\":\"adult\", \"boy\":\"child\", \"girl\":\"child\", \"dog\":\"animal\",\"familysize\": 5}\n",
    "print(type(people))"
   ]
  },
  {
   "cell_type": "markdown",
   "metadata": {},
   "source": [
    "### IF/ELSE/ELIF"
   ]
  },
  {
   "cell_type": "code",
   "execution_count": null,
   "metadata": {},
   "outputs": [],
   "source": [
    "this_is_easy=True\n",
    "if this_is_easy == False:\n",
    "    print(\"You need to review on your own quickly\")\n",
    "else:\n",
    "    print(\"Practice anyway :)\")"
   ]
  },
  {
   "cell_type": "code",
   "execution_count": null,
   "metadata": {},
   "outputs": [],
   "source": [
    "my_number = 7\n",
    "if my_number < 3:\n",
    "    print(\"the number is less than 3\")\n",
    "elif my_number <= 6:\n",
    "    print(\"the number is less than or equal to 6\")\n",
    "else:\n",
    "    print(\"the number is bigger than 6\")"
   ]
  },
  {
   "cell_type": "code",
   "execution_count": null,
   "metadata": {},
   "outputs": [],
   "source": [
    "i_need_a_number = \"not giving one\"\n",
    "try:\n",
    "    my_math = 17 + i_need_a_number\n",
    "except:\n",
    "    print(\"Something has gone horribly wrong...\")"
   ]
  },
  {
   "cell_type": "code",
   "execution_count": null,
   "metadata": {},
   "outputs": [],
   "source": [
    "user_number = input(\"Give me a number and it will be used to divide 10: \")\n",
    "try:\n",
    "    result = 10/int(user_number)\n",
    "except ValueError:\n",
    "    result = \"You didn't give me a number\"\n",
    "except ZeroDivisionError:\n",
    "    result = \"Your number made me divide by zero\"\n",
    "else:\n",
    "    print(\"Thanks for the good number\")\n",
    "finally:\n",
    "    print (result)"
   ]
  },
  {
   "cell_type": "markdown",
   "metadata": {},
   "source": [
    "### FOR/WHILE/RANGE"
   ]
  },
  {
   "cell_type": "code",
   "execution_count": null,
   "metadata": {},
   "outputs": [],
   "source": [
    "num_of_as = 0\n",
    "my_string_of_words = \"It was the best of times, it was the worst of times, it was the age of wisdom, it was the age of foolishness\"\n",
    "for letter in my_string_of_words:\n",
    "    if letter == \"a\":\n",
    "        num_of_as += 1\n",
    "print (num_of_as)"
   ]
  },
  {
   "cell_type": "code",
   "execution_count": null,
   "metadata": {},
   "outputs": [],
   "source": [
    "sum_up = 0\n",
    "for z in range(0,101,2):\n",
    "    sum_up += z\n",
    "    \n",
    "print(sum_up)"
   ]
  },
  {
   "cell_type": "code",
   "execution_count": null,
   "metadata": {},
   "outputs": [],
   "source": [
    "current_num = 0\n",
    "sum_up = 0\n",
    "while current_num <= 100:\n",
    "    sum_up += current_num \n",
    "    current_num += 2\n",
    "print(sum_up)"
   ]
  },
  {
   "cell_type": "code",
   "execution_count": null,
   "metadata": {},
   "outputs": [],
   "source": [
    "bad_input = True\n",
    "while bad_input == True:\n",
    "    try:\n",
    "        user_input = int(input(\"Please enter a number: \"))\n",
    "    except:\n",
    "        print(\"That's not a number.  Try again.\")\n",
    "    else:\n",
    "        bad_input = False\n",
    "print(\"Thank you for entering the number \", user_input)\n",
    "        "
   ]
  },
  {
   "cell_type": "markdown",
   "metadata": {},
   "source": [
    "### Functions"
   ]
  },
  {
   "cell_type": "code",
   "execution_count": null,
   "metadata": {},
   "outputs": [],
   "source": [
    "def double_number(orig_number):\n",
    "    print(orig_number*2)\n",
    "    \n",
    "double_number(7)\n",
    "double_number(4.7)\n",
    "    "
   ]
  },
  {
   "cell_type": "code",
   "execution_count": null,
   "metadata": {},
   "outputs": [],
   "source": [
    "def square_it(orig_number):\n",
    "    return(orig_number**2)\n",
    "\n",
    "user_number = int(input(\"Enter a small integer\"))\n",
    "\n",
    "while len(str(user_number))<7:\n",
    "    user_number = square_it(user_number)\n",
    "print(\"The smallest 7 digit number square is \", user_number)\n",
    "    "
   ]
  },
  {
   "cell_type": "markdown",
   "metadata": {},
   "source": [
    "### Object Oriented Programming"
   ]
  },
  {
   "cell_type": "code",
   "execution_count": null,
   "metadata": {},
   "outputs": [],
   "source": [
    "class Boat:\n",
    "    def __init__(self, style, motor_type, size):\n",
    "        self.style = style\n",
    "        self.motor_type = motor_type\n",
    "        self.size = size"
   ]
  },
  {
   "cell_type": "code",
   "execution_count": null,
   "metadata": {},
   "outputs": [],
   "source": [
    "jet_ski = Boat(\"fast\",\"jet\",\"small\")\n",
    "pontoon = Boat(\"slow\",\"propellor\",\"large\")"
   ]
  },
  {
   "cell_type": "code",
   "execution_count": null,
   "metadata": {},
   "outputs": [],
   "source": [
    "print(jet_ski.size)\n",
    "print(pontoon.motor_type)"
   ]
  },
  {
   "cell_type": "code",
   "execution_count": null,
   "metadata": {},
   "outputs": [],
   "source": [
    "jet_ski.size = \"big\"\n",
    "print(jet_ski.size)"
   ]
  },
  {
   "cell_type": "code",
   "execution_count": null,
   "metadata": {},
   "outputs": [],
   "source": [
    "class Boat:\n",
    "    def __init__(self, style, motor_type, size):\n",
    "        self.style = style\n",
    "        self.motor_type = motor_type\n",
    "        self.size = size\n",
    "    \n",
    "    def boat_info(self):\n",
    "        return f'This boat is {self.style}. It has a {self.motor_type} motor. It is typically {self.size} in size'\n",
    "    \n",
    "    def is_it_my_size(self,size):\n",
    "        if size == self.size:\n",
    "            print(\"Yes, this is the right size\")\n",
    "        else:\n",
    "            print(\"Sorry, this is not the right size\")"
   ]
  },
  {
   "cell_type": "code",
   "execution_count": null,
   "metadata": {},
   "outputs": [],
   "source": [
    "jet_ski.boat_info()"
   ]
  },
  {
   "cell_type": "code",
   "execution_count": null,
   "metadata": {},
   "outputs": [],
   "source": [
    "jet_ski.is_it_my_size(\"small\")"
   ]
  },
  {
   "cell_type": "markdown",
   "metadata": {},
   "source": [
    "### Unit Testing"
   ]
  },
  {
   "cell_type": "code",
   "execution_count": null,
   "metadata": {},
   "outputs": [],
   "source": [
    "def my_multiply_function(number_1,number_2):\n",
    "    return number_1*number_2"
   ]
  },
  {
   "cell_type": "code",
   "execution_count": null,
   "metadata": {},
   "outputs": [],
   "source": [
    "import unittest\n",
    "\n",
    "class TestMyMath(unittest.TestCase):\n",
    "    def test_two_numbers(self):\n",
    "        self.assertEqual(my_multiply_function(5,6),30)\n",
    "\n",
    "class TestBadInputs(unittest.TestCase):\n",
    "    def test_two_letters(self):\n",
    "        with self.assertRaises(TypeError):\n",
    "            my_multiply_function(\"a\",\"b\")\n",
    "        \n",
    "if __name__ == '__main__':\n",
    "    unittest.main(argv=[''],exit=False) #This is specific to Jupyter Notebooks\n",
    "    # It would look like this in PyCharm: unittest.main()"
   ]
  },
  {
   "cell_type": "markdown",
   "metadata": {},
   "source": [
    "### Unit testing with mock"
   ]
  },
  {
   "cell_type": "code",
   "execution_count": null,
   "metadata": {},
   "outputs": [],
   "source": [
    "def user_num_divide_by_two():\n",
    "    user_num = int(input(\"Enter an integer: \"))\n",
    "    return user_num/2"
   ]
  },
  {
   "cell_type": "code",
   "execution_count": null,
   "metadata": {},
   "outputs": [],
   "source": [
    "import unittest\n",
    "import unittest.mock as mock\n",
    "\n",
    "\n",
    "class MyTestCase(unittest.TestCase):\n",
    "\n",
    "    def test_math_function(self):\n",
    "        with mock.patch('builtins.input', return_value=5):\n",
    "            assert user_num_divide_by_two() == 2.5\n",
    "   \n",
    "if __name__ == '__main__':    \n",
    "    unittest.main(argv=[''],exit=False)"
   ]
  },
  {
   "cell_type": "code",
   "execution_count": null,
   "metadata": {},
   "outputs": [],
   "source": [
    "def add_two_user_numbers():\n",
    "    user_num = float(input(\"Enter a number: \"))\n",
    "    user_num2 = float(input(\"Enter another number: \"))\n",
    "    return user_num + user_num2"
   ]
  },
  {
   "cell_type": "code",
   "execution_count": null,
   "metadata": {},
   "outputs": [],
   "source": [
    "add_two_user_numbers()"
   ]
  },
  {
   "cell_type": "code",
   "execution_count": null,
   "metadata": {},
   "outputs": [],
   "source": [
    "import unittest\n",
    "import unittest.mock as mock\n",
    "\n",
    "class MyTestCase(unittest.TestCase):\n",
    "\n",
    "    def test_addition(self):\n",
    "        with mock.patch('builtins.input', side_effect=[5,8]):\n",
    "            assert add_two_user_numbers() == 13.0\n",
    "   \n",
    "if __name__ == '__main__':    \n",
    "    unittest.main(argv=[''],exit=False)"
   ]
  },
  {
   "cell_type": "markdown",
   "metadata": {},
   "source": [
    "### SetUp and TearDown for OOP"
   ]
  },
  {
   "cell_type": "code",
   "execution_count": null,
   "metadata": {},
   "outputs": [],
   "source": [
    "class Car:\n",
    "    #Class attribute\n",
    "    purpose = \"moving things\"\n",
    "        \n",
    "    def __init__(self,vehicle_type,fuel,color):\n",
    "        self.vehicle_type = str(vehicle_type)\n",
    "        self.fuel = fuel\n",
    "        self.color = color\n",
    "    \n",
    "    # Lets look at instance methods\n",
    "    def car_description(self):\n",
    "        return \"a {} has a {} engine and is {}.\".format(self.vehicle_type,self.fuel,self.color)\n",
    "    \n",
    "    def vehicle_quality(self,state):\n",
    "        return \"My {} is {}\".format(self.vehicle_type, state)"
   ]
  },
  {
   "cell_type": "code",
   "execution_count": null,
   "metadata": {},
   "outputs": [],
   "source": [
    "my_car = Car(\"truck\",\"gas\",\"white\")\n",
    "my_car.car_description()"
   ]
  },
  {
   "cell_type": "code",
   "execution_count": null,
   "metadata": {},
   "outputs": [],
   "source": [
    "import unittest\n",
    "\n",
    "class MyOOPTestCase(unittest.TestCase):\n",
    "    def setUp(self):\n",
    "        self.fake_vehicle = Car(\"truck\",\"gas\",\"white\")\n",
    "    def tearDown(self):\n",
    "        del self.fake_vehicle\n",
    "        \n",
    "        \n",
    "    def test_car_attributes(self):\n",
    "        self.assertEqual(self.fake_vehicle.vehicle_type,\"truck\")\n",
    "        self.assertEqual(self.fake_vehicle.fuel,\"gas\")\n",
    "        self.assertEqual(self.fake_vehicle.color,\"white\")\n",
    "    def test_car_methods(self):\n",
    "        self.assertEqual(self.fake_vehicle.car_description(),\"a truck has a gas engine and is white.\")\n",
    "        self.assertEqual(self.fake_vehicle.vehicle_quality(\"great\"),\"My truck is great\")\n",
    "   \n",
    "if __name__ == '__main__':    \n",
    "    unittest.main(argv=[''],exit=False)"
   ]
  }
 ],
 "metadata": {
  "kernelspec": {
   "display_name": "Python 3",
   "language": "python",
   "name": "python3"
  },
  "language_info": {
   "codemirror_mode": {
    "name": "ipython",
    "version": 3
   },
   "file_extension": ".py",
   "mimetype": "text/x-python",
   "name": "python",
   "nbconvert_exporter": "python",
   "pygments_lexer": "ipython3",
   "version": "3.7.6"
  }
 },
 "nbformat": 4,
 "nbformat_minor": 2
}
