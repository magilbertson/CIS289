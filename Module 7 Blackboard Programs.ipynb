{
 "cells": [
  {
   "cell_type": "markdown",
   "metadata": {
    "slideshow": {
     "slide_type": "slide"
    }
   },
   "source": [
    "# Module 7: Databases!"
   ]
  },
  {
   "cell_type": "markdown",
   "metadata": {
    "slideshow": {
     "slide_type": "slide"
    }
   },
   "source": [
    "## Topic 1: Quick Overview of Databases"
   ]
  },
  {
   "cell_type": "markdown",
   "metadata": {
    "slideshow": {
     "slide_type": "fragment"
    }
   },
   "source": [
    "### This topic includes a review link for database creation and table creation.  It also has a link to DB Browser which you should download and install"
   ]
  },
  {
   "cell_type": "markdown",
   "metadata": {
    "slideshow": {
     "slide_type": "slide"
    }
   },
   "source": [
    "## Topic 2: SQLite/DB Browser and Database Creation"
   ]
  },
  {
   "cell_type": "markdown",
   "metadata": {
    "slideshow": {
     "slide_type": "fragment"
    }
   },
   "source": [
    "### In this topic, we're going to create a database and some linked tables"
   ]
  },
  {
   "cell_type": "markdown",
   "metadata": {
    "slideshow": {
     "slide_type": "fragment"
    }
   },
   "source": [
    "### First, a function to create a connection and database (if it doesn't already exist)"
   ]
  },
  {
   "cell_type": "code",
   "execution_count": null,
   "metadata": {
    "slideshow": {
     "slide_type": "subslide"
    }
   },
   "outputs": [],
   "source": [
    "import sqlite3\n",
    "from sqlite3 import Error\n",
    "\n",
    "# This function creates a database connection and database if it doesn't already exist\n",
    "def create_connection(db_file):\n",
    "    \"\"\" create a database connection to the SQLite database\n",
    "        specified by db_file\n",
    "    :param db_file: database file\n",
    "    :return: Connection object or None\n",
    "    \"\"\"\n",
    "    conn = None\n",
    "    try:\n",
    "        conn = sqlite3.connect(db_file)\n",
    "        return conn\n",
    "    except Error as e:\n",
    "        print(e)\n",
    "\n",
    "    return conn"
   ]
  },
  {
   "cell_type": "markdown",
   "metadata": {
    "slideshow": {
     "slide_type": "subslide"
    }
   },
   "source": [
    "### Now a function to create a table in the database"
   ]
  },
  {
   "cell_type": "code",
   "execution_count": null,
   "metadata": {
    "slideshow": {
     "slide_type": "fragment"
    }
   },
   "outputs": [],
   "source": [
    "def create_table(conn, create_table_sql):\n",
    "    \"\"\" create a table from the create_table_sql statement\n",
    "    :param conn: Connection object\n",
    "    :param create_table_sql: a CREATE TABLE statement\n",
    "    :return:\n",
    "    \"\"\"\n",
    "    try:\n",
    "        c = conn.cursor()\n",
    "        c.execute(create_table_sql)\n",
    "    except Error as e:\n",
    "        print(e)"
   ]
  },
  {
   "cell_type": "markdown",
   "metadata": {
    "slideshow": {
     "slide_type": "subslide"
    }
   },
   "source": [
    "### We can now use our functions to create some tables"
   ]
  },
  {
   "cell_type": "code",
   "execution_count": null,
   "metadata": {
    "slideshow": {
     "slide_type": "subslide"
    }
   },
   "outputs": [],
   "source": [
    "database = \"unemployment_by_county.db\"\n",
    "sql_create_unemployment_table = \"\"\" CREATE TABLE IF NOT EXISTS Unemployment (\n",
    "                                        year integer NOT NULL,\n",
    "                                        unemployment_rate real,\n",
    "                                        county text,\n",
    "                                        FOREIGN KEY (county) \n",
    "                                            REFERENCES County_data (county)\n",
    "                                    ); \"\"\"\n",
    "\n",
    "sql_create_county_data_table = \"\"\"CREATE TABLE IF NOT EXISTS County_data (\n",
    "                                    county text PRIMARY KEY,\n",
    "                                    mhi real NOT NULL\n",
    "                                );\"\"\"\n",
    "\n",
    "# create a database connection and database if it doesn't already exist\n",
    "conn = create_connection(database)\n",
    "\n",
    "# create tables\n",
    "if conn is not None:\n",
    "    # create County_data table\n",
    "    create_table(conn, sql_create_county_data_table)\n",
    "\n",
    "    # create Unemployment table\n",
    "    create_table(conn, sql_create_unemployment_table)\n",
    "else:\n",
    "    print(\"Error! cannot create the database connection.\")"
   ]
  },
  {
   "cell_type": "markdown",
   "metadata": {
    "slideshow": {
     "slide_type": "subslide"
    }
   },
   "source": [
    "### With our tables created, we can pull in some info to have a look at it"
   ]
  },
  {
   "cell_type": "code",
   "execution_count": null,
   "metadata": {
    "slideshow": {
     "slide_type": "subslide"
    }
   },
   "outputs": [],
   "source": [
    "cur = conn.cursor()\n",
    "meta = cur.execute(\"PRAGMA table_info('Unemployment')\")\n",
    "for r in meta:\n",
    "    print(r)"
   ]
  },
  {
   "cell_type": "markdown",
   "metadata": {
    "slideshow": {
     "slide_type": "subslide"
    }
   },
   "source": [
    "### This code will give us a list of the tables and columns"
   ]
  },
  {
   "cell_type": "code",
   "execution_count": null,
   "metadata": {
    "slideshow": {
     "slide_type": "subslide"
    }
   },
   "outputs": [],
   "source": [
    "# Code pulled/modified from https://stackoverflow.com/questions/305378/list-of-tables-db-schema-dump-etc-using-the-python-sqlite3-api\n",
    "# Using with command to automatically close the connection\n",
    "\n",
    "with sqlite3.connect('unemployment_by_county.db') as db:\n",
    "    newline_indent = '\\n   '\n",
    "   \n",
    "    cur = db.cursor()\n",
    "\n",
    "    result = cur.execute(\"SELECT name FROM sqlite_master WHERE type='table';\").fetchall()\n",
    "    table_names = sorted(list(zip(*result))[0])\n",
    "    print (\"\\ntables are:\"+newline_indent+newline_indent.join(table_names))\n",
    "\n",
    "    for table_name in table_names:\n",
    "        result = cur.execute(\"PRAGMA table_info('%s')\" % table_name).fetchall()\n",
    "        column_names = list(zip(*result))[1]\n",
    "        print ((\"\\ncolumn names for %s:\" % table_name)\n",
    "               +newline_indent\n",
    "               +(newline_indent.join(column_names)))"
   ]
  },
  {
   "cell_type": "markdown",
   "metadata": {
    "slideshow": {
     "slide_type": "subslide"
    }
   },
   "source": [
    "### We could also utilize DB Browser to get a GUI view of the database.  I suggest this because it's much easier to see your database structure this way."
   ]
  },
  {
   "cell_type": "markdown",
   "metadata": {
    "slideshow": {
     "slide_type": "slide"
    }
   },
   "source": [
    "## Topic 3: CRUD (Create/Read)"
   ]
  },
  {
   "cell_type": "markdown",
   "metadata": {
    "slideshow": {
     "slide_type": "fragment"
    }
   },
   "source": [
    "### Since we've got our tables created, we should probably put some data in.  Let's grab some data and bring it into our tables"
   ]
  },
  {
   "cell_type": "code",
   "execution_count": null,
   "metadata": {
    "slideshow": {
     "slide_type": "subslide"
    }
   },
   "outputs": [],
   "source": [
    "import csv\n",
    "database = 'unemployment_by_county.db'\n",
    "conn = create_connection(database)\n",
    "cur = conn.cursor()\n",
    "\n",
    "with open('Median_house_income_by_county.csv','r') as input_file:\n",
    "    data = csv.DictReader(input_file)\n",
    "#    print(data)\n",
    "    to_db = [(i['county'],i['Median Household Income']) for i in data]\n",
    "#    print(to_db)\n",
    "    \n",
    "    to_db_cty = [item[0] for item in to_db]\n",
    "    for x in range(0,len(to_db)):\n",
    "        to_db_cty[x]=tuple([to_db_cty[x],to_db[x][1]])\n",
    "print(to_db_cty)\n",
    "        \n",
    "with open('Unemployment_by_county.csv','r') as input_file:\n",
    "    data = csv.DictReader(input_file)\n",
    "    to_db = [(i['year'],i['unemployment rate'],i['county']) for i in data]\n",
    "    \n",
    "     \n",
    "    to_db_data_insert = [[] for item in to_db]\n",
    "    for x in range(0,len(to_db)):\n",
    "        to_db_data_insert[x] = tuple([to_db[x][0],to_db[x][1],to_db[x][2]])\n",
    "        \n",
    "print (to_db)\n",
    "print (to_db_data_insert)\n",
    "\n",
    "cur.executemany(\"REPLACE INTO County_data (county,mhi) VALUES (?, ?);\", to_db_cty)\n",
    "cur.executemany(\"REPLACE INTO Unemployment (year, unemployment_rate, county) VALUES (?,?,?)\",to_db_data_insert)\n",
    "conn.commit()\n",
    "conn.close()"
   ]
  },
  {
   "cell_type": "markdown",
   "metadata": {
    "slideshow": {
     "slide_type": "subslide"
    }
   },
   "source": [
    "### We now have our data loaded into the database.  Let's bring it into our program into a dataframe so we can work with it"
   ]
  },
  {
   "cell_type": "code",
   "execution_count": null,
   "metadata": {
    "slideshow": {
     "slide_type": "fragment"
    }
   },
   "outputs": [],
   "source": [
    "import pandas as pd\n",
    "unemployment_df = pd.read_sql_query(\"SELECT * FROM Unemployment\",sqlite3.connect('unemployment_by_county.db'))"
   ]
  },
  {
   "cell_type": "code",
   "execution_count": null,
   "metadata": {
    "slideshow": {
     "slide_type": "subslide"
    }
   },
   "outputs": [],
   "source": [
    "print(unemployment_df.head(5))"
   ]
  },
  {
   "cell_type": "markdown",
   "metadata": {
    "slideshow": {
     "slide_type": "subslide"
    }
   },
   "source": [
    "### BTW, if you accidentally added too much or repetitive data into your table, here's how to delete it all quickly"
   ]
  },
  {
   "cell_type": "code",
   "execution_count": null,
   "metadata": {
    "slideshow": {
     "slide_type": "fragment"
    }
   },
   "outputs": [],
   "source": [
    "database = 'unemployment_by_county.db'\n",
    "conn = create_connection(database)\n",
    "cur = conn.cursor()\n",
    "\n",
    "cur.execute(\"DELETE FROM Unemployment\")\n",
    "\n",
    "conn.commit()\n",
    "conn.close()"
   ]
  },
  {
   "cell_type": "markdown",
   "metadata": {
    "slideshow": {
     "slide_type": "subslide"
    }
   },
   "source": [
    "### Let's create a visual now that our data is in a dataframe"
   ]
  },
  {
   "cell_type": "code",
   "execution_count": null,
   "metadata": {
    "slideshow": {
     "slide_type": "subslide"
    }
   },
   "outputs": [],
   "source": [
    "import matplotlib.pyplot as plt\n",
    "\n",
    "data_polk = unemployment_df[unemployment_df['county'] == \"Polk\"]\n",
    "data_polk.sort_values('year',inplace=True)\n",
    "plot_y_polk = list(data_polk['unemployment_rate'])\n",
    "\n",
    "data_dallas = unemployment_df[unemployment_df['county'] == \"Dallas\"]\n",
    "data_dallas.sort_values('year',inplace=True)\n",
    "plot_y_dallas = list(data_dallas['unemployment_rate'])\n",
    "\n",
    "data_scott = unemployment_df[unemployment_df['county'] == \"Scott\"]\n",
    "data_scott.sort_values('year',inplace=True)\n",
    "plot_y_scott = list(data_scott['unemployment_rate'])\n",
    "\n",
    "plot_x = list(data_polk['year'])\n",
    "print(plot_x)"
   ]
  },
  {
   "cell_type": "code",
   "execution_count": null,
   "metadata": {
    "slideshow": {
     "slide_type": "subslide"
    }
   },
   "outputs": [],
   "source": [
    "ax = plt.subplot(111)\n",
    "plt.rcParams['figure.dpi'] = 250\n",
    "\n",
    "ax.plot(plot_x, plot_y_polk, color='b',label=\"Polk County, IA\")\n",
    "ax.plot(plot_x, plot_y_dallas, color='r',label = \"Dallas County, IA\")\n",
    "ax.plot(plot_x, plot_y_scott, color='g',label = \"Scott County, IA\")\n",
    "\n",
    "ax.axes.set_xticks(plot_x)\n",
    "ax.axes.set_xticklabels(plot_x,rotation = 45,ha ='right',Fontsize=5)\n",
    "ax.legend()\n",
    "ax.title.set_text('Unemployment Rate in Polk, Dallas, and Scott County, IA')\n"
   ]
  },
  {
   "cell_type": "markdown",
   "metadata": {
    "slideshow": {
     "slide_type": "slide"
    }
   },
   "source": [
    "## Topic 4: Update/Delete Operations"
   ]
  },
  {
   "cell_type": "markdown",
   "metadata": {
    "slideshow": {
     "slide_type": "fragment"
    }
   },
   "source": [
    "### For the assignment on this topic, you're asked to create a database copy before making updates because you need to submit the database before making your changes.  \n",
    "### While there are ways to do this in Python (and you are welcome to do this if you want), it's easier to make your copy from a directory view on your computer "
   ]
  },
  {
   "cell_type": "markdown",
   "metadata": {
    "slideshow": {
     "slide_type": "subslide"
    }
   },
   "source": [
    "### First, we want to read in the county median income data and convert them to monthly"
   ]
  },
  {
   "cell_type": "code",
   "execution_count": null,
   "metadata": {
    "slideshow": {
     "slide_type": "fragment"
    }
   },
   "outputs": [],
   "source": [
    "database = 'unemployment_by_county.db'\n",
    "conn = create_connection(database)\n",
    "cur = conn.cursor()\n",
    "\n",
    "with sqlite3.connect('unemployment_by_county.db') as db:\n",
    "    income_in_years = conn.execute('SELECT mhi,county FROM County_data').fetchall()\n",
    "print(income_in_years)\n",
    "conn.close()"
   ]
  },
  {
   "cell_type": "markdown",
   "metadata": {
    "slideshow": {
     "slide_type": "subslide"
    }
   },
   "source": [
    "### You can see that I get a list of tuples this way, which is the how data comes from SQLite normally.  Now to convert to months and prepare to insert back into the database"
   ]
  },
  {
   "cell_type": "code",
   "execution_count": null,
   "metadata": {
    "slideshow": {
     "slide_type": "fragment"
    }
   },
   "outputs": [],
   "source": [
    "income_in_months = []\n",
    "for incrementer in range(0,3):\n",
    "    income_in_months.append((round(income_in_years[incrementer][0]/12,2),income_in_years[incrementer][1]))\n",
    "print(income_in_months)"
   ]
  },
  {
   "cell_type": "markdown",
   "metadata": {
    "slideshow": {
     "slide_type": "subslide"
    }
   },
   "source": [
    "### Let's put it back into the database column"
   ]
  },
  {
   "cell_type": "code",
   "execution_count": null,
   "metadata": {
    "slideshow": {
     "slide_type": "fragment"
    }
   },
   "outputs": [],
   "source": [
    "database = 'unemployment_by_county.db'\n",
    "conn = create_connection(database)\n",
    "cur = conn.cursor()\n",
    "\n",
    "with sqlite3.connect(database) as db: \n",
    "\n",
    "    conn.executemany('UPDATE County_data SET mhi=? WHERE county=?',income_in_months)\n",
    "conn.commit()\n",
    "conn.close()"
   ]
  },
  {
   "cell_type": "markdown",
   "metadata": {
    "slideshow": {
     "slide_type": "subslide"
    }
   },
   "source": [
    "### Now I've realized that I need to change my year by 1 because I was off by 1 year.  We need to decrement by 1 year"
   ]
  },
  {
   "cell_type": "markdown",
   "metadata": {
    "slideshow": {
     "slide_type": "subslide"
    }
   },
   "source": [
    "### I'll first bring the current year column in from the database\n"
   ]
  },
  {
   "cell_type": "code",
   "execution_count": null,
   "metadata": {
    "slideshow": {
     "slide_type": "fragment"
    }
   },
   "outputs": [],
   "source": [
    "database = 'unemployment_by_county.db'\n",
    "conn = create_connection(database)\n",
    "cur = conn.cursor()\n",
    "\n",
    "with sqlite3.connect('unemployment_by_county.db') as db:\n",
    "    old_year = conn.execute('SELECT year,county FROM Unemployment').fetchall()\n",
    "print(old_year)"
   ]
  },
  {
   "cell_type": "markdown",
   "metadata": {
    "slideshow": {
     "slide_type": "subslide"
    }
   },
   "source": [
    "### I'm now going to make a list of tuples that have the new date and the old date next to it\n",
    "### This step is to confirm that I have my date shifting correct"
   ]
  },
  {
   "cell_type": "code",
   "execution_count": null,
   "metadata": {
    "slideshow": {
     "slide_type": "fragment"
    }
   },
   "outputs": [],
   "source": [
    "new_year_old_year = []\n",
    "for incrementer in range(0,27):\n",
    "    new_year_old_year.append((int(old_year[incrementer][0]) - 1,old_year[incrementer][0],old_year[incrementer][1]))\n",
    "print(new_year_old_year)"
   ]
  },
  {
   "cell_type": "markdown",
   "metadata": {
    "slideshow": {
     "slide_type": "subslide"
    }
   },
   "source": [
    "### I've got my new year and old year set up correctly.  Now I need new year and old year/county so I can overwrite the column in my database"
   ]
  },
  {
   "cell_type": "code",
   "execution_count": null,
   "metadata": {
    "slideshow": {
     "slide_type": "subslide"
    }
   },
   "outputs": [],
   "source": [
    "database = 'unemployment_by_county.db'\n",
    "conn = create_connection(database)\n",
    "cur = conn.cursor()\n",
    "\n",
    "#with sqlite3.connect('weather_tracking.db') as db:    \n",
    "conn.executemany('UPDATE Unemployment SET year=? WHERE year=? AND county=?',(new_year_old_year))\n",
    "conn.commit()\n",
    "conn.close()"
   ]
  },
  {
   "cell_type": "markdown",
   "metadata": {
    "slideshow": {
     "slide_type": "subslide"
    }
   },
   "source": [
    "### With my data updated, I now realize that I don't want the Dallas County data anymore.  We need to delete any rows in Unemployment where County is Dallas.  We'll also need to delete the corresponding row in the County_data table"
   ]
  },
  {
   "cell_type": "code",
   "execution_count": null,
   "metadata": {
    "slideshow": {
     "slide_type": "subslide"
    }
   },
   "outputs": [],
   "source": [
    "database = 'unemployment_by_county.db'\n",
    "conn = create_connection(database)\n",
    "cur = conn.cursor()\n",
    "\n",
    "conn.execute('DELETE FROM Unemployment WHERE county=\"Dallas\"')\n",
    "conn.execute('DELETE FROM County_data WHERE county = \"Dallas\"')\n",
    "conn.commit()\n",
    "conn.close()"
   ]
  }
 ],
 "metadata": {
  "celltoolbar": "Slideshow",
  "kernelspec": {
   "display_name": "Python 3",
   "language": "python",
   "name": "python3"
  },
  "language_info": {
   "codemirror_mode": {
    "name": "ipython",
    "version": 3
   },
   "file_extension": ".py",
   "mimetype": "text/x-python",
   "name": "python",
   "nbconvert_exporter": "python",
   "pygments_lexer": "ipython3",
   "version": "3.7.9"
  }
 },
 "nbformat": 4,
 "nbformat_minor": 4
}
