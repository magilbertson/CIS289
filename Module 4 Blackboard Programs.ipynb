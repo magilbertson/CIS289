{
 "cells": [
  {
   "cell_type": "markdown",
   "metadata": {
    "slideshow": {
     "slide_type": "slide"
    }
   },
   "source": [
    "# Module 4 -  NumPy Wrap-up and Pandas"
   ]
  },
  {
   "cell_type": "markdown",
   "metadata": {
    "slideshow": {
     "slide_type": "slide"
    }
   },
   "source": [
    "## Topic 1 - NumPy in 3D!"
   ]
  },
  {
   "cell_type": "markdown",
   "metadata": {
    "slideshow": {
     "slide_type": "fragment"
    }
   },
   "source": [
    "### Last week we did a bunch of NumPy 2D array work.  NumPy can be used in 3D and beyond.  To demonstrate, I created a (im)practical example using 3D "
   ]
  },
  {
   "cell_type": "markdown",
   "metadata": {
    "slideshow": {
     "slide_type": "fragment"
    }
   },
   "source": [
    "### In this example we are loading some simple ASCII text art into a 3D array so we can output it based on a user's input"
   ]
  },
  {
   "cell_type": "code",
   "execution_count": 1,
   "metadata": {
    "slideshow": {
     "slide_type": "subslide"
    }
   },
   "outputs": [
    {
     "name": "stdout",
     "output_type": "stream",
     "text": [
      "[['.' '.' '.' '.' '.' '.' '.' '.']\n",
      " ['.' '.' '.' '#' '#' '.' '.' '.']\n",
      " ['.' '.' '#' '.' '.' '#' '.' '.']\n",
      " ['.' '#' '.' '.' '.' '.' '#' '.']\n",
      " ['.' '#' '#' '#' '#' '#' '#' '.']\n",
      " ['.' '#' '.' '.' '.' '.' '#' '.']\n",
      " ['.' '#' '.' '.' '.' '.' '#' '.']\n",
      " ['.' '.' '.' '.' '.' '.' '.' '.']]\n",
      "[['.' '.' '.' '.' '.' '.' '.' '.']\n",
      " ['.' '#' '#' '#' '#' '#' '.' '.']\n",
      " ['.' '#' '.' '.' '.' '.' '#' '.']\n",
      " ['.' '#' '#' '#' '#' '#' '.' '.']\n",
      " ['.' '#' '.' '.' '.' '.' '#' '.']\n",
      " ['.' '#' '.' '.' '.' '.' '#' '.']\n",
      " ['.' '#' '#' '#' '#' '#' '.' '.']\n",
      " ['.' '.' '.' '.' '.' '.' '.' '.']]\n",
      "[['.' '.' '.' '.' '.' '.' '.' '.']\n",
      " ['.' '.' '#' '#' '#' '#' '.' '.']\n",
      " ['.' '#' '.' '.' '.' '.' '#' '.']\n",
      " ['.' '#' '.' '.' '.' '.' '.' '.']\n",
      " ['.' '#' '.' '.' '.' '.' '.' '.']\n",
      " ['.' '#' '.' '.' '.' '.' '#' '.']\n",
      " ['.' '.' '#' '#' '#' '#' '.' '.']\n",
      " ['.' '.' '.' '.' '.' '.' '.' '.']]\n",
      "[['.' '.' '.' '.' '.' '.' '.' '.']\n",
      " ['.' '#' '#' '#' '#' '#' '.' '.']\n",
      " ['.' '#' '.' '.' '.' '.' '#' '.']\n",
      " ['.' '#' '.' '.' '.' '.' '#' '.']\n",
      " ['.' '#' '.' '.' '.' '.' '#' '.']\n",
      " ['.' '#' '.' '.' '.' '.' '#' '.']\n",
      " ['.' '#' '#' '#' '#' '#' '.' '.']\n",
      " ['.' '.' '.' '.' '.' '.' '.' '.']]\n",
      "[['.' '.' '.' '.' '.' '.' '.' '.']\n",
      " ['.' '#' '#' '#' '#' '#' '#' '.']\n",
      " ['.' '#' '.' '.' '.' '.' '.' '.']\n",
      " ['.' '#' '#' '#' '#' '#' '.' '.']\n",
      " ['.' '#' '.' '.' '.' '.' '.' '.']\n",
      " ['.' '#' '.' '.' '.' '.' '.' '.']\n",
      " ['.' '#' '#' '#' '#' '#' '#' '.']\n",
      " ['.' '.' '.' '.' '.' '.' '.' '.']]\n",
      "[['.' '.' '.' '.' '.' '.' '.' '.']\n",
      " ['.' '#' '#' '#' '#' '#' '#' '.']\n",
      " ['.' '#' '.' '.' '.' '.' '.' '.']\n",
      " ['.' '#' '#' '#' '#' '#' '.' '.']\n",
      " ['.' '#' '.' '.' '.' '.' '.' '.']\n",
      " ['.' '#' '.' '.' '.' '.' '.' '.']\n",
      " ['.' '#' '.' '.' '.' '.' '.' '.']\n",
      " ['.' '.' '.' '.' '.' '.' '.' '.']]\n",
      "[['.' '.' '.' '.' '.' '.' '.' '.']\n",
      " ['.' '.' '#' '#' '#' '#' '.' '.']\n",
      " ['.' '#' '.' '.' '.' '.' '#' '.']\n",
      " ['.' '#' '.' '.' '.' '.' '.' '.']\n",
      " ['.' '#' '.' '.' '#' '#' '#' '.']\n",
      " ['.' '#' '.' '.' '.' '.' '#' '.']\n",
      " ['.' '.' '#' '#' '#' '#' '.' '.']\n",
      " ['.' '.' '.' '.' '.' '.' '.' '.']]\n",
      "[['.' '.' '.' '.' '.' '.' '.' '.']\n",
      " ['.' '#' '.' '.' '.' '.' '#' '.']\n",
      " ['.' '#' '.' '.' '.' '.' '#' '.']\n",
      " ['.' '#' '#' '#' '#' '#' '#' '.']\n",
      " ['.' '#' '.' '.' '.' '.' '#' '.']\n",
      " ['.' '#' '.' '.' '.' '.' '#' '.']\n",
      " ['.' '#' '.' '.' '.' '.' '#' '.']\n",
      " ['.' '.' '.' '.' '.' '.' '.' '.']]\n",
      "[['.' '.' '.' '.' '.' '.' '.' '.']\n",
      " ['.' '#' '.' '.' '.' '.' '.' '.']\n",
      " ['.' '#' '.' '.' '.' '.' '.' '.']\n",
      " ['.' '#' '.' '.' '.' '.' '.' '.']\n",
      " ['.' '#' '.' '.' '.' '.' '.' '.']\n",
      " ['.' '#' '.' '.' '.' '.' '.' '.']\n",
      " ['.' '#' '.' '.' '.' '.' '.' '.']\n",
      " ['.' '.' '.' '.' '.' '.' '.' '.']]\n",
      "[['.' '.' '.' '.' '.' '.' '.' '.']\n",
      " ['.' '.' '.' '.' '.' '.' '#' '.']\n",
      " ['.' '.' '.' '.' '.' '.' '#' '.']\n",
      " ['.' '.' '.' '.' '.' '.' '#' '.']\n",
      " ['.' '.' '.' '.' '.' '.' '#' '.']\n",
      " ['.' '#' '.' '.' '.' '.' '#' '.']\n",
      " ['.' '.' '#' '#' '#' '#' '.' '.']\n",
      " ['.' '.' '.' '.' '.' '.' '.' '.']]\n",
      "[['.' '.' '.' '.' '.' '.' '.' '.']\n",
      " ['.' '#' '.' '.' '.' '.' '#' '.']\n",
      " ['.' '#' '.' '.' '.' '#' '.' '.']\n",
      " ['.' '#' '#' '#' '#' '.' '.' '.']\n",
      " ['.' '#' '.' '.' '#' '.' '.' '.']\n",
      " ['.' '#' '.' '.' '.' '#' '.' '.']\n",
      " ['.' '#' '.' '.' '.' '.' '#' '.']\n",
      " ['.' '.' '.' '.' '.' '.' '.' '.']]\n",
      "[['.' '.' '.' '.' '.' '.' '.' '.']\n",
      " ['.' '#' '.' '.' '.' '.' '.' '.']\n",
      " ['.' '#' '.' '.' '.' '.' '.' '.']\n",
      " ['.' '#' '.' '.' '.' '.' '.' '.']\n",
      " ['.' '#' '.' '.' '.' '.' '.' '.']\n",
      " ['.' '#' '.' '.' '.' '.' '.' '.']\n",
      " ['.' '#' '#' '#' '#' '#' '#' '.']\n",
      " ['.' '.' '.' '.' '.' '.' '.' '.']]\n",
      "[['.' '.' '.' '.' '.' '.' '.' '.']\n",
      " ['.' '#' '.' '.' '.' '.' '#' '.']\n",
      " ['.' '#' '#' '.' '.' '#' '#' '.']\n",
      " ['.' '#' '.' '#' '#' '.' '#' '.']\n",
      " ['.' '#' '.' '.' '.' '.' '#' '.']\n",
      " ['.' '#' '.' '.' '.' '.' '#' '.']\n",
      " ['.' '#' '.' '.' '.' '.' '#' '.']\n",
      " ['.' '.' '.' '.' '.' '.' '.' '.']]\n",
      "[['.' '.' '.' '.' '.' '.' '.' '.']\n",
      " ['.' '#' '.' '.' '.' '.' '#' '.']\n",
      " ['.' '#' '#' '.' '.' '.' '#' '.']\n",
      " ['.' '#' '.' '#' '.' '.' '#' '.']\n",
      " ['.' '#' '.' '.' '#' '.' '#' '.']\n",
      " ['.' '#' '.' '.' '.' '#' '#' '.']\n",
      " ['.' '#' '.' '.' '.' '.' '#' '.']\n",
      " ['.' '.' '.' '.' '.' '.' '.' '.']]\n",
      "[['.' '.' '.' '.' '.' '.' '.' '.']\n",
      " ['.' '.' '#' '#' '#' '#' '.' '.']\n",
      " ['.' '#' '.' '.' '.' '.' '#' '.']\n",
      " ['.' '#' '.' '.' '.' '.' '#' '.']\n",
      " ['.' '#' '.' '.' '.' '.' '#' '.']\n",
      " ['.' '#' '.' '.' '.' '.' '#' '.']\n",
      " ['.' '.' '#' '#' '#' '#' '.' '.']\n",
      " ['.' '.' '.' '.' '.' '.' '.' '.']]\n",
      "[['.' '.' '.' '.' '.' '.' '.' '.']\n",
      " ['.' '#' '#' '#' '#' '#' '.' '.']\n",
      " ['.' '#' '.' '.' '.' '.' '#' '.']\n",
      " ['.' '#' '.' '.' '.' '.' '#' '.']\n",
      " ['.' '#' '#' '#' '#' '#' '.' '.']\n",
      " ['.' '#' '.' '.' '.' '.' '.' '.']\n",
      " ['.' '#' '.' '.' '.' '.' '.' '.']\n",
      " ['.' '.' '.' '.' '.' '.' '.' '.']]\n",
      "[['.' '.' '.' '.' '.' '.' '.' '.']\n",
      " ['.' '.' '#' '#' '#' '#' '.' '.']\n",
      " ['.' '#' '.' '.' '.' '.' '#' '.']\n",
      " ['.' '#' '.' '.' '.' '.' '#' '.']\n",
      " ['.' '#' '.' '.' '#' '.' '#' '.']\n",
      " ['.' '#' '.' '.' '.' '#' '.' '.']\n",
      " ['.' '.' '#' '#' '#' '.' '#' '.']\n",
      " ['.' '.' '.' '.' '.' '.' '.' '.']]\n",
      "[['.' '.' '.' '.' '.' '.' '.' '.']\n",
      " ['.' '#' '#' '#' '#' '#' '.' '.']\n",
      " ['.' '#' '.' '.' '.' '.' '#' '.']\n",
      " ['.' '#' '.' '.' '.' '.' '#' '.']\n",
      " ['.' '#' '#' '#' '#' '#' '.' '.']\n",
      " ['.' '#' '.' '.' '.' '#' '.' '.']\n",
      " ['.' '#' '.' '.' '.' '.' '#' '.']\n",
      " ['.' '.' '.' '.' '.' '.' '.' '.']]\n",
      "[['.' '.' '.' '.' '.' '.' '.' '.']\n",
      " ['.' '.' '#' '#' '#' '#' '.' '.']\n",
      " ['.' '#' '.' '.' '.' '.' '.' '.']\n",
      " ['.' '.' '#' '#' '#' '#' '.' '.']\n",
      " ['.' '.' '.' '.' '.' '.' '#' '.']\n",
      " ['.' '#' '.' '.' '.' '.' '#' '.']\n",
      " ['.' '.' '#' '#' '#' '#' '.' '.']\n",
      " ['.' '.' '.' '.' '.' '.' '.' '.']]\n",
      "[['.' '.' '.' '.' '.' '.' '.' '.']\n",
      " ['.' '#' '#' '#' '#' '#' '.' '.']\n",
      " ['.' '.' '.' '#' '.' '.' '.' '.']\n",
      " ['.' '.' '.' '#' '.' '.' '.' '.']\n",
      " ['.' '.' '.' '#' '.' '.' '.' '.']\n",
      " ['.' '.' '.' '#' '.' '.' '.' '.']\n",
      " ['.' '.' '.' '#' '.' '.' '.' '.']\n",
      " ['.' '.' '.' '.' '.' '.' '.' '.']]\n",
      "[['.' '.' '.' '.' '.' '.' '.' '.']\n",
      " ['.' '#' '.' '.' '.' '.' '#' '.']\n",
      " ['.' '#' '.' '.' '.' '.' '#' '.']\n",
      " ['.' '#' '.' '.' '.' '.' '#' '.']\n",
      " ['.' '#' '.' '.' '.' '.' '#' '.']\n",
      " ['.' '#' '.' '.' '.' '.' '#' '.']\n",
      " ['.' '.' '#' '#' '#' '#' '.' '.']\n",
      " ['.' '.' '.' '.' '.' '.' '.' '.']]\n",
      "[['.' '.' '.' '.' '.' '.' '.' '.']\n",
      " ['.' '#' '.' '.' '.' '.' '#' '.']\n",
      " ['.' '#' '.' '.' '.' '.' '#' '.']\n",
      " ['.' '#' '.' '.' '.' '.' '#' '.']\n",
      " ['.' '#' '.' '.' '.' '.' '#' '.']\n",
      " ['.' '.' '#' '.' '.' '#' '.' '.']\n",
      " ['.' '.' '.' '#' '#' '.' '.' '.']\n",
      " ['.' '.' '.' '.' '.' '.' '.' '.']]\n",
      "[['.' '.' '.' '.' '.' '.' '.' '.']\n",
      " ['.' '#' '.' '.' '.' '.' '#' '.']\n",
      " ['.' '#' '.' '.' '.' '.' '#' '.']\n",
      " ['.' '#' '.' '.' '.' '.' '#' '.']\n",
      " ['.' '#' '.' '#' '#' '.' '#' '.']\n",
      " ['.' '#' '#' '.' '.' '#' '#' '.']\n",
      " ['.' '#' '.' '.' '.' '.' '#' '.']\n",
      " ['.' '.' '.' '.' '.' '.' '.' '.']]\n",
      "[['.' '.' '.' '.' '.' '.' '.' '.']\n",
      " ['.' '#' '.' '.' '.' '.' '#' '.']\n",
      " ['.' '.' '#' '.' '.' '#' '.' '.']\n",
      " ['.' '.' '.' '#' '#' '.' '.' '.']\n",
      " ['.' '.' '.' '#' '#' '.' '.' '.']\n",
      " ['.' '.' '#' '.' '.' '#' '.' '.']\n",
      " ['.' '#' '.' '.' '.' '.' '#' '.']\n",
      " ['.' '.' '.' '.' '.' '.' '.' '.']]\n",
      "[['.' '.' '.' '.' '.' '.' '.' '.']\n",
      " ['.' '#' '.' '.' '.' '#' '.' '.']\n",
      " ['.' '.' '#' '.' '#' '.' '.' '.']\n",
      " ['.' '.' '.' '#' '.' '.' '.' '.']\n",
      " ['.' '.' '.' '#' '.' '.' '.' '.']\n",
      " ['.' '.' '.' '#' '.' '.' '.' '.']\n",
      " ['.' '.' '.' '#' '.' '.' '.' '.']\n",
      " ['.' '.' '.' '.' '.' '.' '.' '.']]\n",
      "[['.' '.' '.' '.' '.' '.' '.' '.']\n",
      " ['.' '#' '#' '#' '#' '#' '#' '.']\n",
      " ['.' '.' '.' '.' '.' '#' '.' '.']\n",
      " ['.' '.' '.' '.' '#' '.' '.' '.']\n",
      " ['.' '.' '.' '#' '.' '.' '.' '.']\n",
      " ['.' '.' '#' '.' '.' '.' '.' '.']\n",
      " ['.' '#' '#' '#' '#' '#' '#' '.']\n",
      " ['.' '.' '.' '.' '.' '.' '.' '.']]\n"
     ]
    }
   ],
   "source": [
    "import numpy as np\n",
    "my_text_npy = np.empty((26,8,8),dtype=str)\n",
    "array_depth = 0\n",
    "letter_complete = 0\n",
    "with open(\"all letters in ascii.txt\",\"r\") as ascii_art:    \n",
    "    line_counter = 0\n",
    "    char_counter = 0\n",
    "    for line in ascii_art:\n",
    "        line = line.rstrip()\n",
    "        for char in line:\n",
    "            my_text_npy[array_depth,line_counter,char_counter]=char\n",
    "            char_counter += 1\n",
    "        if letter_complete < 7:\n",
    "            line_counter += 1\n",
    "            letter_complete += 1\n",
    "            char_counter = 0\n",
    "        else:\n",
    "            array_depth += 1\n",
    "            letter_complete = 0\n",
    "            line_counter = 0\n",
    "            char_counter = 0\n",
    "\n",
    "for count in range(0,np.ma.size(my_text_npy,axis=0)):\n",
    "    print(my_text_npy[count,:,:])"
   ]
  },
  {
   "cell_type": "markdown",
   "metadata": {
    "slideshow": {
     "slide_type": "subslide"
    }
   },
   "source": [
    "### With our array loaded 26x8x8 with awesome ASCII art, we can access it simply based on its position along index 0"
   ]
  },
  {
   "cell_type": "code",
   "execution_count": 2,
   "metadata": {
    "slideshow": {
     "slide_type": "subslide"
    }
   },
   "outputs": [
    {
     "name": "stdout",
     "output_type": "stream",
     "text": [
      "Give me a name: Python\n",
      "[['.' '.' '.' '.' '.' '.' '.' '.']\n",
      " ['.' '#' '#' '#' '#' '#' '.' '.']\n",
      " ['.' '#' '.' '.' '.' '.' '#' '.']\n",
      " ['.' '#' '.' '.' '.' '.' '#' '.']\n",
      " ['.' '#' '#' '#' '#' '#' '.' '.']\n",
      " ['.' '#' '.' '.' '.' '.' '.' '.']\n",
      " ['.' '#' '.' '.' '.' '.' '.' '.']\n",
      " ['.' '.' '.' '.' '.' '.' '.' '.']]\n",
      "[['.' '.' '.' '.' '.' '.' '.' '.']\n",
      " ['.' '#' '.' '.' '.' '#' '.' '.']\n",
      " ['.' '.' '#' '.' '#' '.' '.' '.']\n",
      " ['.' '.' '.' '#' '.' '.' '.' '.']\n",
      " ['.' '.' '.' '#' '.' '.' '.' '.']\n",
      " ['.' '.' '.' '#' '.' '.' '.' '.']\n",
      " ['.' '.' '.' '#' '.' '.' '.' '.']\n",
      " ['.' '.' '.' '.' '.' '.' '.' '.']]\n",
      "[['.' '.' '.' '.' '.' '.' '.' '.']\n",
      " ['.' '#' '#' '#' '#' '#' '.' '.']\n",
      " ['.' '.' '.' '#' '.' '.' '.' '.']\n",
      " ['.' '.' '.' '#' '.' '.' '.' '.']\n",
      " ['.' '.' '.' '#' '.' '.' '.' '.']\n",
      " ['.' '.' '.' '#' '.' '.' '.' '.']\n",
      " ['.' '.' '.' '#' '.' '.' '.' '.']\n",
      " ['.' '.' '.' '.' '.' '.' '.' '.']]\n",
      "[['.' '.' '.' '.' '.' '.' '.' '.']\n",
      " ['.' '#' '.' '.' '.' '.' '#' '.']\n",
      " ['.' '#' '.' '.' '.' '.' '#' '.']\n",
      " ['.' '#' '#' '#' '#' '#' '#' '.']\n",
      " ['.' '#' '.' '.' '.' '.' '#' '.']\n",
      " ['.' '#' '.' '.' '.' '.' '#' '.']\n",
      " ['.' '#' '.' '.' '.' '.' '#' '.']\n",
      " ['.' '.' '.' '.' '.' '.' '.' '.']]\n",
      "[['.' '.' '.' '.' '.' '.' '.' '.']\n",
      " ['.' '.' '#' '#' '#' '#' '.' '.']\n",
      " ['.' '#' '.' '.' '.' '.' '#' '.']\n",
      " ['.' '#' '.' '.' '.' '.' '#' '.']\n",
      " ['.' '#' '.' '.' '.' '.' '#' '.']\n",
      " ['.' '#' '.' '.' '.' '.' '#' '.']\n",
      " ['.' '.' '#' '#' '#' '#' '.' '.']\n",
      " ['.' '.' '.' '.' '.' '.' '.' '.']]\n",
      "[['.' '.' '.' '.' '.' '.' '.' '.']\n",
      " ['.' '#' '.' '.' '.' '.' '#' '.']\n",
      " ['.' '#' '#' '.' '.' '.' '#' '.']\n",
      " ['.' '#' '.' '#' '.' '.' '#' '.']\n",
      " ['.' '#' '.' '.' '#' '.' '#' '.']\n",
      " ['.' '#' '.' '.' '.' '#' '#' '.']\n",
      " ['.' '#' '.' '.' '.' '.' '#' '.']\n",
      " ['.' '.' '.' '.' '.' '.' '.' '.']]\n"
     ]
    }
   ],
   "source": [
    "dictionary_index = {\"a\":1,\"b\":2,\"c\":3,\"d\":4,\"e\":5,\"f\":6,\"g\":7,\"h\":8,\"i\":9,\"j\":10,\"k\":11,\"l\":12,\"m\":13,\"n\":14,\"o\":15,\"p\":16,\"q\":17,\"r\":18,\"s\":19,\"t\":20,\"u\":21,\"v\":22,\"w\":23,\"x\":24,\"y\":25,\"z\":26}\n",
    "user_input = input(\"Give me a name: \")\n",
    "for letter in user_input:\n",
    "    print(my_text_npy[dictionary_index[letter.lower()]-1,:,:])"
   ]
  },
  {
   "cell_type": "markdown",
   "metadata": {
    "slideshow": {
     "slide_type": "slide"
    }
   },
   "source": [
    "## Topic 2: Pandas Dataframes"
   ]
  },
  {
   "cell_type": "markdown",
   "metadata": {
    "slideshow": {
     "slide_type": "fragment"
    }
   },
   "source": [
    "### Now that we've seen NumPy in action, we can start learning a bit about Pandas, which builds upon the NumPy library.  "
   ]
  },
  {
   "cell_type": "markdown",
   "metadata": {
    "slideshow": {
     "slide_type": "fragment"
    }
   },
   "source": [
    "### Stolen definition: Pandas DataFrame is two-dimensional size-mutable, potentially heterogeneous tabular data structure with labeled axes (rows and columns). "
   ]
  },
  {
   "cell_type": "markdown",
   "metadata": {
    "slideshow": {
     "slide_type": "subslide"
    }
   },
   "source": [
    "### Let's use a simple dataset to learn how to do some work in Pandas dataframes"
   ]
  },
  {
   "cell_type": "code",
   "execution_count": 3,
   "metadata": {
    "slideshow": {
     "slide_type": "subslide"
    }
   },
   "outputs": [],
   "source": [
    "import pandas as pd"
   ]
  },
  {
   "cell_type": "markdown",
   "metadata": {
    "slideshow": {
     "slide_type": "subslide"
    }
   },
   "source": [
    "#### We can import this file, define the separator, and assign an index column"
   ]
  },
  {
   "cell_type": "code",
   "execution_count": 4,
   "metadata": {
    "slideshow": {
     "slide_type": "fragment"
    }
   },
   "outputs": [
    {
     "name": "stdout",
     "output_type": "stream",
     "text": [
      "         age gender     occupation zip_code\n",
      "user_id                                    \n",
      "1         24      M     technician    85711\n",
      "2         53      F          other    94043\n",
      "3         23      M         writer    32067\n",
      "4         24      M     technician    43537\n",
      "5         33      F          other    15213\n",
      "...      ...    ...            ...      ...\n",
      "939       26      F        student    33319\n",
      "940       32      M  administrator    02215\n",
      "941       20      M        student    97229\n",
      "942       48      F      librarian    78209\n",
      "943       22      M        student    77841\n",
      "\n",
      "[943 rows x 4 columns]\n"
     ]
    }
   ],
   "source": [
    "user_data = pd.read_csv(\"data_for_pandas.txt\",sep='|',index_col='user_id')\n",
    "print((user_data))"
   ]
  },
  {
   "cell_type": "markdown",
   "metadata": {
    "slideshow": {
     "slide_type": "subslide"
    }
   },
   "source": [
    "#### Let's have a quick look at some of the rows"
   ]
  },
  {
   "cell_type": "code",
   "execution_count": 5,
   "metadata": {
    "slideshow": {
     "slide_type": "fragment"
    }
   },
   "outputs": [
    {
     "name": "stdout",
     "output_type": "stream",
     "text": [
      "         age gender     occupation zip_code\n",
      "user_id                                    \n",
      "1         24      M     technician    85711\n",
      "2         53      F          other    94043\n",
      "3         23      M         writer    32067\n",
      "4         24      M     technician    43537\n",
      "5         33      F          other    15213\n",
      "...      ...    ...            ...      ...\n",
      "939       26      F        student    33319\n",
      "940       32      M  administrator    02215\n",
      "941       20      M        student    97229\n",
      "942       48      F      librarian    78209\n",
      "943       22      M        student    77841\n",
      "\n",
      "[943 rows x 4 columns]\n"
     ]
    }
   ],
   "source": [
    "print(user_data)"
   ]
  },
  {
   "cell_type": "code",
   "execution_count": null,
   "metadata": {
    "slideshow": {
     "slide_type": "fragment"
    }
   },
   "outputs": [],
   "source": [
    "print(user_data.tail(7))"
   ]
  },
  {
   "cell_type": "markdown",
   "metadata": {
    "slideshow": {
     "slide_type": "subslide"
    }
   },
   "source": [
    "#### We can also observe the datatypes and shape of the frame"
   ]
  },
  {
   "cell_type": "code",
   "execution_count": 6,
   "metadata": {
    "slideshow": {
     "slide_type": "fragment"
    }
   },
   "outputs": [
    {
     "name": "stdout",
     "output_type": "stream",
     "text": [
      "age            int64\n",
      "gender        object\n",
      "occupation    object\n",
      "zip_code      object\n",
      "dtype: object\n"
     ]
    }
   ],
   "source": [
    "print(user_data.dtypes)"
   ]
  },
  {
   "cell_type": "code",
   "execution_count": 7,
   "metadata": {
    "slideshow": {
     "slide_type": "subslide"
    }
   },
   "outputs": [
    {
     "name": "stdout",
     "output_type": "stream",
     "text": [
      "943\n",
      "4\n",
      "Index(['age', 'gender', 'occupation', 'zip_code'], dtype='object')\n"
     ]
    }
   ],
   "source": [
    "print(user_data.shape[0])\n",
    "print(user_data.shape[1])\n",
    "print(user_data.columns)"
   ]
  },
  {
   "cell_type": "code",
   "execution_count": 8,
   "metadata": {
    "slideshow": {
     "slide_type": "subslide"
    }
   },
   "outputs": [
    {
     "name": "stdout",
     "output_type": "stream",
     "text": [
      "Int64Index([  1,   2,   3,   4,   5,   6,   7,   8,   9,  10,\n",
      "            ...\n",
      "            934, 935, 936, 937, 938, 939, 940, 941, 942, 943],\n",
      "           dtype='int64', name='user_id', length=943)\n"
     ]
    }
   ],
   "source": [
    "print(user_data.index)"
   ]
  },
  {
   "cell_type": "markdown",
   "metadata": {
    "slideshow": {
     "slide_type": "subslide"
    }
   },
   "source": [
    "#### I can also look at information about specific columns"
   ]
  },
  {
   "cell_type": "code",
   "execution_count": 9,
   "metadata": {
    "slideshow": {
     "slide_type": "fragment"
    }
   },
   "outputs": [
    {
     "name": "stdout",
     "output_type": "stream",
     "text": [
      "user_id\n",
      "1    technician\n",
      "2         other\n",
      "3        writer\n",
      "4    technician\n",
      "5         other\n",
      "Name: occupation, dtype: object\n",
      "user_id\n",
      "1    technician\n",
      "2         other\n",
      "3        writer\n",
      "4    technician\n",
      "5         other\n",
      "Name: occupation, dtype: object\n"
     ]
    }
   ],
   "source": [
    "print(user_data.occupation.head(5))\n",
    "print(user_data[\"occupation\"].head(5))"
   ]
  },
  {
   "cell_type": "code",
   "execution_count": 11,
   "metadata": {
    "slideshow": {
     "slide_type": "subslide"
    }
   },
   "outputs": [
    {
     "name": "stdout",
     "output_type": "stream",
     "text": [
      "21\n",
      "21\n"
     ]
    }
   ],
   "source": [
    "#print(user_data.occupation.value_counts())\n",
    "print(user_data.occupation.value_counts().count()) #This line and the next are equivalent\n",
    "print(user_data.occupation.nunique())"
   ]
  },
  {
   "cell_type": "code",
   "execution_count": 14,
   "metadata": {
    "slideshow": {
     "slide_type": "subslide"
    }
   },
   "outputs": [
    {
     "name": "stdout",
     "output_type": "stream",
     "text": [
      "technician       27\n",
      "marketing        26\n",
      "entertainment    18\n",
      "healthcare       16\n",
      "retired          14\n",
      "salesman         12\n",
      "lawyer           12\n",
      "none              9\n",
      "homemaker         7\n",
      "doctor            7\n",
      "Name: occupation, dtype: int64\n"
     ]
    }
   ],
   "source": [
    "print(user_data.occupation.value_counts().tail(10))"
   ]
  },
  {
   "cell_type": "markdown",
   "metadata": {
    "slideshow": {
     "slide_type": "subslide"
    }
   },
   "source": [
    "#### Describe is great for seeing overall data for the frame"
   ]
  },
  {
   "cell_type": "code",
   "execution_count": 15,
   "metadata": {
    "slideshow": {
     "slide_type": "fragment"
    }
   },
   "outputs": [
    {
     "data": {
      "text/html": [
       "<div>\n",
       "<style scoped>\n",
       "    .dataframe tbody tr th:only-of-type {\n",
       "        vertical-align: middle;\n",
       "    }\n",
       "\n",
       "    .dataframe tbody tr th {\n",
       "        vertical-align: top;\n",
       "    }\n",
       "\n",
       "    .dataframe thead th {\n",
       "        text-align: right;\n",
       "    }\n",
       "</style>\n",
       "<table border=\"1\" class=\"dataframe\">\n",
       "  <thead>\n",
       "    <tr style=\"text-align: right;\">\n",
       "      <th></th>\n",
       "      <th>age</th>\n",
       "    </tr>\n",
       "  </thead>\n",
       "  <tbody>\n",
       "    <tr>\n",
       "      <th>count</th>\n",
       "      <td>943.000000</td>\n",
       "    </tr>\n",
       "    <tr>\n",
       "      <th>mean</th>\n",
       "      <td>34.051962</td>\n",
       "    </tr>\n",
       "    <tr>\n",
       "      <th>std</th>\n",
       "      <td>12.192740</td>\n",
       "    </tr>\n",
       "    <tr>\n",
       "      <th>min</th>\n",
       "      <td>7.000000</td>\n",
       "    </tr>\n",
       "    <tr>\n",
       "      <th>25%</th>\n",
       "      <td>25.000000</td>\n",
       "    </tr>\n",
       "    <tr>\n",
       "      <th>50%</th>\n",
       "      <td>31.000000</td>\n",
       "    </tr>\n",
       "    <tr>\n",
       "      <th>75%</th>\n",
       "      <td>43.000000</td>\n",
       "    </tr>\n",
       "    <tr>\n",
       "      <th>max</th>\n",
       "      <td>73.000000</td>\n",
       "    </tr>\n",
       "  </tbody>\n",
       "</table>\n",
       "</div>"
      ],
      "text/plain": [
       "              age\n",
       "count  943.000000\n",
       "mean    34.051962\n",
       "std     12.192740\n",
       "min      7.000000\n",
       "25%     25.000000\n",
       "50%     31.000000\n",
       "75%     43.000000\n",
       "max     73.000000"
      ]
     },
     "execution_count": 15,
     "metadata": {},
     "output_type": "execute_result"
    }
   ],
   "source": [
    "user_data.describe()"
   ]
  },
  {
   "cell_type": "code",
   "execution_count": 16,
   "metadata": {
    "slideshow": {
     "slide_type": "subslide"
    }
   },
   "outputs": [
    {
     "data": {
      "text/html": [
       "<div>\n",
       "<style scoped>\n",
       "    .dataframe tbody tr th:only-of-type {\n",
       "        vertical-align: middle;\n",
       "    }\n",
       "\n",
       "    .dataframe tbody tr th {\n",
       "        vertical-align: top;\n",
       "    }\n",
       "\n",
       "    .dataframe thead th {\n",
       "        text-align: right;\n",
       "    }\n",
       "</style>\n",
       "<table border=\"1\" class=\"dataframe\">\n",
       "  <thead>\n",
       "    <tr style=\"text-align: right;\">\n",
       "      <th></th>\n",
       "      <th>age</th>\n",
       "      <th>gender</th>\n",
       "      <th>occupation</th>\n",
       "      <th>zip_code</th>\n",
       "    </tr>\n",
       "  </thead>\n",
       "  <tbody>\n",
       "    <tr>\n",
       "      <th>count</th>\n",
       "      <td>943.000000</td>\n",
       "      <td>943</td>\n",
       "      <td>943</td>\n",
       "      <td>943</td>\n",
       "    </tr>\n",
       "    <tr>\n",
       "      <th>unique</th>\n",
       "      <td>NaN</td>\n",
       "      <td>2</td>\n",
       "      <td>21</td>\n",
       "      <td>795</td>\n",
       "    </tr>\n",
       "    <tr>\n",
       "      <th>top</th>\n",
       "      <td>NaN</td>\n",
       "      <td>M</td>\n",
       "      <td>student</td>\n",
       "      <td>55414</td>\n",
       "    </tr>\n",
       "    <tr>\n",
       "      <th>freq</th>\n",
       "      <td>NaN</td>\n",
       "      <td>670</td>\n",
       "      <td>196</td>\n",
       "      <td>9</td>\n",
       "    </tr>\n",
       "    <tr>\n",
       "      <th>mean</th>\n",
       "      <td>34.051962</td>\n",
       "      <td>NaN</td>\n",
       "      <td>NaN</td>\n",
       "      <td>NaN</td>\n",
       "    </tr>\n",
       "    <tr>\n",
       "      <th>std</th>\n",
       "      <td>12.192740</td>\n",
       "      <td>NaN</td>\n",
       "      <td>NaN</td>\n",
       "      <td>NaN</td>\n",
       "    </tr>\n",
       "    <tr>\n",
       "      <th>min</th>\n",
       "      <td>7.000000</td>\n",
       "      <td>NaN</td>\n",
       "      <td>NaN</td>\n",
       "      <td>NaN</td>\n",
       "    </tr>\n",
       "    <tr>\n",
       "      <th>25%</th>\n",
       "      <td>25.000000</td>\n",
       "      <td>NaN</td>\n",
       "      <td>NaN</td>\n",
       "      <td>NaN</td>\n",
       "    </tr>\n",
       "    <tr>\n",
       "      <th>50%</th>\n",
       "      <td>31.000000</td>\n",
       "      <td>NaN</td>\n",
       "      <td>NaN</td>\n",
       "      <td>NaN</td>\n",
       "    </tr>\n",
       "    <tr>\n",
       "      <th>75%</th>\n",
       "      <td>43.000000</td>\n",
       "      <td>NaN</td>\n",
       "      <td>NaN</td>\n",
       "      <td>NaN</td>\n",
       "    </tr>\n",
       "    <tr>\n",
       "      <th>max</th>\n",
       "      <td>73.000000</td>\n",
       "      <td>NaN</td>\n",
       "      <td>NaN</td>\n",
       "      <td>NaN</td>\n",
       "    </tr>\n",
       "  </tbody>\n",
       "</table>\n",
       "</div>"
      ],
      "text/plain": [
       "               age gender occupation zip_code\n",
       "count   943.000000    943        943      943\n",
       "unique         NaN      2         21      795\n",
       "top            NaN      M    student    55414\n",
       "freq           NaN    670        196        9\n",
       "mean     34.051962    NaN        NaN      NaN\n",
       "std      12.192740    NaN        NaN      NaN\n",
       "min       7.000000    NaN        NaN      NaN\n",
       "25%      25.000000    NaN        NaN      NaN\n",
       "50%      31.000000    NaN        NaN      NaN\n",
       "75%      43.000000    NaN        NaN      NaN\n",
       "max      73.000000    NaN        NaN      NaN"
      ]
     },
     "execution_count": 16,
     "metadata": {},
     "output_type": "execute_result"
    }
   ],
   "source": [
    "user_data.describe(include = \"all\")"
   ]
  },
  {
   "cell_type": "markdown",
   "metadata": {
    "slideshow": {
     "slide_type": "subslide"
    }
   },
   "source": [
    "#### It's also easy to look at something simple like the mean value of a column"
   ]
  },
  {
   "cell_type": "code",
   "execution_count": 19,
   "metadata": {
    "slideshow": {
     "slide_type": "fragment"
    }
   },
   "outputs": [
    {
     "name": "stdout",
     "output_type": "stream",
     "text": [
      "34.05196182396607\n"
     ]
    }
   ],
   "source": [
    "print(user_data.age.mean())"
   ]
  },
  {
   "cell_type": "markdown",
   "metadata": {
    "slideshow": {
     "slide_type": "slide"
    }
   },
   "source": [
    "## Topic 3: Pandas Dataframes Continued"
   ]
  },
  {
   "cell_type": "markdown",
   "metadata": {
    "slideshow": {
     "slide_type": "fragment"
    }
   },
   "source": [
    "### In this topic, you can have a short intro to Pandas series as well as how to merge dataframes"
   ]
  },
  {
   "cell_type": "markdown",
   "metadata": {
    "slideshow": {
     "slide_type": "fragment"
    }
   },
   "source": [
    "### Let's enrich our original dataset with some zip code data to get a more valuable set of data"
   ]
  },
  {
   "cell_type": "code",
   "execution_count": 20,
   "metadata": {
    "slideshow": {
     "slide_type": "subslide"
    }
   },
   "outputs": [
    {
     "name": "stdout",
     "output_type": "stream",
     "text": [
      "         primary_city state               county\n",
      "zip_code                                        \n",
      "501        Holtsville    NY       Suffolk County\n",
      "544        Holtsville    NY       Suffolk County\n",
      "601          Adjuntas    PR   Adjuntas Municipio\n",
      "602            Aguada    PR     Aguada Municipio\n",
      "603         Aguadilla    PR  Aguadilla Municipio\n",
      "primary_city    object\n",
      "state           object\n",
      "county          object\n",
      "dtype: object\n"
     ]
    }
   ],
   "source": [
    "all_zips = pd.read_csv(\"us_zip_code_city_county_state.csv\",sep=\",\",index_col=\"zip_code\")\n",
    "print(all_zips.head())\n",
    "print(all_zips.dtypes)"
   ]
  },
  {
   "cell_type": "markdown",
   "metadata": {
    "slideshow": {
     "slide_type": "subslide"
    }
   },
   "source": [
    "#### If you look at the datatype output, you can see that the datatype of the zip code field is int64.  This doesn't match our user_data zip_code field which has a type of \"object\".  We need to correct this to use it as a key to merge the two dataframes"
   ]
  },
  {
   "cell_type": "code",
   "execution_count": 21,
   "metadata": {
    "slideshow": {
     "slide_type": "subslide"
    }
   },
   "outputs": [
    {
     "name": "stdout",
     "output_type": "stream",
     "text": [
      "age             int64\n",
      "gender         object\n",
      "occupation     object\n",
      "zip_code      float64\n",
      "dtype: object\n",
      "         age gender  occupation  zip_code\n",
      "user_id                                  \n",
      "1         24      M  technician   85711.0\n",
      "2         53      F       other   94043.0\n",
      "3         23      M      writer   32067.0\n",
      "4         24      M  technician   43537.0\n",
      "5         33      F       other   15213.0\n"
     ]
    }
   ],
   "source": [
    "user_data[[\"zip_code\"]] = user_data[[\"zip_code\"]].apply(pd.to_numeric,errors='coerce')\n",
    "print(user_data.dtypes)\n",
    "print(user_data.head(5))"
   ]
  },
  {
   "cell_type": "code",
   "execution_count": 22,
   "metadata": {
    "slideshow": {
     "slide_type": "subslide"
    }
   },
   "outputs": [
    {
     "data": {
      "text/html": [
       "<div>\n",
       "<style scoped>\n",
       "    .dataframe tbody tr th:only-of-type {\n",
       "        vertical-align: middle;\n",
       "    }\n",
       "\n",
       "    .dataframe tbody tr th {\n",
       "        vertical-align: top;\n",
       "    }\n",
       "\n",
       "    .dataframe thead th {\n",
       "        text-align: right;\n",
       "    }\n",
       "</style>\n",
       "<table border=\"1\" class=\"dataframe\">\n",
       "  <thead>\n",
       "    <tr style=\"text-align: right;\">\n",
       "      <th></th>\n",
       "      <th>primary_city</th>\n",
       "      <th>state</th>\n",
       "      <th>county</th>\n",
       "    </tr>\n",
       "  </thead>\n",
       "  <tbody>\n",
       "    <tr>\n",
       "      <th>count</th>\n",
       "      <td>42632</td>\n",
       "      <td>42632</td>\n",
       "      <td>41790</td>\n",
       "    </tr>\n",
       "    <tr>\n",
       "      <th>unique</th>\n",
       "      <td>18759</td>\n",
       "      <td>62</td>\n",
       "      <td>2007</td>\n",
       "    </tr>\n",
       "    <tr>\n",
       "      <th>top</th>\n",
       "      <td>Apo</td>\n",
       "      <td>TX</td>\n",
       "      <td>Los Angeles County</td>\n",
       "    </tr>\n",
       "    <tr>\n",
       "      <th>freq</th>\n",
       "      <td>373</td>\n",
       "      <td>2658</td>\n",
       "      <td>527</td>\n",
       "    </tr>\n",
       "  </tbody>\n",
       "</table>\n",
       "</div>"
      ],
      "text/plain": [
       "       primary_city  state              county\n",
       "count         42632  42632               41790\n",
       "unique        18759     62                2007\n",
       "top             Apo     TX  Los Angeles County\n",
       "freq            373   2658                 527"
      ]
     },
     "execution_count": 22,
     "metadata": {},
     "output_type": "execute_result"
    }
   ],
   "source": [
    "all_zips.describe(include = \"all\")"
   ]
  },
  {
   "cell_type": "markdown",
   "metadata": {
    "slideshow": {
     "slide_type": "subslide"
    }
   },
   "source": [
    "#### Now that we have uniform datatypes, we can do a SQL type left join to combine the enriching zip code data with our dataset."
   ]
  },
  {
   "cell_type": "code",
   "execution_count": 23,
   "metadata": {
    "slideshow": {
     "slide_type": "subslide"
    }
   },
   "outputs": [
    {
     "name": "stdout",
     "output_type": "stream",
     "text": [
      "   age gender  occupation  zip_code   primary_city state              county\n",
      "0   24      M  technician   85711.0         Tucson    AZ         Pima County\n",
      "1   53      F       other   94043.0  Mountain View    CA  Santa Clara County\n",
      "2   23      M      writer   32067.0    Orange Park    FL         Clay County\n",
      "3   24      M  technician   43537.0         Maumee    OH        Lucas County\n",
      "4   33      F       other   15213.0     Pittsburgh    PA    Allegheny County\n",
      "943\n"
     ]
    }
   ],
   "source": [
    "merged_df = user_data.merge(all_zips, how = 'left', on = ['zip_code'])\n",
    "print(merged_df.head(5))\n",
    "print(merged_df.shape[0])"
   ]
  },
  {
   "cell_type": "code",
   "execution_count": 25,
   "metadata": {
    "slideshow": {
     "slide_type": "subslide"
    }
   },
   "outputs": [
    {
     "name": "stdout",
     "output_type": "stream",
     "text": [
      "53\n"
     ]
    }
   ],
   "source": [
    "#print(merged_df.state.nunique())\n",
    "print(merged_df.state.value_counts().count())"
   ]
  },
  {
   "cell_type": "markdown",
   "metadata": {
    "slideshow": {
     "slide_type": "subslide"
    }
   },
   "source": [
    "#### Unfortunately, all is not well and it doesn't immediately stand out.  We have rows in our data that are non-conforming so the merge didn't work in every case.  We can see the bad rows by finding any row that has NaN in it."
   ]
  },
  {
   "cell_type": "code",
   "execution_count": 26,
   "metadata": {
    "slideshow": {
     "slide_type": "fragment"
    }
   },
   "outputs": [
    {
     "name": "stdout",
     "output_type": "stream",
     "text": [
      "     age gender     occupation  zip_code primary_city state county\n",
      "53    22      M      executive   66315.0          NaN   NaN    NaN\n",
      "72    24      M        student   41850.0          NaN   NaN    NaN\n",
      "73    39      M      scientist       NaN          NaN   NaN    NaN\n",
      "85    26      M  administrator   46005.0          NaN   NaN    NaN\n",
      "144   31      M  entertainment       NaN          NaN   NaN    NaN\n",
      "166   37      M          other       NaN          NaN   NaN    NaN\n",
      "185   39      F      executive       0.0          NaN   NaN    NaN\n",
      "193   38      M  administrator    2154.0          NaN   NaN    NaN\n",
      "200   27      M         writer       NaN          NaN   NaN    NaN\n",
      "332   47      M          other       NaN          NaN   NaN    NaN\n",
      "457   47      M     technician       NaN          NaN   NaN    NaN\n",
      "489   29      F         artist       NaN          NaN   NaN    NaN\n",
      "520   19      M        student    2146.0          NaN   NaN    NaN\n",
      "523   56      M       educator    2159.0          NaN   NaN    NaN\n",
      "577   31      M  administrator       NaN          NaN   NaN    NaN\n",
      "593   46      M       educator       NaN          NaN   NaN    NaN\n",
      "598   22      F        student       NaN          NaN   NaN    NaN\n",
      "599   34      M     programmer    2320.0          NaN   NaN    NaN\n",
      "606   49      F     healthcare    2154.0          NaN   NaN    NaN\n",
      "633   39      M       engineer       NaN          NaN   NaN    NaN\n",
      "658   31      M       educator   54248.0          NaN   NaN    NaN\n",
      "670   21      M     programmer   91919.0          NaN   NaN    NaN\n",
      "707   26      F      homemaker   96349.0          Fpo    AP    NaN\n",
      "708   21      M          other       NaN          NaN   NaN    NaN\n",
      "718   37      F          other       NaN          NaN   NaN    NaN\n",
      "766   70      M       engineer       0.0          NaN   NaN    NaN\n",
      "775   30      M      librarian   51157.0          NaN   NaN    NaN\n",
      "778   31      M        student       NaN          NaN   NaN    NaN\n",
      "781   21      F         artist   33205.0          NaN   NaN    NaN\n",
      "787   51      M  administrator    5779.0          NaN   NaN    NaN\n",
      "841   40      M         writer   93055.0          NaN   NaN    NaN\n",
      "847   46      M       engineer    2146.0          NaN   NaN    NaN\n",
      "856   35      F  administrator       NaN          NaN   NaN    NaN\n",
      "857   63      M       educator    9645.0          Fpo    AE    NaN\n",
      "900   38      M      executive       NaN          NaN   NaN    NaN\n",
      "915   27      M       engineer       NaN          NaN   NaN    NaN\n",
      "922   21      M        student       NaN          NaN   NaN    NaN\n"
     ]
    }
   ],
   "source": [
    "bad_values = merged_df[merged_df.isna().any(axis=1)]\n",
    "print(bad_values)"
   ]
  },
  {
   "cell_type": "markdown",
   "metadata": {
    "slideshow": {
     "slide_type": "slide"
    }
   },
   "source": [
    "## Topic 4: Pandas Statistics"
   ]
  },
  {
   "cell_type": "markdown",
   "metadata": {
    "slideshow": {
     "slide_type": "fragment"
    }
   },
   "source": [
    "### This topic introduces some simple statistics that can be done on our dataframes.  We will continue this next week with some more in-depth analysis"
   ]
  },
  {
   "cell_type": "markdown",
   "metadata": {
    "slideshow": {
     "slide_type": "fragment"
    }
   },
   "source": [
    "### Like NumPy, there are a ton of ways we can do statistical analysis of our dataframes.  I'm going to introduce some here and some more next week."
   ]
  },
  {
   "cell_type": "markdown",
   "metadata": {
    "slideshow": {
     "slide_type": "subslide"
    }
   },
   "source": [
    "### For this example, I'm going to have a look at some red wine data"
   ]
  },
  {
   "cell_type": "code",
   "execution_count": 28,
   "metadata": {
    "slideshow": {
     "slide_type": "fragment"
    }
   },
   "outputs": [
    {
     "name": "stdout",
     "output_type": "stream",
     "text": [
      "   quality  fixed acidity  volatile acidity  citric acid  residual sugar  \\\n",
      "0        5            7.4              0.70         0.00             1.9   \n",
      "1        5            7.8              0.88         0.00             2.6   \n",
      "2        5            7.8              0.76         0.04             2.3   \n",
      "3        6           11.2              0.28         0.56             1.9   \n",
      "4        5            7.4              0.70         0.00             1.9   \n",
      "\n",
      "   chlorides  free sulfur dioxide  total sulfur dioxide  density    pH  \\\n",
      "0      0.076                 11.0                  34.0   0.9978  3.51   \n",
      "1      0.098                 25.0                  67.0   0.9968  3.20   \n",
      "2      0.092                 15.0                  54.0   0.9970  3.26   \n",
      "3      0.075                 17.0                  60.0   0.9980  3.16   \n",
      "4      0.076                 11.0                  34.0   0.9978  3.51   \n",
      "\n",
      "   sulphates  alcohol  \n",
      "0       0.56      9.4  \n",
      "1       0.68      9.8  \n",
      "2       0.65      9.8  \n",
      "3       0.58      9.8  \n",
      "4       0.56      9.4  \n"
     ]
    },
    {
     "data": {
      "text/plain": [
       "(1599, 12)"
      ]
     },
     "execution_count": 28,
     "metadata": {},
     "output_type": "execute_result"
    }
   ],
   "source": [
    "wine_data = pd.read_csv('Red Wine Quality.csv')\n",
    "print(wine_data.head())\n",
    "wine_data.shape"
   ]
  },
  {
   "cell_type": "markdown",
   "metadata": {
    "slideshow": {
     "slide_type": "subslide"
    }
   },
   "source": [
    "#### I can drop a column from this dataset that I don't want.  I'm going to get rid of the chlorides column based on its index position"
   ]
  },
  {
   "cell_type": "code",
   "execution_count": 29,
   "metadata": {
    "slideshow": {
     "slide_type": "fragment"
    }
   },
   "outputs": [
    {
     "data": {
      "text/html": [
       "<div>\n",
       "<style scoped>\n",
       "    .dataframe tbody tr th:only-of-type {\n",
       "        vertical-align: middle;\n",
       "    }\n",
       "\n",
       "    .dataframe tbody tr th {\n",
       "        vertical-align: top;\n",
       "    }\n",
       "\n",
       "    .dataframe thead th {\n",
       "        text-align: right;\n",
       "    }\n",
       "</style>\n",
       "<table border=\"1\" class=\"dataframe\">\n",
       "  <thead>\n",
       "    <tr style=\"text-align: right;\">\n",
       "      <th></th>\n",
       "      <th>quality</th>\n",
       "      <th>fixed acidity</th>\n",
       "      <th>volatile acidity</th>\n",
       "      <th>citric acid</th>\n",
       "      <th>residual sugar</th>\n",
       "      <th>free sulfur dioxide</th>\n",
       "      <th>total sulfur dioxide</th>\n",
       "      <th>density</th>\n",
       "      <th>pH</th>\n",
       "      <th>sulphates</th>\n",
       "      <th>alcohol</th>\n",
       "    </tr>\n",
       "  </thead>\n",
       "  <tbody>\n",
       "    <tr>\n",
       "      <th>0</th>\n",
       "      <td>5</td>\n",
       "      <td>7.4</td>\n",
       "      <td>0.70</td>\n",
       "      <td>0.00</td>\n",
       "      <td>1.9</td>\n",
       "      <td>11.0</td>\n",
       "      <td>34.0</td>\n",
       "      <td>0.9978</td>\n",
       "      <td>3.51</td>\n",
       "      <td>0.56</td>\n",
       "      <td>9.4</td>\n",
       "    </tr>\n",
       "    <tr>\n",
       "      <th>1</th>\n",
       "      <td>5</td>\n",
       "      <td>7.8</td>\n",
       "      <td>0.88</td>\n",
       "      <td>0.00</td>\n",
       "      <td>2.6</td>\n",
       "      <td>25.0</td>\n",
       "      <td>67.0</td>\n",
       "      <td>0.9968</td>\n",
       "      <td>3.20</td>\n",
       "      <td>0.68</td>\n",
       "      <td>9.8</td>\n",
       "    </tr>\n",
       "    <tr>\n",
       "      <th>2</th>\n",
       "      <td>5</td>\n",
       "      <td>7.8</td>\n",
       "      <td>0.76</td>\n",
       "      <td>0.04</td>\n",
       "      <td>2.3</td>\n",
       "      <td>15.0</td>\n",
       "      <td>54.0</td>\n",
       "      <td>0.9970</td>\n",
       "      <td>3.26</td>\n",
       "      <td>0.65</td>\n",
       "      <td>9.8</td>\n",
       "    </tr>\n",
       "    <tr>\n",
       "      <th>3</th>\n",
       "      <td>6</td>\n",
       "      <td>11.2</td>\n",
       "      <td>0.28</td>\n",
       "      <td>0.56</td>\n",
       "      <td>1.9</td>\n",
       "      <td>17.0</td>\n",
       "      <td>60.0</td>\n",
       "      <td>0.9980</td>\n",
       "      <td>3.16</td>\n",
       "      <td>0.58</td>\n",
       "      <td>9.8</td>\n",
       "    </tr>\n",
       "    <tr>\n",
       "      <th>4</th>\n",
       "      <td>5</td>\n",
       "      <td>7.4</td>\n",
       "      <td>0.70</td>\n",
       "      <td>0.00</td>\n",
       "      <td>1.9</td>\n",
       "      <td>11.0</td>\n",
       "      <td>34.0</td>\n",
       "      <td>0.9978</td>\n",
       "      <td>3.51</td>\n",
       "      <td>0.56</td>\n",
       "      <td>9.4</td>\n",
       "    </tr>\n",
       "  </tbody>\n",
       "</table>\n",
       "</div>"
      ],
      "text/plain": [
       "   quality  fixed acidity  volatile acidity  citric acid  residual sugar  \\\n",
       "0        5            7.4              0.70         0.00             1.9   \n",
       "1        5            7.8              0.88         0.00             2.6   \n",
       "2        5            7.8              0.76         0.04             2.3   \n",
       "3        6           11.2              0.28         0.56             1.9   \n",
       "4        5            7.4              0.70         0.00             1.9   \n",
       "\n",
       "   free sulfur dioxide  total sulfur dioxide  density    pH  sulphates  \\\n",
       "0                 11.0                  34.0   0.9978  3.51       0.56   \n",
       "1                 25.0                  67.0   0.9968  3.20       0.68   \n",
       "2                 15.0                  54.0   0.9970  3.26       0.65   \n",
       "3                 17.0                  60.0   0.9980  3.16       0.58   \n",
       "4                 11.0                  34.0   0.9978  3.51       0.56   \n",
       "\n",
       "   alcohol  \n",
       "0      9.4  \n",
       "1      9.8  \n",
       "2      9.8  \n",
       "3      9.8  \n",
       "4      9.4  "
      ]
     },
     "execution_count": 29,
     "metadata": {},
     "output_type": "execute_result"
    }
   ],
   "source": [
    "wine_data = wine_data.drop(wine_data.columns[[5]],axis=1) #drop chlorides column\n",
    "wine_data.head()"
   ]
  },
  {
   "cell_type": "markdown",
   "metadata": {
    "slideshow": {
     "slide_type": "subslide"
    }
   },
   "source": [
    "#### I can look at slices of columns and row, and even assign them to a new dataframe"
   ]
  },
  {
   "cell_type": "code",
   "execution_count": 30,
   "metadata": {
    "slideshow": {
     "slide_type": "fragment"
    }
   },
   "outputs": [
    {
     "data": {
      "text/html": [
       "<div>\n",
       "<style scoped>\n",
       "    .dataframe tbody tr th:only-of-type {\n",
       "        vertical-align: middle;\n",
       "    }\n",
       "\n",
       "    .dataframe tbody tr th {\n",
       "        vertical-align: top;\n",
       "    }\n",
       "\n",
       "    .dataframe thead th {\n",
       "        text-align: right;\n",
       "    }\n",
       "</style>\n",
       "<table border=\"1\" class=\"dataframe\">\n",
       "  <thead>\n",
       "    <tr style=\"text-align: right;\">\n",
       "      <th></th>\n",
       "      <th>quality</th>\n",
       "      <th>pH</th>\n",
       "      <th>alcohol</th>\n",
       "    </tr>\n",
       "  </thead>\n",
       "  <tbody>\n",
       "    <tr>\n",
       "      <th>0</th>\n",
       "      <td>5</td>\n",
       "      <td>3.51</td>\n",
       "      <td>9.4</td>\n",
       "    </tr>\n",
       "    <tr>\n",
       "      <th>1</th>\n",
       "      <td>5</td>\n",
       "      <td>3.20</td>\n",
       "      <td>9.8</td>\n",
       "    </tr>\n",
       "    <tr>\n",
       "      <th>2</th>\n",
       "      <td>5</td>\n",
       "      <td>3.26</td>\n",
       "      <td>9.8</td>\n",
       "    </tr>\n",
       "    <tr>\n",
       "      <th>3</th>\n",
       "      <td>6</td>\n",
       "      <td>3.16</td>\n",
       "      <td>9.8</td>\n",
       "    </tr>\n",
       "    <tr>\n",
       "      <th>4</th>\n",
       "      <td>5</td>\n",
       "      <td>3.51</td>\n",
       "      <td>9.4</td>\n",
       "    </tr>\n",
       "    <tr>\n",
       "      <th>...</th>\n",
       "      <td>...</td>\n",
       "      <td>...</td>\n",
       "      <td>...</td>\n",
       "    </tr>\n",
       "    <tr>\n",
       "      <th>1594</th>\n",
       "      <td>5</td>\n",
       "      <td>3.45</td>\n",
       "      <td>10.5</td>\n",
       "    </tr>\n",
       "    <tr>\n",
       "      <th>1595</th>\n",
       "      <td>6</td>\n",
       "      <td>3.52</td>\n",
       "      <td>11.2</td>\n",
       "    </tr>\n",
       "    <tr>\n",
       "      <th>1596</th>\n",
       "      <td>6</td>\n",
       "      <td>3.42</td>\n",
       "      <td>11.0</td>\n",
       "    </tr>\n",
       "    <tr>\n",
       "      <th>1597</th>\n",
       "      <td>5</td>\n",
       "      <td>3.57</td>\n",
       "      <td>10.2</td>\n",
       "    </tr>\n",
       "    <tr>\n",
       "      <th>1598</th>\n",
       "      <td>6</td>\n",
       "      <td>3.39</td>\n",
       "      <td>11.0</td>\n",
       "    </tr>\n",
       "  </tbody>\n",
       "</table>\n",
       "<p>1599 rows × 3 columns</p>\n",
       "</div>"
      ],
      "text/plain": [
       "      quality    pH  alcohol\n",
       "0           5  3.51      9.4\n",
       "1           5  3.20      9.8\n",
       "2           5  3.26      9.8\n",
       "3           6  3.16      9.8\n",
       "4           5  3.51      9.4\n",
       "...       ...   ...      ...\n",
       "1594        5  3.45     10.5\n",
       "1595        6  3.52     11.2\n",
       "1596        6  3.42     11.0\n",
       "1597        5  3.57     10.2\n",
       "1598        6  3.39     11.0\n",
       "\n",
       "[1599 rows x 3 columns]"
      ]
     },
     "execution_count": 30,
     "metadata": {},
     "output_type": "execute_result"
    }
   ],
   "source": [
    "wine_data.loc[:,[\"quality\",\"pH\",\"alcohol\"]]"
   ]
  },
  {
   "cell_type": "markdown",
   "metadata": {
    "slideshow": {
     "slide_type": "subslide"
    }
   },
   "source": [
    "#### I can look at standard stats about whatever I want"
   ]
  },
  {
   "cell_type": "code",
   "execution_count": 31,
   "metadata": {
    "slideshow": {
     "slide_type": "fragment"
    }
   },
   "outputs": [
    {
     "name": "stdout",
     "output_type": "stream",
     "text": [
      "10.4229831144465\n",
      "0.8075694397347023\n"
     ]
    }
   ],
   "source": [
    "print(wine_data[\"alcohol\"].mean())\n",
    "print(wine_data[\"quality\"].std())"
   ]
  },
  {
   "cell_type": "markdown",
   "metadata": {
    "slideshow": {
     "slide_type": "subslide"
    }
   },
   "source": [
    "#### I can do mathematical work to the whole frame or specific columns/rows.  I'm going to make the quality of the wine be 100 based instead of 10 based by multiplying it by 10"
   ]
  },
  {
   "cell_type": "code",
   "execution_count": 32,
   "metadata": {
    "slideshow": {
     "slide_type": "fragment"
    }
   },
   "outputs": [
    {
     "data": {
      "text/html": [
       "<div>\n",
       "<style scoped>\n",
       "    .dataframe tbody tr th:only-of-type {\n",
       "        vertical-align: middle;\n",
       "    }\n",
       "\n",
       "    .dataframe tbody tr th {\n",
       "        vertical-align: top;\n",
       "    }\n",
       "\n",
       "    .dataframe thead th {\n",
       "        text-align: right;\n",
       "    }\n",
       "</style>\n",
       "<table border=\"1\" class=\"dataframe\">\n",
       "  <thead>\n",
       "    <tr style=\"text-align: right;\">\n",
       "      <th></th>\n",
       "      <th>quality</th>\n",
       "      <th>fixed acidity</th>\n",
       "      <th>volatile acidity</th>\n",
       "      <th>citric acid</th>\n",
       "      <th>residual sugar</th>\n",
       "      <th>free sulfur dioxide</th>\n",
       "      <th>total sulfur dioxide</th>\n",
       "      <th>density</th>\n",
       "      <th>pH</th>\n",
       "      <th>sulphates</th>\n",
       "      <th>alcohol</th>\n",
       "    </tr>\n",
       "  </thead>\n",
       "  <tbody>\n",
       "    <tr>\n",
       "      <th>0</th>\n",
       "      <td>50</td>\n",
       "      <td>7.4</td>\n",
       "      <td>0.70</td>\n",
       "      <td>0.00</td>\n",
       "      <td>1.9</td>\n",
       "      <td>11.0</td>\n",
       "      <td>34.0</td>\n",
       "      <td>0.9978</td>\n",
       "      <td>3.51</td>\n",
       "      <td>0.56</td>\n",
       "      <td>9.4</td>\n",
       "    </tr>\n",
       "    <tr>\n",
       "      <th>1</th>\n",
       "      <td>50</td>\n",
       "      <td>7.8</td>\n",
       "      <td>0.88</td>\n",
       "      <td>0.00</td>\n",
       "      <td>2.6</td>\n",
       "      <td>25.0</td>\n",
       "      <td>67.0</td>\n",
       "      <td>0.9968</td>\n",
       "      <td>3.20</td>\n",
       "      <td>0.68</td>\n",
       "      <td>9.8</td>\n",
       "    </tr>\n",
       "    <tr>\n",
       "      <th>2</th>\n",
       "      <td>50</td>\n",
       "      <td>7.8</td>\n",
       "      <td>0.76</td>\n",
       "      <td>0.04</td>\n",
       "      <td>2.3</td>\n",
       "      <td>15.0</td>\n",
       "      <td>54.0</td>\n",
       "      <td>0.9970</td>\n",
       "      <td>3.26</td>\n",
       "      <td>0.65</td>\n",
       "      <td>9.8</td>\n",
       "    </tr>\n",
       "    <tr>\n",
       "      <th>3</th>\n",
       "      <td>60</td>\n",
       "      <td>11.2</td>\n",
       "      <td>0.28</td>\n",
       "      <td>0.56</td>\n",
       "      <td>1.9</td>\n",
       "      <td>17.0</td>\n",
       "      <td>60.0</td>\n",
       "      <td>0.9980</td>\n",
       "      <td>3.16</td>\n",
       "      <td>0.58</td>\n",
       "      <td>9.8</td>\n",
       "    </tr>\n",
       "    <tr>\n",
       "      <th>4</th>\n",
       "      <td>50</td>\n",
       "      <td>7.4</td>\n",
       "      <td>0.70</td>\n",
       "      <td>0.00</td>\n",
       "      <td>1.9</td>\n",
       "      <td>11.0</td>\n",
       "      <td>34.0</td>\n",
       "      <td>0.9978</td>\n",
       "      <td>3.51</td>\n",
       "      <td>0.56</td>\n",
       "      <td>9.4</td>\n",
       "    </tr>\n",
       "  </tbody>\n",
       "</table>\n",
       "</div>"
      ],
      "text/plain": [
       "   quality  fixed acidity  volatile acidity  citric acid  residual sugar  \\\n",
       "0       50            7.4              0.70         0.00             1.9   \n",
       "1       50            7.8              0.88         0.00             2.6   \n",
       "2       50            7.8              0.76         0.04             2.3   \n",
       "3       60           11.2              0.28         0.56             1.9   \n",
       "4       50            7.4              0.70         0.00             1.9   \n",
       "\n",
       "   free sulfur dioxide  total sulfur dioxide  density    pH  sulphates  \\\n",
       "0                 11.0                  34.0   0.9978  3.51       0.56   \n",
       "1                 25.0                  67.0   0.9968  3.20       0.68   \n",
       "2                 15.0                  54.0   0.9970  3.26       0.65   \n",
       "3                 17.0                  60.0   0.9980  3.16       0.58   \n",
       "4                 11.0                  34.0   0.9978  3.51       0.56   \n",
       "\n",
       "   alcohol  \n",
       "0      9.4  \n",
       "1      9.8  \n",
       "2      9.8  \n",
       "3      9.8  \n",
       "4      9.4  "
      ]
     },
     "execution_count": 32,
     "metadata": {},
     "output_type": "execute_result"
    }
   ],
   "source": [
    "wine_data[\"quality\"]=wine_data[\"quality\"]*10\n",
    "wine_data.head()"
   ]
  },
  {
   "cell_type": "markdown",
   "metadata": {
    "slideshow": {
     "slide_type": "subslide"
    }
   },
   "source": [
    "#### Because I'm only intested in high quality wine, I'm going to just keep the above average wine rows.  I'll create a new dataframe to hold this data."
   ]
  },
  {
   "cell_type": "markdown",
   "metadata": {
    "slideshow": {
     "slide_type": "fragment"
    }
   },
   "source": [
    "#### First I need to create a data series showing which rows have higher than average quality"
   ]
  },
  {
   "cell_type": "code",
   "execution_count": 33,
   "metadata": {
    "slideshow": {
     "slide_type": "subslide"
    }
   },
   "outputs": [
    {
     "name": "stdout",
     "output_type": "stream",
     "text": [
      "0       False\n",
      "1       False\n",
      "2       False\n",
      "3        True\n",
      "4       False\n",
      "        ...  \n",
      "1594    False\n",
      "1595     True\n",
      "1596     True\n",
      "1597    False\n",
      "1598     True\n",
      "Name: quality, Length: 1599, dtype: bool\n"
     ]
    }
   ],
   "source": [
    "high_quality_wine_bool = wine_data[\"quality\"] > wine_data[\"quality\"].mean()\n",
    "print(high_quality_wine_bool)"
   ]
  },
  {
   "cell_type": "markdown",
   "metadata": {
    "slideshow": {
     "slide_type": "subslide"
    }
   },
   "source": [
    "#### I can now use this boolean series to create a dataframe that only contains the rows where the series is \"True\""
   ]
  },
  {
   "cell_type": "code",
   "execution_count": 34,
   "metadata": {
    "scrolled": true,
    "slideshow": {
     "slide_type": "subslide"
    }
   },
   "outputs": [
    {
     "data": {
      "text/html": [
       "<div>\n",
       "<style scoped>\n",
       "    .dataframe tbody tr th:only-of-type {\n",
       "        vertical-align: middle;\n",
       "    }\n",
       "\n",
       "    .dataframe tbody tr th {\n",
       "        vertical-align: top;\n",
       "    }\n",
       "\n",
       "    .dataframe thead th {\n",
       "        text-align: right;\n",
       "    }\n",
       "</style>\n",
       "<table border=\"1\" class=\"dataframe\">\n",
       "  <thead>\n",
       "    <tr style=\"text-align: right;\">\n",
       "      <th></th>\n",
       "      <th>quality</th>\n",
       "      <th>fixed acidity</th>\n",
       "      <th>volatile acidity</th>\n",
       "      <th>citric acid</th>\n",
       "      <th>residual sugar</th>\n",
       "      <th>free sulfur dioxide</th>\n",
       "      <th>total sulfur dioxide</th>\n",
       "      <th>density</th>\n",
       "      <th>pH</th>\n",
       "      <th>sulphates</th>\n",
       "      <th>alcohol</th>\n",
       "    </tr>\n",
       "  </thead>\n",
       "  <tbody>\n",
       "    <tr>\n",
       "      <th>count</th>\n",
       "      <td>855.000000</td>\n",
       "      <td>855.000000</td>\n",
       "      <td>855.000000</td>\n",
       "      <td>855.000000</td>\n",
       "      <td>855.000000</td>\n",
       "      <td>855.000000</td>\n",
       "      <td>855.000000</td>\n",
       "      <td>855.000000</td>\n",
       "      <td>855.000000</td>\n",
       "      <td>855.000000</td>\n",
       "      <td>855.000000</td>\n",
       "    </tr>\n",
       "    <tr>\n",
       "      <th>mean</th>\n",
       "      <td>62.748538</td>\n",
       "      <td>8.474035</td>\n",
       "      <td>0.474146</td>\n",
       "      <td>0.299883</td>\n",
       "      <td>2.535965</td>\n",
       "      <td>15.272515</td>\n",
       "      <td>39.352047</td>\n",
       "      <td>0.996467</td>\n",
       "      <td>3.310643</td>\n",
       "      <td>0.692620</td>\n",
       "      <td>10.855029</td>\n",
       "    </tr>\n",
       "    <tr>\n",
       "      <th>std</th>\n",
       "      <td>4.916270</td>\n",
       "      <td>1.862795</td>\n",
       "      <td>0.161999</td>\n",
       "      <td>0.199889</td>\n",
       "      <td>1.424835</td>\n",
       "      <td>10.038538</td>\n",
       "      <td>27.253280</td>\n",
       "      <td>0.002067</td>\n",
       "      <td>0.154554</td>\n",
       "      <td>0.155558</td>\n",
       "      <td>1.106109</td>\n",
       "    </tr>\n",
       "    <tr>\n",
       "      <th>min</th>\n",
       "      <td>60.000000</td>\n",
       "      <td>4.700000</td>\n",
       "      <td>0.120000</td>\n",
       "      <td>0.000000</td>\n",
       "      <td>0.900000</td>\n",
       "      <td>1.000000</td>\n",
       "      <td>6.000000</td>\n",
       "      <td>0.990070</td>\n",
       "      <td>2.860000</td>\n",
       "      <td>0.390000</td>\n",
       "      <td>8.400000</td>\n",
       "    </tr>\n",
       "    <tr>\n",
       "      <th>25%</th>\n",
       "      <td>60.000000</td>\n",
       "      <td>7.100000</td>\n",
       "      <td>0.350000</td>\n",
       "      <td>0.115000</td>\n",
       "      <td>1.900000</td>\n",
       "      <td>7.000000</td>\n",
       "      <td>20.000000</td>\n",
       "      <td>0.995185</td>\n",
       "      <td>3.210000</td>\n",
       "      <td>0.590000</td>\n",
       "      <td>10.000000</td>\n",
       "    </tr>\n",
       "    <tr>\n",
       "      <th>50%</th>\n",
       "      <td>60.000000</td>\n",
       "      <td>8.000000</td>\n",
       "      <td>0.460000</td>\n",
       "      <td>0.310000</td>\n",
       "      <td>2.200000</td>\n",
       "      <td>13.000000</td>\n",
       "      <td>33.000000</td>\n",
       "      <td>0.996400</td>\n",
       "      <td>3.310000</td>\n",
       "      <td>0.660000</td>\n",
       "      <td>10.800000</td>\n",
       "    </tr>\n",
       "    <tr>\n",
       "      <th>75%</th>\n",
       "      <td>70.000000</td>\n",
       "      <td>9.650000</td>\n",
       "      <td>0.580000</td>\n",
       "      <td>0.460000</td>\n",
       "      <td>2.600000</td>\n",
       "      <td>20.500000</td>\n",
       "      <td>50.000000</td>\n",
       "      <td>0.997685</td>\n",
       "      <td>3.400000</td>\n",
       "      <td>0.770000</td>\n",
       "      <td>11.700000</td>\n",
       "    </tr>\n",
       "    <tr>\n",
       "      <th>max</th>\n",
       "      <td>80.000000</td>\n",
       "      <td>15.600000</td>\n",
       "      <td>1.040000</td>\n",
       "      <td>0.780000</td>\n",
       "      <td>15.400000</td>\n",
       "      <td>72.000000</td>\n",
       "      <td>289.000000</td>\n",
       "      <td>1.003690</td>\n",
       "      <td>4.010000</td>\n",
       "      <td>1.950000</td>\n",
       "      <td>14.000000</td>\n",
       "    </tr>\n",
       "  </tbody>\n",
       "</table>\n",
       "</div>"
      ],
      "text/plain": [
       "          quality  fixed acidity  volatile acidity  citric acid  \\\n",
       "count  855.000000     855.000000        855.000000   855.000000   \n",
       "mean    62.748538       8.474035          0.474146     0.299883   \n",
       "std      4.916270       1.862795          0.161999     0.199889   \n",
       "min     60.000000       4.700000          0.120000     0.000000   \n",
       "25%     60.000000       7.100000          0.350000     0.115000   \n",
       "50%     60.000000       8.000000          0.460000     0.310000   \n",
       "75%     70.000000       9.650000          0.580000     0.460000   \n",
       "max     80.000000      15.600000          1.040000     0.780000   \n",
       "\n",
       "       residual sugar  free sulfur dioxide  total sulfur dioxide     density  \\\n",
       "count      855.000000           855.000000            855.000000  855.000000   \n",
       "mean         2.535965            15.272515             39.352047    0.996467   \n",
       "std          1.424835            10.038538             27.253280    0.002067   \n",
       "min          0.900000             1.000000              6.000000    0.990070   \n",
       "25%          1.900000             7.000000             20.000000    0.995185   \n",
       "50%          2.200000            13.000000             33.000000    0.996400   \n",
       "75%          2.600000            20.500000             50.000000    0.997685   \n",
       "max         15.400000            72.000000            289.000000    1.003690   \n",
       "\n",
       "               pH   sulphates     alcohol  \n",
       "count  855.000000  855.000000  855.000000  \n",
       "mean     3.310643    0.692620   10.855029  \n",
       "std      0.154554    0.155558    1.106109  \n",
       "min      2.860000    0.390000    8.400000  \n",
       "25%      3.210000    0.590000   10.000000  \n",
       "50%      3.310000    0.660000   10.800000  \n",
       "75%      3.400000    0.770000   11.700000  \n",
       "max      4.010000    1.950000   14.000000  "
      ]
     },
     "execution_count": 34,
     "metadata": {},
     "output_type": "execute_result"
    }
   ],
   "source": [
    "high_quality_wine = wine_data[high_quality_wine_bool]\n",
    "high_quality_wine.describe() "
   ]
  },
  {
   "cell_type": "markdown",
   "metadata": {
    "slideshow": {
     "slide_type": "slide"
    }
   },
   "source": [
    "## Topic 5: Pandas Time Series"
   ]
  },
  {
   "cell_type": "markdown",
   "metadata": {
    "slideshow": {
     "slide_type": "fragment"
    }
   },
   "source": [
    "## Pandas is used quite often for time series.  In the interest of time, we don't dig into this specifically but I've included a few links in Blackboard if you want to learn more about it.  In appropriate cases, it can be quite powerful"
   ]
  }
 ],
 "metadata": {
  "celltoolbar": "Slideshow",
  "kernelspec": {
   "display_name": "Python 3",
   "language": "python",
   "name": "python3"
  },
  "language_info": {
   "codemirror_mode": {
    "name": "ipython",
    "version": 3
   },
   "file_extension": ".py",
   "mimetype": "text/x-python",
   "name": "python",
   "nbconvert_exporter": "python",
   "pygments_lexer": "ipython3",
   "version": "3.7.6"
  }
 },
 "nbformat": 4,
 "nbformat_minor": 4
}
