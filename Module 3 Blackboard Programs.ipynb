{
 "cells": [
  {
   "cell_type": "markdown",
   "metadata": {
    "slideshow": {
     "slide_type": "slide"
    }
   },
   "source": [
    "# Module 3 - File I/O and NumPy"
   ]
  },
  {
   "cell_type": "markdown",
   "metadata": {
    "slideshow": {
     "slide_type": "subslide"
    }
   },
   "source": [
    "## Topic 1 - Web Scraping, File I/O"
   ]
  },
  {
   "cell_type": "markdown",
   "metadata": {
    "slideshow": {
     "slide_type": "fragment"
    }
   },
   "source": [
    "### There's a great deal of valuable data being created every second on the web. If we can gather this data and store it in a clean, structured way, it can be used in our programs¶"
   ]
  },
  {
   "cell_type": "markdown",
   "metadata": {
    "slideshow": {
     "slide_type": "subslide"
    }
   },
   "source": [
    "### Web Scraping Example"
   ]
  },
  {
   "cell_type": "code",
   "execution_count": 1,
   "metadata": {
    "slideshow": {
     "slide_type": "subslide"
    }
   },
   "outputs": [],
   "source": [
    "from requests import get\n",
    "from contextlib import closing\n",
    "from bs4 import BeautifulSoup"
   ]
  },
  {
   "cell_type": "code",
   "execution_count": 2,
   "metadata": {
    "slideshow": {
     "slide_type": "subslide"
    }
   },
   "outputs": [],
   "source": [
    "def get_a_page(url):\n",
    "    header = {'User-agent' : 'Mozilla/5.0 (Windows; U; Windows NT 5.1; de; rv:1.9.1.5) Gecko/20091102 Firefox/3.5.5'}\n",
    "    with closing(get(url, headers=header)) as resp:\n",
    "        return resp"
   ]
  },
  {
   "cell_type": "code",
   "execution_count": 3,
   "metadata": {
    "slideshow": {
     "slide_type": "fragment"
    }
   },
   "outputs": [],
   "source": [
    "raw_html = get_a_page(\"https://desmoines.craigslist.org/d/recreational-vehicles/search/rva\")"
   ]
  },
  {
   "cell_type": "code",
   "execution_count": 4,
   "metadata": {
    "scrolled": true,
    "slideshow": {
     "slide_type": "fragment"
    }
   },
   "outputs": [
    {
     "name": "stdout",
     "output_type": "stream",
     "text": [
      "<class 'bs4.element.ResultSet'>\n",
      "120\n"
     ]
    }
   ],
   "source": [
    "html = BeautifulSoup(raw_html.text, 'html.parser')\n",
    "postings = html.find_all('li', class_= 'result-row')\n",
    "print(type(postings))\n",
    "print(len(postings))"
   ]
  },
  {
   "cell_type": "code",
   "execution_count": 5,
   "metadata": {
    "slideshow": {
     "slide_type": "fragment"
    }
   },
   "outputs": [
    {
     "name": "stdout",
     "output_type": "stream",
     "text": [
      "<li class=\"result-row\" data-pid=\"7194302955\" data-repost-of=\"7192502030\">\n",
      "<a class=\"result-image gallery\" data-ids=\"3:00V0V_alm2M2tBhPp_09v06X,3:01313_h0l91pIOv9f_0bX0bb,3:00v0v_fwdnNDLXdZ5_0eK0b2,3:00W0W_hbXZ500OOed_0eR0b1,3:00J0J_ctkMKb2XyYO_0eZ0aV\" href=\"https://desmoines.craigslist.org/rvs/d/des-moines-2003-coleman-niagara-elite/7194302955.html\">\n",
      "<span class=\"result-price\">$800</span>\n",
      "</a>\n",
      "<p class=\"result-info\">\n",
      "<span class=\"icon icon-star\" role=\"button\">\n",
      "<span class=\"screen-reader-text\">favorite this post</span>\n",
      "</span>\n",
      "<time class=\"result-date\" datetime=\"2020-09-11 11:38\" title=\"Fri 11 Sep 11:38:30 AM\">Sep 11</time>\n",
      "<a class=\"result-title hdrlnk\" data-id=\"7194302955\" href=\"https://desmoines.craigslist.org/rvs/d/des-moines-2003-coleman-niagara-elite/7194302955.html\">2003 Coleman Niagara Elite popup tent trailer</a>\n",
      "<span class=\"result-meta\">\n",
      "<span class=\"result-price\">$800</span>\n",
      "<span class=\"result-hood\"> (Des Moines)</span>\n",
      "<span class=\"result-tags\">\n",
      "<span class=\"pictag\">pic</span>\n",
      "</span>\n",
      "<span class=\"banish icon icon-trash\" role=\"button\">\n",
      "<span class=\"screen-reader-text\">hide this posting</span>\n",
      "</span>\n",
      "<span aria-hidden=\"true\" class=\"unbanish icon icon-trash red\" role=\"button\"></span>\n",
      "<a class=\"restore-link\" href=\"#\">\n",
      "<span class=\"restore-narrow-text\">restore</span>\n",
      "<span class=\"restore-wide-text\">restore this posting</span>\n",
      "</a>\n",
      "</span>\n",
      "</p>\n",
      "</li>\n"
     ]
    }
   ],
   "source": [
    "print (postings[0])"
   ]
  },
  {
   "cell_type": "markdown",
   "metadata": {
    "slideshow": {
     "slide_type": "subslide"
    }
   },
   "source": [
    "### Get data for a single posting to ensure this works"
   ]
  },
  {
   "cell_type": "code",
   "execution_count": 7,
   "metadata": {
    "slideshow": {
     "slide_type": "subslide"
    }
   },
   "outputs": [
    {
     "name": "stdout",
     "output_type": "stream",
     "text": [
      "$800\n",
      "2020-09-11 11:38\n"
     ]
    }
   ],
   "source": [
    "# Get price for first listing\n",
    "post_1_price = postings[0].a.text\n",
    "post_1_price = post_1_price.strip()\n",
    "print(post_1_price)\n",
    "# Get timestamp for first listing\n",
    "post_1_time = postings[0].find('time', class_= 'result-date')\n",
    "post_1_datetime = post_1_time['datetime']\n",
    "print(post_1_datetime)"
   ]
  },
  {
   "cell_type": "code",
   "execution_count": 8,
   "metadata": {
    "slideshow": {
     "slide_type": "subslide"
    }
   },
   "outputs": [
    {
     "name": "stdout",
     "output_type": "stream",
     "text": [
      "https://desmoines.craigslist.org/rvs/d/des-moines-2003-coleman-niagara-elite/7194302955.html 2003 Coleman Niagara Elite popup tent trailer\n"
     ]
    }
   ],
   "source": [
    "# Get text of title of first listing\n",
    "post_1_title = postings[0].find('a', class_= 'result-title hdrlnk')\n",
    "post_1_link = post_1_title['href']\n",
    "print( post_1_link,post_1_title.text)"
   ]
  },
  {
   "cell_type": "code",
   "execution_count": 9,
   "metadata": {
    "slideshow": {
     "slide_type": "subslide"
    }
   },
   "outputs": [
    {
     "name": "stdout",
     "output_type": "stream",
     "text": [
      " (Des Moines)\n"
     ]
    }
   ],
   "source": [
    "post_1_location = postings[0].find(class_= 'result-hood')\n",
    "print(post_1_location.text)"
   ]
  },
  {
   "cell_type": "markdown",
   "metadata": {
    "slideshow": {
     "slide_type": "subslide"
    }
   },
   "source": [
    "### Now gather data for all listings"
   ]
  },
  {
   "cell_type": "code",
   "execution_count": 10,
   "metadata": {
    "slideshow": {
     "slide_type": "subslide"
    }
   },
   "outputs": [],
   "source": [
    "from time import sleep\n",
    "import re # regex library\n",
    "from random import randint #avoid throttling by not sending too many requests one after the other\n",
    "from warnings import warn\n",
    "from time import time\n",
    "from IPython.core.display import clear_output\n",
    "import numpy as np"
   ]
  },
  {
   "cell_type": "code",
   "execution_count": 11,
   "metadata": {
    "slideshow": {
     "slide_type": "subslide"
    }
   },
   "outputs": [
    {
     "name": "stdout",
     "output_type": "stream",
     "text": [
      "187\n"
     ]
    }
   ],
   "source": [
    "results_num = html.find('div', class_= 'search-legend')\n",
    "results_total = int(results_num.find('span', class_='totalcount').text)\n",
    "print(results_total)"
   ]
  },
  {
   "cell_type": "code",
   "execution_count": 12,
   "metadata": {
    "slideshow": {
     "slide_type": "subslide"
    }
   },
   "outputs": [
    {
     "name": "stdout",
     "output_type": "stream",
     "text": [
      "[  0 120]\n"
     ]
    }
   ],
   "source": [
    "pages = np.arange(0, results_total+1, 120)\n",
    "print(pages)"
   ]
  },
  {
   "cell_type": "code",
   "execution_count": 13,
   "metadata": {
    "slideshow": {
     "slide_type": "subslide"
    }
   },
   "outputs": [],
   "source": [
    "iterations = 0\n",
    "\n",
    "post_timing = []\n",
    "post_hoods = []\n",
    "post_title_texts = []\n",
    "post_prices = []\n",
    "post_links = []"
   ]
  },
  {
   "cell_type": "code",
   "execution_count": 14,
   "metadata": {
    "slideshow": {
     "slide_type": "subslide"
    }
   },
   "outputs": [
    {
     "name": "stdout",
     "output_type": "stream",
     "text": [
      "Page 1 scraped successfully!\n",
      "Page 2 scraped successfully!\n",
      "\n",
      "\n",
      "Scrape complete!\n"
     ]
    }
   ],
   "source": [
    "for page in pages:\n",
    "    \n",
    "    #get request\n",
    "    response = get(\"https://desmoines.craigslist.org/d/recreational-vehicles/search/rva?\" \n",
    "                   + \"s=\" #the parameter for defining the page number \n",
    "                   + str(page) #the page number in the pages array from earlier\n",
    "                   )\n",
    "\n",
    "    sleep(randint(1,5))\n",
    "     \n",
    "    #throw warning for status codes that are not 200\n",
    "    if response.status_code != 200:\n",
    "        warn('Request: {}; Status code: {}'.format(requests, response.status_code))\n",
    "        \n",
    "    #define the html text\n",
    "    page_html = BeautifulSoup(response.text, 'html.parser')\n",
    "    \n",
    "    #define the posts\n",
    "    posts = page_html.find_all('li', class_= 'result-row')\n",
    "        \n",
    "    #extract data item-wise\n",
    "    for post in posts:\n",
    "\n",
    "        if post.find('span', class_ = 'result-hood') is not None:\n",
    "\n",
    "            #posting date\n",
    "            #grab the datetime element 0 for date and 1 for time\n",
    "            post_datetime = post.find('time', class_= 'result-date')['datetime']\n",
    "            post_timing.append(post_datetime)\n",
    "\n",
    "            #neighborhoods\n",
    "            post_hood = post.find('span', class_= 'result-hood').text\n",
    "            post_hoods.append(post_hood)\n",
    "\n",
    "            #title text\n",
    "            post_title = post.find('a', class_='result-title hdrlnk')\n",
    "            post_title_text = post_title.text\n",
    "            post_title_texts.append(post_title_text)\n",
    "\n",
    "            #post link\n",
    "            post_link = post_title['href']\n",
    "            post_links.append(post_link)\n",
    "            \n",
    "            #removes the \\n whitespace from each side, removes the currency symbol, and turns it into an int\n",
    "            if post.a.text == \"\":\n",
    "                post_price = 0\n",
    "            else:\n",
    "                post_price = int((post.a.text.strip().replace(\"$\", \"\")).replace(\",\", \"\")) \n",
    "            post_prices.append(post_price)\n",
    "            \n",
    "    iterations += 1\n",
    "    print(\"Page \" + str(iterations) + \" scraped successfully!\")\n",
    "\n",
    "print(\"\\n\")\n",
    "\n",
    "print(\"Scrape complete!\")"
   ]
  },
  {
   "cell_type": "code",
   "execution_count": 16,
   "metadata": {
    "slideshow": {
     "slide_type": "subslide"
    }
   },
   "outputs": [
    {
     "name": "stdout",
     "output_type": "stream",
     "text": [
      "['2020-09-11 11:38', ' (Des Moines)', '2003 Coleman Niagara Elite popup tent trailer', 800, 'https://desmoines.craigslist.org/rvs/d/des-moines-2003-coleman-niagara-elite/7194302955.html']\n"
     ]
    }
   ],
   "source": [
    "# I can now load all my lists into a dictionary of lists (or whatever data structure makes the most sense)\n",
    "all_listing_dict = {}\n",
    "for listing in range (0,len(post_title_texts)):\n",
    "    all_listing_dict[listing]=[post_timing[listing],post_hoods[listing],post_title_texts[listing],post_prices[listing],post_links[listing]]\n",
    "\n",
    "#print(all_listing_dict)\n",
    "print(all_listing_dict[0])\n",
    "#print(all_listing_dict[1])"
   ]
  },
  {
   "cell_type": "code",
   "execution_count": 17,
   "metadata": {
    "slideshow": {
     "slide_type": "subslide"
    }
   },
   "outputs": [
    {
     "name": "stdout",
     "output_type": "stream",
     "text": [
      "800\n",
      "200\n",
      "28000\n",
      "0\n",
      "23900\n",
      "6500\n",
      "51800\n",
      "178000\n",
      "14900\n",
      "10500\n",
      "110\n",
      "5700\n",
      "150\n",
      "59900\n",
      "12995\n",
      "0\n",
      "64500\n",
      "0\n",
      "14999\n",
      "130\n",
      "17500\n",
      "12000\n",
      "82500\n",
      "12999\n",
      "100\n",
      "9200\n",
      "4500\n",
      "189999\n",
      "160\n",
      "11500\n",
      "60000\n",
      "14995\n",
      "14995\n",
      "31900\n",
      "42000\n",
      "84999\n",
      "63000\n",
      "15999\n",
      "15900\n",
      "7500\n",
      "6700\n",
      "28900\n",
      "17500\n",
      "16500\n",
      "0\n",
      "1571\n",
      "119999\n",
      "7000\n",
      "7300\n",
      "113700\n",
      "7999\n",
      "14300\n",
      "13500\n",
      "0\n",
      "21500\n",
      "6995\n",
      "19999\n",
      "6500\n",
      "8500\n",
      "28499\n",
      "16999\n",
      "10900\n",
      "26000\n",
      "15500\n",
      "32000\n",
      "36500\n",
      "40000\n",
      "169000\n",
      "79988\n",
      "48999\n",
      "28499\n",
      "11500\n",
      "11500\n",
      "700\n",
      "7250\n",
      "195000\n",
      "0\n",
      "110000\n",
      "16999\n",
      "48999\n",
      "17500\n",
      "28499\n",
      "16999\n",
      "19500\n",
      "40000\n",
      "10500\n",
      "0\n",
      "14500\n",
      "14900\n",
      "9500\n",
      "48999\n",
      "28499\n",
      "39490\n",
      "79399\n",
      "0\n",
      "29799\n",
      "16999\n",
      "48999\n",
      "48500\n",
      "13500\n",
      "0\n",
      "28499\n",
      "48999\n",
      "14000\n",
      "37350\n",
      "28999\n",
      "99999\n",
      "96999\n",
      "25500\n",
      "16999\n",
      "28499\n",
      "59500\n",
      "16500\n",
      "37000\n",
      "48999\n",
      "28499\n",
      "11200\n",
      "13500\n",
      "16999\n",
      "28499\n",
      "15690\n",
      "48999\n",
      "16999\n",
      "20000\n",
      "18900\n",
      "6700\n",
      "0\n",
      "12999\n",
      "6500\n",
      "13900\n",
      "28499\n",
      "48999\n",
      "14995\n",
      "14500\n",
      "6995\n",
      "6995\n",
      "27500\n",
      "0\n",
      "36350\n",
      "37350\n",
      "17900\n",
      "28499\n",
      "48999\n",
      "13950\n",
      "28499\n",
      "5899\n",
      "21995\n",
      "6599\n",
      "48999\n",
      "6595\n",
      "37500\n",
      "5899\n",
      "28499\n",
      "0\n",
      "6599\n",
      "48999\n",
      "13500\n",
      "22500\n",
      "20000\n",
      "3000\n",
      "43855\n",
      "36900\n",
      "14999\n",
      "0\n",
      "5450\n",
      "3400\n",
      "54000\n",
      "17000\n",
      "19900\n",
      "5899\n",
      "28499\n",
      "43900\n",
      "6599\n",
      "48999\n",
      "88000\n"
     ]
    }
   ],
   "source": [
    "for item in all_listing_dict:\n",
    "    print(all_listing_dict[item][3])"
   ]
  },
  {
   "cell_type": "markdown",
   "metadata": {
    "slideshow": {
     "slide_type": "slide"
    }
   },
   "source": [
    "### Topic 1 Continuted: File Input Example"
   ]
  },
  {
   "cell_type": "code",
   "execution_count": 18,
   "metadata": {
    "slideshow": {
     "slide_type": "subslide"
    }
   },
   "outputs": [
    {
     "name": "stdout",
     "output_type": "stream",
     "text": [
      "CHAPTER 1. Loomings.\n",
      "\n",
      "\n",
      "\n",
      "Call me Ishmael. Some years ago—never mind how long precisely—having\n",
      "\n",
      "little or no money in my purse, and nothing particular to interest me\n",
      "\n",
      "on shore, I thought I would sail about a little and see the watery part\n",
      "\n",
      "of the world. It is a way I have of driving off the spleen and\n",
      "\n",
      "regulating the circulation. Whenever I find myself growing grim about\n",
      "\n",
      "the mouth; whenever it is a damp, drizzly November in my soul; whenever\n",
      "\n",
      "I find myself involuntarily pausing before coffin warehouses, and\n",
      "\n",
      "bringing up the rear of every funeral I meet; and especially whenever\n",
      "\n",
      "my hypos get such an upper hand of me, that it requires a strong moral\n",
      "\n",
      "principle to prevent me from deliberately stepping into the street, and\n",
      "\n",
      "methodically knocking people’s hats off—then, I account it high time to\n",
      "\n",
      "get to sea as soon as I can. This is my substitute for pistol and ball.\n",
      "\n",
      "With a philosophical flourish Cato throws himself upon his sword; I\n",
      "\n",
      "quietly take to the ship. There is nothing surprising in this. If they\n",
      "\n",
      "but knew it, almost all men in their degree, some time or other,\n",
      "\n",
      "cherish very nearly the same feelings towards the ocean with me.\n",
      "\n",
      "\n",
      "\n",
      "There now is your insular city of the Manhattoes, belted round by\n",
      "\n",
      "wharves as Indian isles by coral reefs—commerce surrounds it with her\n",
      "\n",
      "surf. Right and left, the streets take you waterward. Its extreme\n",
      "\n",
      "downtown is the battery, where that noble mole is washed by waves, and\n",
      "\n",
      "cooled by breezes, which a few hours previous were out of sight of\n",
      "\n",
      "land. Look at the crowds of water-gazers there.\n",
      "\n",
      "\n",
      "\n",
      "Circumambulate the city of a dreamy Sabbath afternoon. Go from Corlears\n",
      "\n",
      "Hook to Coenties Slip, and from thence, by Whitehall, northward. What\n",
      "\n",
      "do you see?—Posted like silent sentinels all around the town, stand\n",
      "\n",
      "thousands upon thousands of mortal men fixed in ocean reveries. Some\n",
      "\n",
      "leaning against the spiles; some seated upon the pier-heads; some\n",
      "\n",
      "looking over the bulwarks of ships from China; some high aloft in the\n",
      "\n",
      "rigging, as if striving to get a still better seaward peep. But these\n",
      "\n",
      "are all landsmen; of week days pent up in lath and plaster—tied to\n",
      "\n",
      "counters, nailed to benches, clinched to desks. How then is this? Are\n",
      "\n",
      "the green fields gone? What do they here?\n",
      "\n",
      "\n",
      "\n",
      "But look! here come more crowds, pacing straight for the water, and\n",
      "\n",
      "seemingly bound for a dive. Strange! Nothing will content them but the\n",
      "\n",
      "extremest limit of the land; loitering under the shady lee of yonder\n",
      "\n",
      "warehouses will not suffice. No. They must get just as nigh the water\n",
      "\n",
      "as they possibly can without falling in. And there they stand—miles of\n",
      "\n",
      "them—leagues. Inlanders all, they come from lanes and alleys, streets\n",
      "\n",
      "and avenues—north, east, south, and west. Yet here they all unite. Tell\n",
      "\n",
      "me, does the magnetic virtue of the needles of the compasses of all\n",
      "\n",
      "those ships attract them thither?\n",
      "\n",
      "\n",
      "\n",
      "Once more. Say you are in the country; in some high land of lakes. Take\n",
      "\n",
      "almost any path you please, and ten to one it carries you down in a\n",
      "\n",
      "dale, and leaves you there by a pool in the stream. There is magic in\n",
      "\n",
      "it. Let the most absent-minded of men be plunged in his deepest\n",
      "\n",
      "reveries—stand that man on his legs, set his feet a-going, and he will\n",
      "\n",
      "infallibly lead you to water, if water there be in all that region.\n",
      "\n",
      "Should you ever be athirst in the great American desert, try this\n",
      "\n",
      "experiment, if your caravan happen to be supplied with a metaphysical\n",
      "\n",
      "professor. Yes, as every one knows, meditation and water are wedded for\n",
      "\n",
      "ever.\n",
      "\n",
      "\n",
      "\n",
      "But here is an artist. He desires to paint you the dreamiest, shadiest,\n",
      "\n",
      "quietest, most enchanting bit of romantic landscape in all the valley\n",
      "\n",
      "of the Saco. What is the chief element he employs? There stand his\n",
      "\n",
      "trees, each with a hollow trunk, as if a hermit and a crucifix were\n",
      "\n",
      "within; and here sleeps his meadow, and there sleep his cattle; and up\n",
      "\n",
      "from yonder cottage goes a sleepy smoke. Deep into distant woodlands\n",
      "\n",
      "winds a mazy way, reaching to overlapping spurs of mountains bathed in\n",
      "\n",
      "their hill-side blue. But though the picture lies thus tranced, and\n",
      "\n",
      "though this pine-tree shakes down its sighs like leaves upon this\n",
      "\n",
      "shepherd’s head, yet all were vain, unless the shepherd’s eye were\n",
      "\n",
      "fixed upon the magic stream before him. Go visit the Prairies in June,\n",
      "\n",
      "when for scores on scores of miles you wade knee-deep among\n",
      "\n",
      "Tiger-lilies—what is the one charm wanting?—Water—there is not a drop\n",
      "\n",
      "of water there! Were Niagara but a cataract of sand, would you travel\n",
      "\n",
      "your thousand miles to see it? Why did the poor poet of Tennessee, upon\n",
      "\n",
      "suddenly receiving two handfuls of silver, deliberate whether to buy\n",
      "\n",
      "him a coat, which he sadly needed, or invest his money in a pedestrian\n",
      "\n",
      "trip to Rockaway Beach? Why is almost every robust healthy boy with a\n",
      "\n",
      "robust healthy soul in him, at some time or other crazy to go to sea?\n",
      "\n",
      "Why upon your first voyage as a passenger, did you yourself feel such a\n",
      "\n",
      "mystical vibration, when first told that you and your ship were now out\n",
      "\n",
      "of sight of land? Why did the old Persians hold the sea holy? Why did\n",
      "\n",
      "the Greeks give it a separate deity, and own brother of Jove? Surely\n",
      "\n",
      "all this is not without meaning. And still deeper the meaning of that\n",
      "\n",
      "story of Narcissus, who because he could not grasp the tormenting, mild\n",
      "\n",
      "image he saw in the fountain, plunged into it and was drowned. But that\n",
      "\n",
      "same image, we ourselves see in all rivers and oceans. It is the image\n",
      "\n",
      "of the ungraspable phantom of life; and this is the key to it all.\n",
      "\n",
      "\n",
      "\n",
      "Now, when I say that I am in the habit of going to sea whenever I begin\n",
      "\n",
      "to grow hazy about the eyes, and begin to be over conscious of my\n",
      "\n",
      "lungs, I do not mean to have it inferred that I ever go to sea as a\n",
      "\n",
      "passenger. For to go as a passenger you must needs have a purse, and a\n",
      "\n",
      "purse is but a rag unless you have something in it. Besides, passengers\n",
      "\n",
      "get sea-sick—grow quarrelsome—don’t sleep of nights—do not enjoy\n",
      "\n",
      "themselves much, as a general thing;—no, I never go as a passenger;\n",
      "\n",
      "nor, though I am something of a salt, do I ever go to sea as a\n",
      "\n",
      "Commodore, or a Captain, or a Cook. I abandon the glory and distinction\n",
      "\n",
      "of such offices to those who like them. For my part, I abominate all\n",
      "\n",
      "honorable respectable toils, trials, and tribulations of every kind\n",
      "\n",
      "whatsoever. It is quite as much as I can do to take care of myself,\n",
      "\n",
      "without taking care of ships, barques, brigs, schooners, and what not.\n",
      "\n",
      "And as for going as cook,—though I confess there is considerable glory\n",
      "\n",
      "in that, a cook being a sort of officer on ship-board—yet, somehow, I\n",
      "\n",
      "never fancied broiling fowls;—though once broiled, judiciously\n",
      "\n",
      "buttered, and judgmatically salted and peppered, there is no one who\n",
      "\n",
      "will speak more respectfully, not to say reverentially, of a broiled\n",
      "\n",
      "fowl than I will. It is out of the idolatrous dotings of the old\n",
      "\n",
      "Egyptians upon broiled ibis and roasted river horse, that you see the\n",
      "\n",
      "mummies of those creatures in their huge bake-houses the pyramids.\n",
      "\n",
      "\n",
      "\n",
      "No, when I go to sea, I go as a simple sailor, right before the mast,\n",
      "\n",
      "plumb down into the forecastle, aloft there to the royal mast-head.\n",
      "\n",
      "True, they rather order me about some, and make me jump from spar to\n",
      "\n",
      "spar, like a grasshopper in a May meadow. And at first, this sort of\n",
      "\n",
      "thing is unpleasant enough. It touches one’s sense of honor,\n",
      "\n",
      "particularly if you come of an old established family in the land, the\n",
      "\n",
      "Van Rensselaers, or Randolphs, or Hardicanutes. And more than all, if\n",
      "\n",
      "just previous to putting your hand into the tar-pot, you have been\n",
      "\n",
      "lording it as a country schoolmaster, making the tallest boys stand in\n",
      "\n",
      "awe of you. The transition is a keen one, I assure you, from a\n",
      "\n",
      "schoolmaster to a sailor, and requires a strong decoction of Seneca and\n",
      "\n",
      "the Stoics to enable you to grin and bear it. But even this wears off\n",
      "\n",
      "in time.\n",
      "\n",
      "\n",
      "\n",
      "What of it, if some old hunks of a sea-captain orders me to get a broom\n",
      "\n",
      "and sweep down the decks? What does that indignity amount to, weighed,\n",
      "\n",
      "I mean, in the scales of the New Testament? Do you think the archangel\n",
      "\n",
      "Gabriel thinks anything the less of me, because I promptly and\n",
      "\n",
      "respectfully obey that old hunks in that particular instance? Who ain’t\n",
      "\n",
      "a slave? Tell me that. Well, then, however the old sea-captains may\n",
      "\n",
      "order me about—however they may thump and punch me about, I have the\n",
      "\n",
      "satisfaction of knowing that it is all right; that everybody else is\n",
      "\n",
      "one way or other served in much the same way—either in a physical or\n",
      "\n",
      "metaphysical point of view, that is; and so the universal thump is\n",
      "\n",
      "passed round, and all hands should rub each other’s shoulder-blades,\n",
      "\n",
      "and be content.\n",
      "\n",
      "\n",
      "\n",
      "Again, I always go to sea as a sailor, because they make a point of\n",
      "\n",
      "paying me for my trouble, whereas they never pay passengers a single\n",
      "\n",
      "penny that I ever heard of. On the contrary, passengers themselves must\n",
      "\n",
      "pay. And there is all the difference in the world between paying and\n",
      "\n",
      "being paid. The act of paying is perhaps the most uncomfortable\n",
      "\n",
      "infliction that the two orchard thieves entailed upon us. But _being\n",
      "\n",
      "paid_,—what will compare with it? The urbane activity with which a man\n",
      "\n",
      "receives money is really marvellous, considering that we so earnestly\n",
      "\n",
      "believe money to be the root of all earthly ills, and that on no\n",
      "\n",
      "account can a monied man enter heaven. Ah! how cheerfully we consign\n",
      "\n",
      "ourselves to perdition!\n",
      "\n",
      "\n",
      "\n",
      "Finally, I always go to sea as a sailor, because of the wholesome\n",
      "\n",
      "exercise and pure air of the fore-castle deck. For as in this world,\n",
      "\n",
      "head winds are far more prevalent than winds from astern (that is, if\n",
      "\n",
      "you never violate the Pythagorean maxim), so for the most part the\n",
      "\n",
      "Commodore on the quarter-deck gets his atmosphere at second hand from\n",
      "\n",
      "the sailors on the forecastle. He thinks he breathes it first; but not\n",
      "\n",
      "so. In much the same way do the commonalty lead their leaders in many\n",
      "\n",
      "other things, at the same time that the leaders little suspect it. But\n",
      "\n",
      "wherefore it was that after having repeatedly smelt the sea as a\n",
      "\n",
      "merchant sailor, I should now take it into my head to go on a whaling\n",
      "\n",
      "voyage; this the invisible police officer of the Fates, who has the\n",
      "\n",
      "constant surveillance of me, and secretly dogs me, and influences me in\n",
      "\n",
      "some unaccountable way—he can better answer than any one else. And,\n",
      "\n",
      "doubtless, my going on this whaling voyage, formed part of the grand\n",
      "\n",
      "programme of Providence that was drawn up a long time ago. It came in\n",
      "\n",
      "as a sort of brief interlude and solo between more extensive\n",
      "\n",
      "performances. I take it that this part of the bill must have run\n",
      "\n",
      "something like this:\n",
      "\n",
      "\n",
      "\n",
      "“_Grand Contested Election for the Presidency of the United States._\n",
      "\n",
      "“WHALING VOYAGE BY ONE ISHMAEL. “BLOODY BATTLE IN AFFGHANISTAN.”\n",
      "\n",
      "\n",
      "\n",
      "Though I cannot tell why it was exactly that those stage managers, the\n",
      "\n",
      "Fates, put me down for this shabby part of a whaling voyage, when\n",
      "\n",
      "others were set down for magnificent parts in high tragedies, and short\n",
      "\n",
      "and easy parts in genteel comedies, and jolly parts in farces—though I\n",
      "\n",
      "cannot tell why this was exactly; yet, now that I recall all the\n",
      "\n",
      "circumstances, I think I can see a little into the springs and motives\n",
      "\n",
      "which being cunningly presented to me under various disguises, induced\n",
      "\n",
      "me to set about performing the part I did, besides cajoling me into the\n",
      "\n",
      "delusion that it was a choice resulting from my own unbiased freewill\n",
      "\n",
      "and discriminating judgment.\n",
      "\n",
      "\n",
      "\n",
      "Chief among these motives was the overwhelming idea of the great whale\n",
      "\n",
      "himself. Such a portentous and mysterious monster roused all my\n",
      "\n",
      "curiosity. Then the wild and distant seas where he rolled his island\n",
      "\n",
      "bulk; the undeliverable, nameless perils of the whale; these, with all\n",
      "\n",
      "the attending marvels of a thousand Patagonian sights and sounds,\n",
      "\n",
      "helped to sway me to my wish. With other men, perhaps, such things\n",
      "\n",
      "would not have been inducements; but as for me, I am tormented with an\n",
      "\n",
      "everlasting itch for things remote. I love to sail forbidden seas, and\n",
      "\n",
      "land on barbarous coasts. Not ignoring what is good, I am quick to\n",
      "\n",
      "perceive a horror, and could still be social with it—would they let\n",
      "\n",
      "me—since it is but well to be on friendly terms with all the inmates of\n",
      "\n",
      "the place one lodges in.\n",
      "\n",
      "\n",
      "\n",
      "By reason of these things, then, the whaling voyage was welcome; the\n",
      "\n",
      "great flood-gates of the wonder-world swung open, and in the wild\n",
      "\n",
      "conceits that swayed me to my purpose, two and two there floated into\n",
      "\n",
      "my inmost soul, endless processions of the whale, and, mid most of them\n",
      "\n",
      "all, one grand hooded phantom, like a snow hill in the air.\n"
     ]
    }
   ],
   "source": [
    "# This example assumes you have the Moby_Dick_Chapter_1.txt file in the same directory as your program\n",
    "with open('Moby_Dick_Chapter_1.txt','r') as input_file:\n",
    "    for line in input_file:\n",
    "        print(line)\n"
   ]
  },
  {
   "cell_type": "code",
   "execution_count": 19,
   "metadata": {
    "slideshow": {
     "slide_type": "subslide"
    }
   },
   "outputs": [
    {
     "name": "stdout",
     "output_type": "stream",
     "text": [
      "{'chapter': 1, '1': 1, 'loomings': 1, 'call': 1, 'me': 24, 'ishmael': 2, 'some': 11, 'years': 1, 'agonever': 1, 'mind': 1, 'how': 3, 'long': 2, 'preciselyhaving': 1, 'little': 4, 'or': 10, 'no': 5, 'money': 4, 'in': 48, 'my': 14, 'purse': 3, 'and': 73, 'nothing': 3, 'particular': 2, 'to': 53, 'interest': 1, 'on': 12, 'shore': 1, 'i': 43, 'thought': 1, 'would': 3, 'sail': 2, 'about': 6, 'a': 68, 'see': 5, 'the': 124, 'watery': 1, 'part': 7, 'of': 81, 'world': 3, 'it': 32, 'is': 34, 'way': 4, 'have': 8, 'driving': 1, 'off': 2, 'spleen': 1, 'regulating': 1, 'circulation': 1, 'whenever': 5, 'find': 2, 'myself': 3, 'growing': 1, 'grim': 1, 'mouth': 1, 'damp': 1, 'drizzly': 1, 'november': 1, 'soul': 3, 'involuntarily': 1, 'pausing': 1, 'before': 3, 'coffin': 1, 'warehouses': 2, 'bringing': 1, 'up': 4, 'rear': 1, 'every': 4, 'funeral': 1, 'meet': 1, 'especially': 1, 'hypos': 1, 'get': 6, 'such': 5, 'an': 4, 'upper': 1, 'hand': 3, 'that': 31, 'requires': 2, 'strong': 2, 'moral': 1, 'principle': 1, 'prevent': 1, 'from': 11, 'deliberately': 1, 'stepping': 1, 'into': 9, 'street': 1, 'methodically': 1, 'knocking': 1, 'peoples': 1, 'hats': 1, 'offthen': 1, 'account': 2, 'high': 4, 'time': 6, 'sea': 10, 'as': 26, 'soon': 1, 'can': 6, 'this': 17, 'substitute': 1, 'for': 16, 'pistol': 1, 'ball': 1, 'with': 13, 'philosophical': 1, 'flourish': 1, 'cato': 1, 'throws': 1, 'himself': 2, 'upon': 9, 'his': 10, 'sword': 1, 'quietly': 1, 'take': 6, 'ship': 2, 'there': 15, 'surprising': 1, 'if': 9, 'they': 12, 'but': 15, 'knew': 1, 'almost': 3, 'all': 23, 'men': 4, 'their': 4, 'degree': 1, 'other': 5, 'cherish': 1, 'very': 1, 'nearly': 1, 'same': 5, 'feelings': 1, 'towards': 1, 'ocean': 2, 'now': 5, 'your': 6, 'insular': 1, 'city': 2, 'manhattoes': 1, 'belted': 1, 'round': 2, 'by': 8, 'wharves': 1, 'indian': 1, 'isles': 1, 'coral': 1, 'reefscommerce': 1, 'surrounds': 1, 'her': 1, 'surf': 1, 'right': 3, 'left': 1, 'streets': 2, 'you': 23, 'waterward': 1, 'its': 2, 'extreme': 1, 'downtown': 1, 'battery': 1, 'where': 2, 'noble': 1, 'mole': 1, 'washed': 1, 'waves': 1, 'cooled': 1, 'breezes': 1, 'which': 4, 'few': 1, 'hours': 1, 'previous': 2, 'were': 7, 'out': 3, 'sight': 2, 'land': 6, 'look': 2, 'at': 5, 'crowds': 2, 'watergazers': 1, 'circumambulate': 1, 'dreamy': 1, 'sabbath': 1, 'afternoon': 1, 'go': 12, 'corlears': 1, 'hook': 1, 'coenties': 1, 'slip': 1, 'thence': 1, 'whitehall': 1, 'northward': 1, 'what': 7, 'do': 7, 'seeposted': 1, 'like': 6, 'silent': 1, 'sentinels': 1, 'around': 1, 'town': 1, 'stand': 3, 'thousands': 2, 'mortal': 1, 'fixed': 2, 'reveries': 1, 'leaning': 1, 'against': 1, 'spiles': 1, 'seated': 1, 'pierheads': 1, 'looking': 1, 'over': 2, 'bulwarks': 1, 'ships': 3, 'china': 1, 'aloft': 2, 'rigging': 1, 'striving': 1, 'still': 3, 'better': 2, 'seaward': 1, 'peep': 1, 'these': 4, 'are': 5, 'landsmen': 1, 'week': 1, 'days': 1, 'pent': 1, 'lath': 1, 'plastertied': 1, 'counters': 1, 'nailed': 1, 'benches': 1, 'clinched': 1, 'desks': 1, 'then': 4, 'green': 1, 'fields': 1, 'gone': 1, 'here': 5, 'come': 3, 'more': 6, 'pacing': 1, 'straight': 1, 'water': 6, 'seemingly': 1, 'bound': 1, 'dive': 1, 'strange': 1, 'will': 6, 'content': 2, 'them': 4, 'extremest': 1, 'limit': 1, 'loitering': 1, 'under': 2, 'shady': 1, 'lee': 1, 'yonder': 2, 'not': 11, 'suffice': 1, 'must': 4, 'just': 2, 'nigh': 1, 'possibly': 1, 'without': 3, 'falling': 1, 'standmiles': 1, 'themleagues': 1, 'inlanders': 1, 'lanes': 1, 'alleys': 1, 'avenuesnorth': 1, 'east': 1, 'south': 1, 'west': 1, 'yet': 3, 'unite': 1, 'tell': 4, 'does': 2, 'magnetic': 1, 'virtue': 1, 'needles': 1, 'compasses': 1, 'those': 4, 'attract': 1, 'thither': 1, 'once': 2, 'say': 3, 'country': 2, 'lakes': 1, 'any': 2, 'path': 1, 'please': 1, 'ten': 1, 'one': 10, 'carries': 1, 'down': 6, 'dale': 1, 'leaves': 2, 'pool': 1, 'stream': 2, 'magic': 2, 'let': 2, 'most': 5, 'absentminded': 1, 'be': 9, 'plunged': 2, 'deepest': 1, 'reveriesstand': 1, 'man': 3, 'legs': 1, 'set': 3, 'feet': 1, 'agoing': 1, 'he': 9, 'infallibly': 1, 'lead': 2, 'region': 1, 'should': 3, 'ever': 5, 'athirst': 1, 'great': 3, 'american': 1, 'desert': 1, 'try': 1, 'experiment': 1, 'caravan': 1, 'happen': 1, 'supplied': 1, 'metaphysical': 2, 'professor': 1, 'yes': 1, 'knows': 1, 'meditation': 1, 'wedded': 1, 'artist': 1, 'desires': 1, 'paint': 1, 'dreamiest': 1, 'shadiest': 1, 'quietest': 1, 'enchanting': 1, 'bit': 1, 'romantic': 1, 'landscape': 1, 'valley': 1, 'saco': 1, 'chief': 2, 'element': 1, 'employs': 1, 'trees': 1, 'each': 2, 'hollow': 1, 'trunk': 1, 'hermit': 1, 'crucifix': 1, 'within': 1, 'sleeps': 1, 'meadow': 2, 'sleep': 2, 'cattle': 1, 'cottage': 1, 'goes': 1, 'sleepy': 1, 'smoke': 1, 'deep': 1, 'distant': 2, 'woodlands': 1, 'winds': 3, 'mazy': 1, 'reaching': 1, 'overlapping': 1, 'spurs': 1, 'mountains': 1, 'bathed': 1, 'hillside': 1, 'blue': 1, 'though': 4, 'picture': 1, 'lies': 1, 'thus': 1, 'tranced': 1, 'pinetree': 1, 'shakes': 1, 'sighs': 1, 'shepherds': 2, 'head': 3, 'vain': 1, 'unless': 2, 'eye': 1, 'him': 3, 'visit': 1, 'prairies': 1, 'june': 1, 'when': 5, 'scores': 2, 'miles': 2, 'wade': 1, 'kneedeep': 1, 'among': 2, 'tigerlilieswhat': 1, 'charm': 1, 'wantingwaterthere': 1, 'drop': 1, 'niagara': 1, 'cataract': 1, 'sand': 1, 'travel': 1, 'thousand': 2, 'why': 7, 'did': 5, 'poor': 1, 'poet': 1, 'tennessee': 1, 'suddenly': 1, 'receiving': 1, 'two': 4, 'handfuls': 1, 'silver': 1, 'deliberate': 1, 'whether': 1, 'buy': 1, 'coat': 1, 'sadly': 1, 'needed': 1, 'invest': 1, 'pedestrian': 1, 'trip': 1, 'rockaway': 1, 'beach': 1, 'robust': 2, 'healthy': 2, 'boy': 1, 'crazy': 1, 'first': 4, 'voyage': 6, 'passenger': 4, 'yourself': 1, 'feel': 1, 'mystical': 1, 'vibration': 1, 'told': 1, 'old': 6, 'persians': 1, 'hold': 1, 'holy': 1, 'greeks': 1, 'give': 1, 'separate': 1, 'deity': 1, 'own': 2, 'brother': 1, 'jove': 1, 'surely': 1, 'meaning': 2, 'deeper': 1, 'story': 1, 'narcissus': 1, 'who': 5, 'because': 4, 'could': 2, 'grasp': 1, 'tormenting': 1, 'mild': 1, 'image': 3, 'saw': 1, 'fountain': 1, 'was': 8, 'drowned': 1, 'we': 3, 'ourselves': 2, 'rivers': 1, 'oceans': 1, 'ungraspable': 1, 'phantom': 2, 'life': 1, 'key': 1, 'am': 4, 'habit': 1, 'going': 3, 'begin': 2, 'grow': 1, 'hazy': 1, 'eyes': 1, 'conscious': 1, 'lungs': 1, 'mean': 2, 'inferred': 1, 'needs': 1, 'rag': 1, 'something': 3, 'besides': 2, 'passengers': 3, 'seasickgrow': 1, 'quarrelsomedont': 1, 'nightsdo': 1, 'enjoy': 1, 'themselves': 2, 'much': 4, 'general': 1, 'thingno': 1, 'never': 4, 'nor': 1, 'salt': 1, 'commodore': 2, 'captain': 1, 'cook': 2, 'abandon': 1, 'glory': 2, 'distinction': 1, 'offices': 1, 'abominate': 1, 'honorable': 1, 'respectable': 1, 'toils': 1, 'trials': 1, 'tribulations': 1, 'kind': 1, 'whatsoever': 1, 'quite': 1, 'care': 2, 'taking': 1, 'barques': 1, 'brigs': 1, 'schooners': 1, 'cookthough': 1, 'confess': 1, 'considerable': 1, 'being': 3, 'sort': 3, 'officer': 2, 'shipboardyet': 1, 'somehow': 1, 'fancied': 1, 'broiling': 1, 'fowlsthough': 1, 'broiled': 3, 'judiciously': 1, 'buttered': 1, 'judgmatically': 1, 'salted': 1, 'peppered': 1, 'speak': 1, 'respectfully': 2, 'reverentially': 1, 'fowl': 1, 'than': 4, 'idolatrous': 1, 'dotings': 1, 'egyptians': 1, 'ibis': 1, 'roasted': 1, 'river': 1, 'horse': 1, 'mummies': 1, 'creatures': 1, 'huge': 1, 'bakehouses': 1, 'pyramids': 1, 'simple': 1, 'sailor': 5, 'mast': 1, 'plumb': 1, 'forecastle': 3, 'royal': 1, 'masthead': 1, 'true': 1, 'rather': 1, 'order': 2, 'make': 2, 'jump': 1, 'spar': 2, 'grasshopper': 1, 'may': 3, 'thing': 1, 'unpleasant': 1, 'enough': 1, 'touches': 1, 'ones': 1, 'sense': 1, 'honor': 1, 'particularly': 1, 'established': 1, 'family': 1, 'van': 1, 'rensselaers': 1, 'randolphs': 1, 'hardicanutes': 1, 'putting': 1, 'tarpot': 1, 'been': 2, 'lording': 1, 'schoolmaster': 2, 'making': 1, 'tallest': 1, 'boys': 1, 'awe': 1, 'transition': 1, 'keen': 1, 'assure': 1, 'decoction': 1, 'seneca': 1, 'stoics': 1, 'enable': 1, 'grin': 1, 'bear': 1, 'even': 1, 'wears': 1, 'hunks': 2, 'seacaptain': 1, 'orders': 1, 'broom': 1, 'sweep': 1, 'decks': 1, 'indignity': 1, 'amount': 1, 'weighed': 1, 'scales': 1, 'new': 1, 'testament': 1, 'think': 2, 'archangel': 1, 'gabriel': 1, 'thinks': 2, 'anything': 1, 'less': 1, 'promptly': 1, 'obey': 1, 'instance': 1, 'aint': 1, 'slave': 1, 'well': 2, 'however': 1, 'seacaptains': 1, 'abouthowever': 1, 'thump': 2, 'punch': 1, 'satisfaction': 1, 'knowing': 1, 'everybody': 1, 'else': 2, 'served': 1, 'wayeither': 1, 'physical': 1, 'point': 2, 'view': 1, 'so': 4, 'universal': 1, 'passed': 1, 'hands': 1, 'rub': 1, 'others': 2, 'shoulderblades': 1, 'again': 1, 'always': 2, 'paying': 3, 'trouble': 1, 'whereas': 1, 'pay': 2, 'single': 1, 'penny': 1, 'heard': 1, 'contrary': 1, 'difference': 1, 'between': 2, 'paid': 1, 'act': 1, 'perhaps': 2, 'uncomfortable': 1, 'infliction': 1, 'orchard': 1, 'thieves': 1, 'entailed': 1, 'us': 1, '_being': 1, 'paid_what': 1, 'compare': 1, 'urbane': 1, 'activity': 1, 'receives': 1, 'really': 1, 'marvellous': 1, 'considering': 1, 'earnestly': 1, 'believe': 1, 'root': 1, 'earthly': 1, 'ills': 1, 'monied': 1, 'enter': 1, 'heaven': 1, 'ah': 1, 'cheerfully': 1, 'consign': 1, 'perdition': 1, 'finally': 1, 'wholesome': 1, 'exercise': 1, 'pure': 1, 'air': 2, 'deck': 1, 'far': 1, 'prevalent': 1, 'astern': 1, 'violate': 1, 'pythagorean': 1, 'maxim': 1, 'quarterdeck': 1, 'gets': 1, 'atmosphere': 1, 'second': 1, 'sailors': 1, 'breathes': 1, 'commonalty': 1, 'leaders': 2, 'many': 1, 'things': 4, 'suspect': 1, 'wherefore': 1, 'after': 1, 'having': 1, 'repeatedly': 1, 'smelt': 1, 'merchant': 1, 'whaling': 5, 'invisible': 1, 'police': 1, 'fates': 2, 'has': 1, 'constant': 1, 'surveillance': 1, 'secretly': 1, 'dogs': 1, 'influences': 1, 'unaccountable': 1, 'wayhe': 1, 'answer': 1, 'doubtless': 1, 'formed': 1, 'grand': 2, 'programme': 1, 'providence': 1, 'drawn': 1, 'ago': 1, 'came': 1, 'brief': 1, 'interlude': 1, 'solo': 1, 'extensive': 1, 'performances': 1, 'bill': 1, 'run': 1, '_grand': 1, 'contested': 1, 'election': 1, 'presidency': 1, 'united': 1, 'states_': 1, 'bloody': 1, 'battle': 1, 'affghanistan': 1, 'cannot': 2, 'exactly': 2, 'stage': 1, 'managers': 1, 'put': 1, 'shabby': 1, 'magnificent': 1, 'parts': 3, 'tragedies': 1, 'short': 1, 'easy': 1, 'genteel': 1, 'comedies': 1, 'jolly': 1, 'farcesthough': 1, 'recall': 1, 'circumstances': 1, 'springs': 1, 'motives': 2, 'cunningly': 1, 'presented': 1, 'various': 1, 'disguises': 1, 'induced': 1, 'performing': 1, 'cajoling': 1, 'delusion': 1, 'choice': 1, 'resulting': 1, 'unbiased': 1, 'freewill': 1, 'discriminating': 1, 'judgment': 1, 'overwhelming': 1, 'idea': 1, 'whale': 3, 'portentous': 1, 'mysterious': 1, 'monster': 1, 'roused': 1, 'curiosity': 1, 'wild': 2, 'seas': 2, 'rolled': 1, 'island': 1, 'bulk': 1, 'undeliverable': 1, 'nameless': 1, 'perils': 1, 'attending': 1, 'marvels': 1, 'patagonian': 1, 'sights': 1, 'sounds': 1, 'helped': 1, 'sway': 1, 'wish': 1, 'inducements': 1, 'tormented': 1, 'everlasting': 1, 'itch': 1, 'remote': 1, 'love': 1, 'forbidden': 1, 'barbarous': 1, 'coasts': 1, 'ignoring': 1, 'good': 1, 'quick': 1, 'perceive': 1, 'horror': 1, 'social': 1, 'itwould': 1, 'mesince': 1, 'friendly': 1, 'terms': 1, 'inmates': 1, 'place': 1, 'lodges': 1, 'reason': 1, 'welcome': 1, 'floodgates': 1, 'wonderworld': 1, 'swung': 1, 'open': 1, 'conceits': 1, 'swayed': 1, 'purpose': 1, 'floated': 1, 'inmost': 1, 'endless': 1, 'processions': 1, 'mid': 1, 'hooded': 1, 'snow': 1, 'hill': 1}\n"
     ]
    }
   ],
   "source": [
    "# This example assumes you have the Moby_Dick_Chapter_1.txt file in the same directory as your program\n",
    "import re\n",
    "moby_dick_word_count = {}\n",
    "\n",
    "with open('Moby_Dick_Chapter_1.txt','r') as input_file:\n",
    "    for line in input_file:\n",
    "        # First lowercase all characters in the line\n",
    "        line = line.lower()\n",
    "        # Next clean the line of any punctuation\n",
    "        line_clean =  re.sub(r'[^\\w\\s]', '', line)\n",
    "        # Now split the line into words\n",
    "        line_split = line_clean.split()\n",
    "        # Now we can add the words to our dictionary\n",
    "        for word in line_split:\n",
    "            if word in moby_dick_word_count.keys():\n",
    "                moby_dick_word_count[word] += 1\n",
    "            else:\n",
    "                moby_dick_word_count[word] = 1\n",
    "print(moby_dick_word_count)"
   ]
  },
  {
   "cell_type": "code",
   "execution_count": 20,
   "metadata": {
    "slideshow": {
     "slide_type": "subslide"
    }
   },
   "outputs": [
    {
     "data": {
      "text/plain": [
       "[('the', 124),\n",
       " ('of', 81),\n",
       " ('and', 73),\n",
       " ('a', 68),\n",
       " ('to', 53),\n",
       " ('in', 48),\n",
       " ('i', 43),\n",
       " ('is', 34),\n",
       " ('it', 32),\n",
       " ('that', 31),\n",
       " ('as', 26),\n",
       " ('me', 24),\n",
       " ('all', 23),\n",
       " ('you', 23),\n",
       " ('this', 17),\n",
       " ('for', 16),\n",
       " ('there', 15),\n",
       " ('but', 15),\n",
       " ('my', 14),\n",
       " ('with', 13),\n",
       " ('on', 12),\n",
       " ('they', 12),\n",
       " ('go', 12),\n",
       " ('some', 11),\n",
       " ('from', 11),\n",
       " ('not', 11),\n",
       " ('or', 10),\n",
       " ('sea', 10),\n",
       " ('his', 10),\n",
       " ('one', 10),\n",
       " ('into', 9),\n",
       " ('upon', 9),\n",
       " ('if', 9),\n",
       " ('be', 9),\n",
       " ('he', 9),\n",
       " ('have', 8),\n",
       " ('by', 8),\n",
       " ('was', 8),\n",
       " ('part', 7),\n",
       " ('were', 7),\n",
       " ('what', 7),\n",
       " ('do', 7),\n",
       " ('why', 7),\n",
       " ('about', 6),\n",
       " ('get', 6),\n",
       " ('time', 6),\n",
       " ('can', 6),\n",
       " ('take', 6),\n",
       " ('your', 6),\n",
       " ('land', 6),\n",
       " ('like', 6),\n",
       " ('more', 6),\n",
       " ('water', 6),\n",
       " ('will', 6),\n",
       " ('down', 6),\n",
       " ('voyage', 6),\n",
       " ('old', 6),\n",
       " ('no', 5),\n",
       " ('see', 5),\n",
       " ('whenever', 5),\n",
       " ('such', 5),\n",
       " ('other', 5),\n",
       " ('same', 5),\n",
       " ('now', 5),\n",
       " ('at', 5),\n",
       " ('are', 5),\n",
       " ('here', 5),\n",
       " ('most', 5),\n",
       " ('ever', 5),\n",
       " ('when', 5),\n",
       " ('did', 5),\n",
       " ('who', 5),\n",
       " ('sailor', 5),\n",
       " ('whaling', 5),\n",
       " ('little', 4),\n",
       " ('money', 4),\n",
       " ('way', 4),\n",
       " ('up', 4),\n",
       " ('every', 4),\n",
       " ('an', 4),\n",
       " ('high', 4),\n",
       " ('men', 4),\n",
       " ('their', 4),\n",
       " ('which', 4),\n",
       " ('these', 4),\n",
       " ('then', 4),\n",
       " ('them', 4),\n",
       " ('must', 4),\n",
       " ('tell', 4),\n",
       " ('those', 4),\n",
       " ('though', 4),\n",
       " ('two', 4),\n",
       " ('first', 4),\n",
       " ('passenger', 4),\n",
       " ('because', 4),\n",
       " ('am', 4),\n",
       " ('much', 4),\n",
       " ('never', 4),\n",
       " ('than', 4),\n",
       " ('so', 4),\n",
       " ('things', 4),\n",
       " ('how', 3),\n",
       " ('purse', 3),\n",
       " ('nothing', 3),\n",
       " ('would', 3),\n",
       " ('world', 3),\n",
       " ('myself', 3),\n",
       " ('soul', 3),\n",
       " ('before', 3),\n",
       " ('hand', 3),\n",
       " ('almost', 3),\n",
       " ('right', 3),\n",
       " ('out', 3),\n",
       " ('stand', 3),\n",
       " ('ships', 3),\n",
       " ('still', 3),\n",
       " ('come', 3),\n",
       " ('without', 3),\n",
       " ('yet', 3),\n",
       " ('say', 3),\n",
       " ('man', 3),\n",
       " ('set', 3),\n",
       " ('should', 3),\n",
       " ('great', 3),\n",
       " ('winds', 3),\n",
       " ('head', 3),\n",
       " ('him', 3),\n",
       " ('image', 3),\n",
       " ('we', 3),\n",
       " ('going', 3),\n",
       " ('something', 3),\n",
       " ('passengers', 3),\n",
       " ('being', 3),\n",
       " ('sort', 3),\n",
       " ('broiled', 3),\n",
       " ('forecastle', 3),\n",
       " ('may', 3),\n",
       " ('paying', 3),\n",
       " ('parts', 3),\n",
       " ('whale', 3),\n",
       " ('ishmael', 2),\n",
       " ('long', 2),\n",
       " ('particular', 2),\n",
       " ('sail', 2),\n",
       " ('off', 2),\n",
       " ('find', 2),\n",
       " ('warehouses', 2),\n",
       " ('requires', 2),\n",
       " ('strong', 2),\n",
       " ('account', 2),\n",
       " ('himself', 2),\n",
       " ('ship', 2),\n",
       " ('ocean', 2),\n",
       " ('city', 2),\n",
       " ('round', 2),\n",
       " ('streets', 2),\n",
       " ('its', 2),\n",
       " ('where', 2),\n",
       " ('previous', 2),\n",
       " ('sight', 2),\n",
       " ('look', 2),\n",
       " ('crowds', 2),\n",
       " ('thousands', 2),\n",
       " ('fixed', 2),\n",
       " ('over', 2),\n",
       " ('aloft', 2),\n",
       " ('better', 2),\n",
       " ('content', 2),\n",
       " ('under', 2),\n",
       " ('yonder', 2),\n",
       " ('just', 2),\n",
       " ('does', 2),\n",
       " ('once', 2),\n",
       " ('country', 2),\n",
       " ('any', 2),\n",
       " ('leaves', 2),\n",
       " ('stream', 2),\n",
       " ('magic', 2),\n",
       " ('let', 2),\n",
       " ('plunged', 2),\n",
       " ('lead', 2),\n",
       " ('metaphysical', 2),\n",
       " ('chief', 2),\n",
       " ('each', 2),\n",
       " ('meadow', 2),\n",
       " ('sleep', 2),\n",
       " ('distant', 2),\n",
       " ('shepherds', 2),\n",
       " ('unless', 2),\n",
       " ('scores', 2),\n",
       " ('miles', 2),\n",
       " ('among', 2),\n",
       " ('thousand', 2),\n",
       " ('robust', 2),\n",
       " ('healthy', 2),\n",
       " ('own', 2),\n",
       " ('meaning', 2),\n",
       " ('could', 2),\n",
       " ('ourselves', 2),\n",
       " ('phantom', 2),\n",
       " ('begin', 2),\n",
       " ('mean', 2),\n",
       " ('besides', 2),\n",
       " ('themselves', 2),\n",
       " ('commodore', 2),\n",
       " ('cook', 2),\n",
       " ('glory', 2),\n",
       " ('care', 2),\n",
       " ('officer', 2),\n",
       " ('respectfully', 2),\n",
       " ('order', 2),\n",
       " ('make', 2),\n",
       " ('spar', 2),\n",
       " ('been', 2),\n",
       " ('schoolmaster', 2),\n",
       " ('hunks', 2),\n",
       " ('think', 2),\n",
       " ('thinks', 2),\n",
       " ('well', 2),\n",
       " ('thump', 2),\n",
       " ('else', 2),\n",
       " ('point', 2),\n",
       " ('others', 2),\n",
       " ('always', 2),\n",
       " ('pay', 2),\n",
       " ('between', 2),\n",
       " ('perhaps', 2),\n",
       " ('air', 2),\n",
       " ('leaders', 2),\n",
       " ('fates', 2),\n",
       " ('grand', 2),\n",
       " ('cannot', 2),\n",
       " ('exactly', 2),\n",
       " ('motives', 2),\n",
       " ('wild', 2),\n",
       " ('seas', 2),\n",
       " ('chapter', 1),\n",
       " ('1', 1),\n",
       " ('loomings', 1),\n",
       " ('call', 1),\n",
       " ('years', 1),\n",
       " ('agonever', 1),\n",
       " ('mind', 1),\n",
       " ('preciselyhaving', 1),\n",
       " ('interest', 1),\n",
       " ('shore', 1),\n",
       " ('thought', 1),\n",
       " ('watery', 1),\n",
       " ('driving', 1),\n",
       " ('spleen', 1),\n",
       " ('regulating', 1),\n",
       " ('circulation', 1),\n",
       " ('growing', 1),\n",
       " ('grim', 1),\n",
       " ('mouth', 1),\n",
       " ('damp', 1),\n",
       " ('drizzly', 1),\n",
       " ('november', 1),\n",
       " ('involuntarily', 1),\n",
       " ('pausing', 1),\n",
       " ('coffin', 1),\n",
       " ('bringing', 1),\n",
       " ('rear', 1),\n",
       " ('funeral', 1),\n",
       " ('meet', 1),\n",
       " ('especially', 1),\n",
       " ('hypos', 1),\n",
       " ('upper', 1),\n",
       " ('moral', 1),\n",
       " ('principle', 1),\n",
       " ('prevent', 1),\n",
       " ('deliberately', 1),\n",
       " ('stepping', 1),\n",
       " ('street', 1),\n",
       " ('methodically', 1),\n",
       " ('knocking', 1),\n",
       " ('peoples', 1),\n",
       " ('hats', 1),\n",
       " ('offthen', 1),\n",
       " ('soon', 1),\n",
       " ('substitute', 1),\n",
       " ('pistol', 1),\n",
       " ('ball', 1),\n",
       " ('philosophical', 1),\n",
       " ('flourish', 1),\n",
       " ('cato', 1),\n",
       " ('throws', 1),\n",
       " ('sword', 1),\n",
       " ('quietly', 1),\n",
       " ('surprising', 1),\n",
       " ('knew', 1),\n",
       " ('degree', 1),\n",
       " ('cherish', 1),\n",
       " ('very', 1),\n",
       " ('nearly', 1),\n",
       " ('feelings', 1),\n",
       " ('towards', 1),\n",
       " ('insular', 1),\n",
       " ('manhattoes', 1),\n",
       " ('belted', 1),\n",
       " ('wharves', 1),\n",
       " ('indian', 1),\n",
       " ('isles', 1),\n",
       " ('coral', 1),\n",
       " ('reefscommerce', 1),\n",
       " ('surrounds', 1),\n",
       " ('her', 1),\n",
       " ('surf', 1),\n",
       " ('left', 1),\n",
       " ('waterward', 1),\n",
       " ('extreme', 1),\n",
       " ('downtown', 1),\n",
       " ('battery', 1),\n",
       " ('noble', 1),\n",
       " ('mole', 1),\n",
       " ('washed', 1),\n",
       " ('waves', 1),\n",
       " ('cooled', 1),\n",
       " ('breezes', 1),\n",
       " ('few', 1),\n",
       " ('hours', 1),\n",
       " ('watergazers', 1),\n",
       " ('circumambulate', 1),\n",
       " ('dreamy', 1),\n",
       " ('sabbath', 1),\n",
       " ('afternoon', 1),\n",
       " ('corlears', 1),\n",
       " ('hook', 1),\n",
       " ('coenties', 1),\n",
       " ('slip', 1),\n",
       " ('thence', 1),\n",
       " ('whitehall', 1),\n",
       " ('northward', 1),\n",
       " ('seeposted', 1),\n",
       " ('silent', 1),\n",
       " ('sentinels', 1),\n",
       " ('around', 1),\n",
       " ('town', 1),\n",
       " ('mortal', 1),\n",
       " ('reveries', 1),\n",
       " ('leaning', 1),\n",
       " ('against', 1),\n",
       " ('spiles', 1),\n",
       " ('seated', 1),\n",
       " ('pierheads', 1),\n",
       " ('looking', 1),\n",
       " ('bulwarks', 1),\n",
       " ('china', 1),\n",
       " ('rigging', 1),\n",
       " ('striving', 1),\n",
       " ('seaward', 1),\n",
       " ('peep', 1),\n",
       " ('landsmen', 1),\n",
       " ('week', 1),\n",
       " ('days', 1),\n",
       " ('pent', 1),\n",
       " ('lath', 1),\n",
       " ('plastertied', 1),\n",
       " ('counters', 1),\n",
       " ('nailed', 1),\n",
       " ('benches', 1),\n",
       " ('clinched', 1),\n",
       " ('desks', 1),\n",
       " ('green', 1),\n",
       " ('fields', 1),\n",
       " ('gone', 1),\n",
       " ('pacing', 1),\n",
       " ('straight', 1),\n",
       " ('seemingly', 1),\n",
       " ('bound', 1),\n",
       " ('dive', 1),\n",
       " ('strange', 1),\n",
       " ('extremest', 1),\n",
       " ('limit', 1),\n",
       " ('loitering', 1),\n",
       " ('shady', 1),\n",
       " ('lee', 1),\n",
       " ('suffice', 1),\n",
       " ('nigh', 1),\n",
       " ('possibly', 1),\n",
       " ('falling', 1),\n",
       " ('standmiles', 1),\n",
       " ('themleagues', 1),\n",
       " ('inlanders', 1),\n",
       " ('lanes', 1),\n",
       " ('alleys', 1),\n",
       " ('avenuesnorth', 1),\n",
       " ('east', 1),\n",
       " ('south', 1),\n",
       " ('west', 1),\n",
       " ('unite', 1),\n",
       " ('magnetic', 1),\n",
       " ('virtue', 1),\n",
       " ('needles', 1),\n",
       " ('compasses', 1),\n",
       " ('attract', 1),\n",
       " ('thither', 1),\n",
       " ('lakes', 1),\n",
       " ('path', 1),\n",
       " ('please', 1),\n",
       " ('ten', 1),\n",
       " ('carries', 1),\n",
       " ('dale', 1),\n",
       " ('pool', 1),\n",
       " ('absentminded', 1),\n",
       " ('deepest', 1),\n",
       " ('reveriesstand', 1),\n",
       " ('legs', 1),\n",
       " ('feet', 1),\n",
       " ('agoing', 1),\n",
       " ('infallibly', 1),\n",
       " ('region', 1),\n",
       " ('athirst', 1),\n",
       " ('american', 1),\n",
       " ('desert', 1),\n",
       " ('try', 1),\n",
       " ('experiment', 1),\n",
       " ('caravan', 1),\n",
       " ('happen', 1),\n",
       " ('supplied', 1),\n",
       " ('professor', 1),\n",
       " ('yes', 1),\n",
       " ('knows', 1),\n",
       " ('meditation', 1),\n",
       " ('wedded', 1),\n",
       " ('artist', 1),\n",
       " ('desires', 1),\n",
       " ('paint', 1),\n",
       " ('dreamiest', 1),\n",
       " ('shadiest', 1),\n",
       " ('quietest', 1),\n",
       " ('enchanting', 1),\n",
       " ('bit', 1),\n",
       " ('romantic', 1),\n",
       " ('landscape', 1),\n",
       " ('valley', 1),\n",
       " ('saco', 1),\n",
       " ('element', 1),\n",
       " ('employs', 1),\n",
       " ('trees', 1),\n",
       " ('hollow', 1),\n",
       " ('trunk', 1),\n",
       " ('hermit', 1),\n",
       " ('crucifix', 1),\n",
       " ('within', 1),\n",
       " ('sleeps', 1),\n",
       " ('cattle', 1),\n",
       " ('cottage', 1),\n",
       " ('goes', 1),\n",
       " ('sleepy', 1),\n",
       " ('smoke', 1),\n",
       " ('deep', 1),\n",
       " ('woodlands', 1),\n",
       " ('mazy', 1),\n",
       " ('reaching', 1),\n",
       " ('overlapping', 1),\n",
       " ('spurs', 1),\n",
       " ('mountains', 1),\n",
       " ('bathed', 1),\n",
       " ('hillside', 1),\n",
       " ('blue', 1),\n",
       " ('picture', 1),\n",
       " ('lies', 1),\n",
       " ('thus', 1),\n",
       " ('tranced', 1),\n",
       " ('pinetree', 1),\n",
       " ('shakes', 1),\n",
       " ('sighs', 1),\n",
       " ('vain', 1),\n",
       " ('eye', 1),\n",
       " ('visit', 1),\n",
       " ('prairies', 1),\n",
       " ('june', 1),\n",
       " ('wade', 1),\n",
       " ('kneedeep', 1),\n",
       " ('tigerlilieswhat', 1),\n",
       " ('charm', 1),\n",
       " ('wantingwaterthere', 1),\n",
       " ('drop', 1),\n",
       " ('niagara', 1),\n",
       " ('cataract', 1),\n",
       " ('sand', 1),\n",
       " ('travel', 1),\n",
       " ('poor', 1),\n",
       " ('poet', 1),\n",
       " ('tennessee', 1),\n",
       " ('suddenly', 1),\n",
       " ('receiving', 1),\n",
       " ('handfuls', 1),\n",
       " ('silver', 1),\n",
       " ('deliberate', 1),\n",
       " ('whether', 1),\n",
       " ('buy', 1),\n",
       " ('coat', 1),\n",
       " ('sadly', 1),\n",
       " ('needed', 1),\n",
       " ('invest', 1),\n",
       " ('pedestrian', 1),\n",
       " ('trip', 1),\n",
       " ('rockaway', 1),\n",
       " ('beach', 1),\n",
       " ('boy', 1),\n",
       " ('crazy', 1),\n",
       " ('yourself', 1),\n",
       " ('feel', 1),\n",
       " ('mystical', 1),\n",
       " ('vibration', 1),\n",
       " ('told', 1),\n",
       " ('persians', 1),\n",
       " ('hold', 1),\n",
       " ('holy', 1),\n",
       " ('greeks', 1),\n",
       " ('give', 1),\n",
       " ('separate', 1),\n",
       " ('deity', 1),\n",
       " ('brother', 1),\n",
       " ('jove', 1),\n",
       " ('surely', 1),\n",
       " ('deeper', 1),\n",
       " ('story', 1),\n",
       " ('narcissus', 1),\n",
       " ('grasp', 1),\n",
       " ('tormenting', 1),\n",
       " ('mild', 1),\n",
       " ('saw', 1),\n",
       " ('fountain', 1),\n",
       " ('drowned', 1),\n",
       " ('rivers', 1),\n",
       " ('oceans', 1),\n",
       " ('ungraspable', 1),\n",
       " ('life', 1),\n",
       " ('key', 1),\n",
       " ('habit', 1),\n",
       " ('grow', 1),\n",
       " ('hazy', 1),\n",
       " ('eyes', 1),\n",
       " ('conscious', 1),\n",
       " ('lungs', 1),\n",
       " ('inferred', 1),\n",
       " ('needs', 1),\n",
       " ('rag', 1),\n",
       " ('seasickgrow', 1),\n",
       " ('quarrelsomedont', 1),\n",
       " ('nightsdo', 1),\n",
       " ('enjoy', 1),\n",
       " ('general', 1),\n",
       " ('thingno', 1),\n",
       " ('nor', 1),\n",
       " ('salt', 1),\n",
       " ('captain', 1),\n",
       " ('abandon', 1),\n",
       " ('distinction', 1),\n",
       " ('offices', 1),\n",
       " ('abominate', 1),\n",
       " ('honorable', 1),\n",
       " ('respectable', 1),\n",
       " ('toils', 1),\n",
       " ('trials', 1),\n",
       " ('tribulations', 1),\n",
       " ('kind', 1),\n",
       " ('whatsoever', 1),\n",
       " ('quite', 1),\n",
       " ('taking', 1),\n",
       " ('barques', 1),\n",
       " ('brigs', 1),\n",
       " ('schooners', 1),\n",
       " ('cookthough', 1),\n",
       " ('confess', 1),\n",
       " ('considerable', 1),\n",
       " ('shipboardyet', 1),\n",
       " ('somehow', 1),\n",
       " ('fancied', 1),\n",
       " ('broiling', 1),\n",
       " ('fowlsthough', 1),\n",
       " ('judiciously', 1),\n",
       " ('buttered', 1),\n",
       " ('judgmatically', 1),\n",
       " ('salted', 1),\n",
       " ('peppered', 1),\n",
       " ('speak', 1),\n",
       " ('reverentially', 1),\n",
       " ('fowl', 1),\n",
       " ('idolatrous', 1),\n",
       " ('dotings', 1),\n",
       " ('egyptians', 1),\n",
       " ('ibis', 1),\n",
       " ('roasted', 1),\n",
       " ('river', 1),\n",
       " ('horse', 1),\n",
       " ('mummies', 1),\n",
       " ('creatures', 1),\n",
       " ('huge', 1),\n",
       " ('bakehouses', 1),\n",
       " ('pyramids', 1),\n",
       " ('simple', 1),\n",
       " ('mast', 1),\n",
       " ('plumb', 1),\n",
       " ('royal', 1),\n",
       " ('masthead', 1),\n",
       " ('true', 1),\n",
       " ('rather', 1),\n",
       " ('jump', 1),\n",
       " ('grasshopper', 1),\n",
       " ('thing', 1),\n",
       " ('unpleasant', 1),\n",
       " ('enough', 1),\n",
       " ('touches', 1),\n",
       " ('ones', 1),\n",
       " ('sense', 1),\n",
       " ('honor', 1),\n",
       " ('particularly', 1),\n",
       " ('established', 1),\n",
       " ('family', 1),\n",
       " ('van', 1),\n",
       " ('rensselaers', 1),\n",
       " ('randolphs', 1),\n",
       " ('hardicanutes', 1),\n",
       " ('putting', 1),\n",
       " ('tarpot', 1),\n",
       " ('lording', 1),\n",
       " ('making', 1),\n",
       " ('tallest', 1),\n",
       " ('boys', 1),\n",
       " ('awe', 1),\n",
       " ('transition', 1),\n",
       " ('keen', 1),\n",
       " ('assure', 1),\n",
       " ('decoction', 1),\n",
       " ('seneca', 1),\n",
       " ('stoics', 1),\n",
       " ('enable', 1),\n",
       " ('grin', 1),\n",
       " ('bear', 1),\n",
       " ('even', 1),\n",
       " ('wears', 1),\n",
       " ('seacaptain', 1),\n",
       " ('orders', 1),\n",
       " ('broom', 1),\n",
       " ('sweep', 1),\n",
       " ('decks', 1),\n",
       " ('indignity', 1),\n",
       " ('amount', 1),\n",
       " ('weighed', 1),\n",
       " ('scales', 1),\n",
       " ('new', 1),\n",
       " ('testament', 1),\n",
       " ('archangel', 1),\n",
       " ('gabriel', 1),\n",
       " ('anything', 1),\n",
       " ('less', 1),\n",
       " ('promptly', 1),\n",
       " ('obey', 1),\n",
       " ('instance', 1),\n",
       " ('aint', 1),\n",
       " ('slave', 1),\n",
       " ('however', 1),\n",
       " ('seacaptains', 1),\n",
       " ('abouthowever', 1),\n",
       " ('punch', 1),\n",
       " ('satisfaction', 1),\n",
       " ('knowing', 1),\n",
       " ('everybody', 1),\n",
       " ('served', 1),\n",
       " ('wayeither', 1),\n",
       " ('physical', 1),\n",
       " ('view', 1),\n",
       " ('universal', 1),\n",
       " ('passed', 1),\n",
       " ('hands', 1),\n",
       " ('rub', 1),\n",
       " ('shoulderblades', 1),\n",
       " ('again', 1),\n",
       " ('trouble', 1),\n",
       " ('whereas', 1),\n",
       " ('single', 1),\n",
       " ('penny', 1),\n",
       " ('heard', 1),\n",
       " ('contrary', 1),\n",
       " ('difference', 1),\n",
       " ('paid', 1),\n",
       " ('act', 1),\n",
       " ('uncomfortable', 1),\n",
       " ('infliction', 1),\n",
       " ('orchard', 1),\n",
       " ('thieves', 1),\n",
       " ('entailed', 1),\n",
       " ('us', 1),\n",
       " ('_being', 1),\n",
       " ('paid_what', 1),\n",
       " ('compare', 1),\n",
       " ('urbane', 1),\n",
       " ('activity', 1),\n",
       " ('receives', 1),\n",
       " ('really', 1),\n",
       " ('marvellous', 1),\n",
       " ('considering', 1),\n",
       " ('earnestly', 1),\n",
       " ('believe', 1),\n",
       " ('root', 1),\n",
       " ('earthly', 1),\n",
       " ('ills', 1),\n",
       " ('monied', 1),\n",
       " ('enter', 1),\n",
       " ('heaven', 1),\n",
       " ('ah', 1),\n",
       " ('cheerfully', 1),\n",
       " ('consign', 1),\n",
       " ('perdition', 1),\n",
       " ('finally', 1),\n",
       " ('wholesome', 1),\n",
       " ('exercise', 1),\n",
       " ('pure', 1),\n",
       " ('deck', 1),\n",
       " ('far', 1),\n",
       " ('prevalent', 1),\n",
       " ('astern', 1),\n",
       " ('violate', 1),\n",
       " ('pythagorean', 1),\n",
       " ('maxim', 1),\n",
       " ('quarterdeck', 1),\n",
       " ('gets', 1),\n",
       " ('atmosphere', 1),\n",
       " ('second', 1),\n",
       " ('sailors', 1),\n",
       " ('breathes', 1),\n",
       " ('commonalty', 1),\n",
       " ('many', 1),\n",
       " ('suspect', 1),\n",
       " ('wherefore', 1),\n",
       " ('after', 1),\n",
       " ('having', 1),\n",
       " ('repeatedly', 1),\n",
       " ('smelt', 1),\n",
       " ('merchant', 1),\n",
       " ('invisible', 1),\n",
       " ('police', 1),\n",
       " ('has', 1),\n",
       " ('constant', 1),\n",
       " ('surveillance', 1),\n",
       " ('secretly', 1),\n",
       " ('dogs', 1),\n",
       " ('influences', 1),\n",
       " ('unaccountable', 1),\n",
       " ('wayhe', 1),\n",
       " ('answer', 1),\n",
       " ('doubtless', 1),\n",
       " ('formed', 1),\n",
       " ('programme', 1),\n",
       " ('providence', 1),\n",
       " ('drawn', 1),\n",
       " ('ago', 1),\n",
       " ('came', 1),\n",
       " ('brief', 1),\n",
       " ('interlude', 1),\n",
       " ('solo', 1),\n",
       " ('extensive', 1),\n",
       " ('performances', 1),\n",
       " ('bill', 1),\n",
       " ('run', 1),\n",
       " ('_grand', 1),\n",
       " ('contested', 1),\n",
       " ('election', 1),\n",
       " ('presidency', 1),\n",
       " ('united', 1),\n",
       " ('states_', 1),\n",
       " ('bloody', 1),\n",
       " ('battle', 1),\n",
       " ('affghanistan', 1),\n",
       " ('stage', 1),\n",
       " ('managers', 1),\n",
       " ('put', 1),\n",
       " ('shabby', 1),\n",
       " ('magnificent', 1),\n",
       " ('tragedies', 1),\n",
       " ('short', 1),\n",
       " ('easy', 1),\n",
       " ('genteel', 1),\n",
       " ('comedies', 1),\n",
       " ('jolly', 1),\n",
       " ('farcesthough', 1),\n",
       " ('recall', 1),\n",
       " ('circumstances', 1),\n",
       " ('springs', 1),\n",
       " ('cunningly', 1),\n",
       " ('presented', 1),\n",
       " ('various', 1),\n",
       " ('disguises', 1),\n",
       " ('induced', 1),\n",
       " ('performing', 1),\n",
       " ('cajoling', 1),\n",
       " ('delusion', 1),\n",
       " ('choice', 1),\n",
       " ('resulting', 1),\n",
       " ('unbiased', 1),\n",
       " ('freewill', 1),\n",
       " ('discriminating', 1),\n",
       " ('judgment', 1),\n",
       " ('overwhelming', 1),\n",
       " ('idea', 1),\n",
       " ('portentous', 1),\n",
       " ('mysterious', 1),\n",
       " ('monster', 1),\n",
       " ('roused', 1),\n",
       " ('curiosity', 1),\n",
       " ('rolled', 1),\n",
       " ('island', 1),\n",
       " ('bulk', 1),\n",
       " ('undeliverable', 1),\n",
       " ('nameless', 1),\n",
       " ('perils', 1),\n",
       " ('attending', 1),\n",
       " ('marvels', 1),\n",
       " ('patagonian', 1),\n",
       " ('sights', 1),\n",
       " ('sounds', 1),\n",
       " ('helped', 1),\n",
       " ('sway', 1),\n",
       " ('wish', 1),\n",
       " ('inducements', 1),\n",
       " ('tormented', 1),\n",
       " ('everlasting', 1),\n",
       " ('itch', 1),\n",
       " ('remote', 1),\n",
       " ('love', 1),\n",
       " ('forbidden', 1),\n",
       " ('barbarous', 1),\n",
       " ('coasts', 1),\n",
       " ('ignoring', 1),\n",
       " ('good', 1),\n",
       " ('quick', 1),\n",
       " ('perceive', 1),\n",
       " ('horror', 1),\n",
       " ('social', 1),\n",
       " ('itwould', 1),\n",
       " ('mesince', 1),\n",
       " ('friendly', 1),\n",
       " ('terms', 1),\n",
       " ('inmates', 1),\n",
       " ('place', 1),\n",
       " ('lodges', 1),\n",
       " ('reason', 1),\n",
       " ('welcome', 1),\n",
       " ('floodgates', 1),\n",
       " ('wonderworld', 1),\n",
       " ('swung', 1),\n",
       " ('open', 1),\n",
       " ('conceits', 1),\n",
       " ('swayed', 1),\n",
       " ('purpose', 1),\n",
       " ('floated', 1),\n",
       " ('inmost', 1),\n",
       " ('endless', 1),\n",
       " ('processions', 1),\n",
       " ('mid', 1),\n",
       " ('hooded', 1),\n",
       " ('snow', 1),\n",
       " ('hill', 1)]"
      ]
     },
     "execution_count": 20,
     "metadata": {},
     "output_type": "execute_result"
    }
   ],
   "source": [
    "sorted(moby_dick_word_count.items(), key=lambda x: x[1], reverse=True)"
   ]
  },
  {
   "cell_type": "code",
   "execution_count": 21,
   "metadata": {
    "slideshow": {
     "slide_type": "subslide"
    }
   },
   "outputs": [],
   "source": [
    "data_for_output = sorted(moby_dick_word_count.items(), key=lambda x: x[1], reverse=True)\n",
    "\n",
    "with open(\"moby_dick_word_counts.txt\",'w') as fileoutput:\n",
    "    for item in data_for_output:\n",
    "        #print(item)\n",
    "        fileoutput.write(item[0] + \" \" + str(item[1])+ \"\\n\")"
   ]
  },
  {
   "cell_type": "markdown",
   "metadata": {
    "slideshow": {
     "slide_type": "slide"
    }
   },
   "source": [
    "## Topic 2 - Intro to SciPy Package"
   ]
  },
  {
   "cell_type": "markdown",
   "metadata": {
    "slideshow": {
     "slide_type": "subslide"
    }
   },
   "source": [
    "### This topic contains some links to information about the power of the SciPy library"
   ]
  },
  {
   "cell_type": "markdown",
   "metadata": {
    "slideshow": {
     "slide_type": "slide"
    }
   },
   "source": [
    "## Topic 3 - NumPy Arrays"
   ]
  },
  {
   "cell_type": "markdown",
   "metadata": {
    "slideshow": {
     "slide_type": "subslide"
    }
   },
   "source": [
    "### Arrays, the not NumPy type first"
   ]
  },
  {
   "cell_type": "code",
   "execution_count": 22,
   "metadata": {
    "slideshow": {
     "slide_type": "fragment"
    }
   },
   "outputs": [
    {
     "name": "stdout",
     "output_type": "stream",
     "text": [
      "array('i', [5, 4, 3, 2])\n"
     ]
    }
   ],
   "source": [
    "import array\n",
    "my_array = array.array('i',[5,4,3,2])\n",
    "print(my_array)"
   ]
  },
  {
   "cell_type": "code",
   "execution_count": 23,
   "metadata": {
    "slideshow": {
     "slide_type": "subslide"
    }
   },
   "outputs": [
    {
     "data": {
      "text/plain": [
       "5"
      ]
     },
     "execution_count": 23,
     "metadata": {},
     "output_type": "execute_result"
    }
   ],
   "source": [
    "my_array[0]"
   ]
  },
  {
   "cell_type": "code",
   "execution_count": 24,
   "metadata": {
    "slideshow": {
     "slide_type": "subslide"
    }
   },
   "outputs": [
    {
     "name": "stdout",
     "output_type": "stream",
     "text": [
      "array('i', [5, 4])\n",
      "array('i', [5, 5, 3, 2, 9])\n",
      "array('i', [5, 5, 3, 2])\n"
     ]
    }
   ],
   "source": [
    "print(my_array[0:2])\n",
    "my_array[1] = 5\n",
    "my_array.append(9)\n",
    "print(my_array)\n",
    "my_array.remove(9)\n",
    "print(my_array)"
   ]
  },
  {
   "cell_type": "code",
   "execution_count": 25,
   "metadata": {
    "slideshow": {
     "slide_type": "subslide"
    }
   },
   "outputs": [
    {
     "data": {
      "text/plain": [
       "2"
      ]
     },
     "execution_count": 25,
     "metadata": {},
     "output_type": "execute_result"
    }
   ],
   "source": [
    "my_array.pop()"
   ]
  },
  {
   "cell_type": "markdown",
   "metadata": {
    "slideshow": {
     "slide_type": "slide"
    }
   },
   "source": [
    "### NumPy"
   ]
  },
  {
   "cell_type": "code",
   "execution_count": 27,
   "metadata": {
    "slideshow": {
     "slide_type": "fragment"
    }
   },
   "outputs": [
    {
     "name": "stdout",
     "output_type": "stream",
     "text": [
      "[[ 1  2  3  4]\n",
      " [ 5  6  7  8]\n",
      " [ 9 10 11 12]\n",
      " [13 14 15 16]]\n"
     ]
    }
   ],
   "source": [
    "import numpy as np\n",
    "my_narray = np.array([[1,2,3,4],[5,6,7,8],[9,10,11,12],[13,14,15,16]])\n",
    "print(my_narray)"
   ]
  },
  {
   "cell_type": "markdown",
   "metadata": {
    "slideshow": {
     "slide_type": "subslide"
    }
   },
   "source": [
    "### Common NumPy Properties"
   ]
  },
  {
   "cell_type": "code",
   "execution_count": 41,
   "metadata": {
    "slideshow": {
     "slide_type": "fragment"
    }
   },
   "outputs": [
    {
     "name": "stdout",
     "output_type": "stream",
     "text": [
      "(4, 4)\n",
      "16\n",
      "int32\n"
     ]
    }
   ],
   "source": [
    "# Output the shape of the array\n",
    "print(my_narray.shape)\n",
    "# Output the number of items in the array\n",
    "print(my_narray.size)\n",
    "# Output the datatype of the array items\n",
    "print(my_narray.dtype)"
   ]
  },
  {
   "cell_type": "markdown",
   "metadata": {
    "slideshow": {
     "slide_type": "subslide"
    }
   },
   "source": [
    "### Accessing data in a NumPy Array"
   ]
  },
  {
   "cell_type": "code",
   "execution_count": 42,
   "metadata": {
    "slideshow": {
     "slide_type": "fragment"
    }
   },
   "outputs": [
    {
     "name": "stdout",
     "output_type": "stream",
     "text": [
      "16\n",
      "136\n"
     ]
    }
   ],
   "source": [
    "# Returns the maximum value in the entire array\n",
    "print(my_narray.max())\n",
    "# Sums the entire array\n",
    "print(my_narray.sum())"
   ]
  },
  {
   "attachments": {
    "axis%20order%20numpy%20resize.png": {
     "image/png": "[encoded data removed]"
    }
   },
   "cell_type": "markdown",
   "metadata": {
    "slideshow": {
     "slide_type": "subslide"
    }
   },
   "source": [
    "![axis%20order%20numpy%20resize.png](attachment:axis%20order%20numpy%20resize.png)"
   ]
  },
  {
   "cell_type": "code",
   "execution_count": 29,
   "metadata": {
    "slideshow": {
     "slide_type": "subslide"
    }
   },
   "outputs": [
    {
     "name": "stdout",
     "output_type": "stream",
     "text": [
      "[[ 1  2  3  4]\n",
      " [ 5  6  7  8]\n",
      " [ 9 10 11 12]\n",
      " [13 14 15 16]]\n",
      "\n",
      "[13 14 15 16]\n",
      "\n",
      "[10 26 42 58]\n"
     ]
    }
   ],
   "source": [
    "print(my_narray)\n",
    "print(\"\")\n",
    "# Returns the maximum value on axis 0\n",
    "print(my_narray.max(axis=0))\n",
    "# Sums (collapses) the array along axis 1\n",
    "print(\"\")\n",
    "print(my_narray.sum(axis=1))"
   ]
  },
  {
   "cell_type": "code",
   "execution_count": 30,
   "metadata": {
    "scrolled": true,
    "slideshow": {
     "slide_type": "subslide"
    }
   },
   "outputs": [
    {
     "name": "stdout",
     "output_type": "stream",
     "text": [
      "[[ 1  2  3  4]\n",
      " [ 5  6  7  8]\n",
      " [ 9 10 11 12]\n",
      " [13 14 15 16]]\n",
      "\n",
      "[[False False  True False]\n",
      " [False  True False False]\n",
      " [ True False False  True]\n",
      " [False False  True False]]\n"
     ]
    }
   ],
   "source": [
    "print(my_narray)\n",
    "print(\"\")\n",
    "my_array_divide_by_3 = my_narray%3==0\n",
    "print(my_array_divide_by_3)"
   ]
  },
  {
   "cell_type": "code",
   "execution_count": 31,
   "metadata": {
    "slideshow": {
     "slide_type": "subslide"
    }
   },
   "outputs": [
    {
     "name": "stdout",
     "output_type": "stream",
     "text": [
      "[[ 1  2  3  4]\n",
      " [ 5  6  7  8]\n",
      " [ 9 10 11 12]\n",
      " [13 14 15 16]]\n",
      "\n",
      "[[ 6  7]\n",
      " [10 11]]\n"
     ]
    }
   ],
   "source": [
    "print(my_narray)\n",
    "print(\"\")\n",
    "my_narray_slice = my_narray[1:3,1:3]\n",
    "print(my_narray_slice)"
   ]
  },
  {
   "cell_type": "code",
   "execution_count": 32,
   "metadata": {
    "slideshow": {
     "slide_type": "subslide"
    }
   },
   "outputs": [],
   "source": [
    "array_1 = np.array([[1,2],[3,4]])\n",
    "array_2 = np.array([[3,4],[5,6]])"
   ]
  },
  {
   "cell_type": "code",
   "execution_count": 19,
   "metadata": {
    "slideshow": {
     "slide_type": "subslide"
    }
   },
   "outputs": [
    {
     "name": "stdout",
     "output_type": "stream",
     "text": [
      "[[ 4  6]\n",
      " [ 8 10]]\n"
     ]
    }
   ],
   "source": [
    "array_sum = np.add(array_1,array_2)\n",
    "print(array_sum)"
   ]
  },
  {
   "cell_type": "code",
   "execution_count": 18,
   "metadata": {
    "slideshow": {
     "slide_type": "subslide"
    }
   },
   "outputs": [
    {
     "name": "stdout",
     "output_type": "stream",
     "text": [
      "[[ 3  8]\n",
      " [15 24]]\n"
     ]
    }
   ],
   "source": [
    "array_sum = np.multiply(array_1,array_2)\n",
    "print(array_sum)"
   ]
  },
  {
   "cell_type": "markdown",
   "metadata": {
    "slideshow": {
     "slide_type": "slide"
    }
   },
   "source": [
    "## Topic 4 - Manipulation of NumPy Arrays"
   ]
  },
  {
   "cell_type": "markdown",
   "metadata": {
    "slideshow": {
     "slide_type": "fragment"
    }
   },
   "source": [
    "### There are a ton of different ways that NumPy arrays can be manipulated.  Let's have a look at a few of them."
   ]
  },
  {
   "cell_type": "markdown",
   "metadata": {
    "slideshow": {
     "slide_type": "subslide"
    }
   },
   "source": [
    "### I'll start by creating a 2x6 array"
   ]
  },
  {
   "cell_type": "code",
   "execution_count": 33,
   "metadata": {
    "slideshow": {
     "slide_type": "fragment"
    }
   },
   "outputs": [
    {
     "name": "stdout",
     "output_type": "stream",
     "text": [
      "[[ 1  2  3  4  5  6]\n",
      " [ 7  8  9 10 11 12]]\n"
     ]
    }
   ],
   "source": [
    "import numpy as np\n",
    "another_narray = np.array([[1,2,3,4,5,6],[7,8,9,10,11,12]])\n",
    "print(another_narray)"
   ]
  },
  {
   "cell_type": "markdown",
   "metadata": {
    "slideshow": {
     "slide_type": "subslide"
    }
   },
   "source": [
    "### Let's mess with the shape of my array"
   ]
  },
  {
   "cell_type": "code",
   "execution_count": 47,
   "metadata": {
    "slideshow": {
     "slide_type": "subslide"
    }
   },
   "outputs": [
    {
     "name": "stdout",
     "output_type": "stream",
     "text": [
      "[[ 1  2]\n",
      " [ 3  4]\n",
      " [ 5  6]\n",
      " [ 7  8]\n",
      " [ 9 10]\n",
      " [11 12]]\n"
     ]
    }
   ],
   "source": [
    "# Resize an array in place (replaces existing array variable)\n",
    "another_narray.resize(6,2)\n",
    "print(another_narray)"
   ]
  },
  {
   "cell_type": "code",
   "execution_count": 48,
   "metadata": {
    "slideshow": {
     "slide_type": "subslide"
    }
   },
   "outputs": [
    {
     "name": "stdout",
     "output_type": "stream",
     "text": [
      "[[ 1  3  5  7  9 11]\n",
      " [ 2  4  6  8 10 12]]\n"
     ]
    }
   ],
   "source": [
    "# Transpose array axes and overwrite existing array\n",
    "another_narray = another_narray.transpose()\n",
    "print(another_narray)"
   ]
  },
  {
   "cell_type": "code",
   "execution_count": 34,
   "metadata": {
    "slideshow": {
     "slide_type": "subslide"
    }
   },
   "outputs": [
    {
     "name": "stdout",
     "output_type": "stream",
     "text": [
      "[ 1  2  3  4  5  6  7  8  9 10 11 12]\n"
     ]
    }
   ],
   "source": [
    "# Flatten my array\n",
    "another_narray = another_narray.flatten()\n",
    "print(another_narray)"
   ]
  },
  {
   "cell_type": "code",
   "execution_count": 35,
   "metadata": {
    "slideshow": {
     "slide_type": "subslide"
    }
   },
   "outputs": [
    {
     "name": "stdout",
     "output_type": "stream",
     "text": [
      "[ 1  2  3  4  5  6  7  8  9 10 11 12]\n"
     ]
    }
   ],
   "source": [
    "# Sort my array\n",
    "another_narray.sort()\n",
    "print(another_narray)"
   ]
  },
  {
   "cell_type": "code",
   "execution_count": 36,
   "metadata": {
    "slideshow": {
     "slide_type": "subslide"
    }
   },
   "outputs": [
    {
     "name": "stdout",
     "output_type": "stream",
     "text": [
      "[[ 1  2  3  4  5  6]\n",
      " [ 7  8  9 10 11 12]]\n"
     ]
    }
   ],
   "source": [
    "# Now break it back into a 2x6, giving me exactly what I started with...\n",
    "another_narray.resize (2,6)\n",
    "print(another_narray)"
   ]
  }
 ],
 "metadata": {
  "celltoolbar": "Slideshow",
  "kernelspec": {
   "display_name": "Python 3",
   "language": "python",
   "name": "python3"
  },
  "language_info": {
   "codemirror_mode": {
    "name": "ipython",
    "version": 3
   },
   "file_extension": ".py",
   "mimetype": "text/x-python",
   "name": "python",
   "nbconvert_exporter": "python",
   "pygments_lexer": "ipython3",
   "version": "3.7.6"
  }
 },
 "nbformat": 4,
 "nbformat_minor": 2
}
