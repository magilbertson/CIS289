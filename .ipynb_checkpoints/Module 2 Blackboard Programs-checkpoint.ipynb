{
 "cells": [
  {
   "cell_type": "markdown",
   "metadata": {},
   "source": [
    "### Map Functions"
   ]
  },
  {
   "cell_type": "code",
   "execution_count": 9,
   "metadata": {},
   "outputs": [
    {
     "name": "stdout",
     "output_type": "stream",
     "text": [
      "[2, 8, 16, 24, 30, 38]\n"
     ]
    }
   ],
   "source": [
    "# Function used in map\n",
    "def doubles(input_number):\n",
    "    return input_number * 2\n",
    "\n",
    "# Iterable to use in the map\n",
    "numbers_to_double = [1,4,8,12,15,19]\n",
    "\n",
    "# Creates map object and assigns it to the result variable\n",
    "result = map(doubles,numbers_to_double)\n",
    "\n",
    "# Output result map as a list\n",
    "print(list(result))"
   ]
  },
  {
   "cell_type": "code",
   "execution_count": 8,
   "metadata": {},
   "outputs": [
    {
     "name": "stdout",
     "output_type": "stream",
     "text": [
      "863 ns ± 205 ns per loop (mean ± std. dev. of 7 runs, 1000000 loops each)\n"
     ]
    }
   ],
   "source": [
    "%%timeit \n",
    "result = []\n",
    "for item in numbers_to_double:\n",
    "    result.append(doubles(item))"
   ]
  },
  {
   "cell_type": "code",
   "execution_count": 13,
   "metadata": {},
   "outputs": [],
   "source": [
    "class Person:\n",
    "    def __init__(self, age, gender, hair_color):\n",
    "        self.age = age\n",
    "        self.gender = gender\n",
    "        self.hair_color = hair_color\n",
    "    \n",
    "Jim = Person(25, \"male\", \"brown\")\n",
    "Jane = Person(30, \"female\", \"red\")\n",
    "Tim = Person(35, \"male\", \"none\")\n",
    "Tina = Person(40, \"female\", \"blond\")\n",
    "people_list = (Jim,Jane,Tim,Tina)"
   ]
  },
  {
   "cell_type": "code",
   "execution_count": 16,
   "metadata": {},
   "outputs": [
    {
     "name": "stdout",
     "output_type": "stream",
     "text": [
      "[25, 30, 35, 40]\n"
     ]
    }
   ],
   "source": [
    "age_list = list(map(lambda x:x.age,people_list))\n",
    "print(age_list)"
   ]
  },
  {
   "cell_type": "code",
   "execution_count": 28,
   "metadata": {},
   "outputs": [
    {
     "name": "stdout",
     "output_type": "stream",
     "text": [
      "624 ns ± 5.2 ns per loop (mean ± std. dev. of 7 runs, 1000000 loops each)\n"
     ]
    }
   ],
   "source": [
    "%%timeit\n",
    "age_list = []\n",
    "age_list = list(map(lambda x:x.age,people_list))\n",
    "#print(age_list)"
   ]
  },
  {
   "cell_type": "code",
   "execution_count": 27,
   "metadata": {},
   "outputs": [
    {
     "name": "stdout",
     "output_type": "stream",
     "text": [
      "304 ns ± 2.04 ns per loop (mean ± std. dev. of 7 runs, 1000000 loops each)\n"
     ]
    }
   ],
   "source": [
    "%%timeit\n",
    "age_list = []\n",
    "for item in people_list:\n",
    "    age_list.append(item.age)\n",
    "#print(age_list)"
   ]
  },
  {
   "cell_type": "markdown",
   "metadata": {},
   "source": [
    "### Graphs"
   ]
  },
  {
   "cell_type": "markdown",
   "metadata": {},
   "source": [
    "### Lambda Functions"
   ]
  },
  {
   "cell_type": "code",
   "execution_count": 30,
   "metadata": {},
   "outputs": [
    {
     "data": {
      "text/plain": [
       "18"
      ]
     },
     "execution_count": 30,
     "metadata": {},
     "output_type": "execute_result"
    }
   ],
   "source": [
    "def add_three_nums(num_1,num_2,num_3):\n",
    "    return num_1+num_2+num_3\n",
    "\n",
    "add_three_nums(5,6,7)"
   ]
  },
  {
   "cell_type": "code",
   "execution_count": 33,
   "metadata": {},
   "outputs": [
    {
     "name": "stdout",
     "output_type": "stream",
     "text": [
      "18\n"
     ]
    }
   ],
   "source": [
    "solution = (lambda a,b,c:a+b+c)(5,6,7)\n",
    "print(solution)"
   ]
  },
  {
   "cell_type": "code",
   "execution_count": 35,
   "metadata": {},
   "outputs": [
    {
     "data": {
      "text/plain": [
       "24"
      ]
     },
     "execution_count": 35,
     "metadata": {},
     "output_type": "execute_result"
    }
   ],
   "source": [
    "solution = (lambda a,b,c:a+b+c)\n",
    "solution(5,6,7)"
   ]
  },
  {
   "cell_type": "code",
   "execution_count": 47,
   "metadata": {},
   "outputs": [
    {
     "name": "stdout",
     "output_type": "stream",
     "text": [
      "<re.Match object; span=(0, 3), match='You'>\n",
      "<re.Match object; span=(17, 27), match='understand'>\n",
      "None\n"
     ]
    }
   ],
   "source": [
    "import re\n",
    "search_string = \"You never really understand a person until you consider things from his point of view\"\n",
    "x = re.search(\"You\",search_string)\n",
    "print(x)\n",
    "z = re.search(\"understand\", search_string)\n",
    "print(z)\n",
    "y = re.search(\"whatever\",search_string)\n",
    "print(y)"
   ]
  },
  {
   "cell_type": "code",
   "execution_count": 52,
   "metadata": {},
   "outputs": [
    {
     "name": "stdout",
     "output_type": "stream",
     "text": [
      "['tan', 'til', 'thi']\n"
     ]
    }
   ],
   "source": [
    "word_list = re.findall(\"t[\\S][\\S]\",search_string)\n",
    "print (word_list)"
   ]
  },
  {
   "cell_type": "code",
   "execution_count": 54,
   "metadata": {},
   "outputs": [
    {
     "name": "stdout",
     "output_type": "stream",
     "text": [
      "['You', 'never', 'really', 'understand', 'a', 'person', 'until', 'you', 'consider', 'things', 'from', 'his', 'point', 'of', 'view']\n"
     ]
    }
   ],
   "source": [
    "split_string = re.split(\"\\s\",search_string)\n",
    "print (split_string)       "
   ]
  },
  {
   "cell_type": "code",
   "execution_count": 59,
   "metadata": {},
   "outputs": [
    {
     "name": "stdout",
     "output_type": "stream",
     "text": [
      "never really understand person until consider things from his point view\n"
     ]
    }
   ],
   "source": [
    "updated_search_string = re.sub(\"you |a |of \",\"\",search_string,flags=re.IGNORECASE)\n",
    "print (updated_search_string)"
   ]
  }
 ],
 "metadata": {
  "kernelspec": {
   "display_name": "Python 3",
   "language": "python",
   "name": "python3"
  },
  "language_info": {
   "codemirror_mode": {
    "name": "ipython",
    "version": 3
   },
   "file_extension": ".py",
   "mimetype": "text/x-python",
   "name": "python",
   "nbconvert_exporter": "python",
   "pygments_lexer": "ipython3",
   "version": "3.7.3"
  }
 },
 "nbformat": 4,
 "nbformat_minor": 2
}
