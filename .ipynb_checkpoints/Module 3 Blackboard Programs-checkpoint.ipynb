{
 "cells": [
  {
   "cell_type": "markdown",
   "metadata": {
    "slideshow": {
     "slide_type": "slide"
    }
   },
   "source": [
    "# Module 3 - File I/O and NumPy"
   ]
  },
  {
   "cell_type": "markdown",
   "metadata": {
    "slideshow": {
     "slide_type": "subslide"
    }
   },
   "source": [
    "## Topic 1 - Web Scraping, File I/O"
   ]
  },
  {
   "cell_type": "markdown",
   "metadata": {
    "slideshow": {
     "slide_type": "fragment"
    }
   },
   "source": [
    "### There's a great deal of valuable data being created every second on the web. If we can gather this data and store it in a clean, structured way, it can be used in our programs"
   ]
  },
  {
   "cell_type": "markdown",
   "metadata": {
    "slideshow": {
     "slide_type": "subslide"
    }
   },
   "source": [
    "### Web Scraping Example"
   ]
  },
  {
   "cell_type": "code",
   "execution_count": 1,
   "metadata": {
    "slideshow": {
     "slide_type": "subslide"
    }
   },
   "outputs": [],
   "source": [
    "from requests import get\n",
    "from contextlib import closing\n",
    "from bs4 import BeautifulSoup"
   ]
  },
  {
   "cell_type": "code",
   "execution_count": 3,
   "metadata": {
    "slideshow": {
     "slide_type": "subslide"
    }
   },
   "outputs": [],
   "source": [
    "def get_a_page(url):\n",
    "    header = {'User-agent' : 'Mozilla/5.0 (Windows; U; Windows NT 5.1; de; rv:1.9.1.5) Gecko/20091102 Firefox/3.5.5'}\n",
    "    with closing(get(url, headers=header)) as resp:\n",
    "        return resp"
   ]
  },
  {
   "cell_type": "code",
   "execution_count": 4,
   "metadata": {
    "slideshow": {
     "slide_type": "fragment"
    }
   },
   "outputs": [],
   "source": [
    "raw_html = get_a_page(\"https://desmoines.craigslist.org/d/recreational-vehicles/search/rva\")"
   ]
  },
  {
   "cell_type": "code",
   "execution_count": 5,
   "metadata": {
    "scrolled": true,
    "slideshow": {
     "slide_type": "fragment"
    }
   },
   "outputs": [
    {
     "name": "stdout",
     "output_type": "stream",
     "text": [
      "<class 'bs4.element.ResultSet'>\n",
      "120\n"
     ]
    }
   ],
   "source": [
    "html = BeautifulSoup(raw_html.text, 'html.parser')\n",
    "postings = html.find_all('li', class_= 'result-row')\n",
    "print(type(postings))\n",
    "print(len(postings)) "
   ]
  },
  {
   "cell_type": "code",
   "execution_count": 6,
   "metadata": {
    "slideshow": {
     "slide_type": "subslide"
    }
   },
   "outputs": [
    {
     "name": "stdout",
     "output_type": "stream",
     "text": [
      "<li class=\"result-row\" data-pid=\"7193746279\">\n",
      "<a class=\"result-image gallery\" data-ids=\"3:00101_6eR19dI3ahL_0gw0co,3:00H0H_gBSytQSGE1r_0gw0co,3:00n0n_5FqInWZKx2S_09i0co,3:00101_bnMdl1imoEM_0gw0co,3:00j0j_l09aiiEnsqh_09i0co,3:00i0i_ducKJbxJnsD_0gw0co,3:00Y0Y_DAaXy879p9_0gw0co,3:00o0o_7yhpnRpNEJ2_0gw0co,3:00O0O_71EsnFWNqCa_0gw0co,3:00909_5Y5b0jDJrZP_0gw0co,3:00k0k_hKFhl4qlgxW_0gw0co,3:00505_aAh5qY7s0zK_09i0co,3:00g0g_85Qu23LJooA_09i0co,3:00n0n_hHA4W2QZd9h_0gw0co,3:00i0i_fbbn3F2uzCi_09i0co,3:00w0w_9eJNXa3DBX1_0gw0co\" href=\"https://desmoines.craigslist.org/rvd/d/clinton-2014-keystone-springdale-293rk/7193746279.html\">\n",
      "<span class=\"result-price\">$14,900</span>\n",
      "</a>\n",
      "<p class=\"result-info\">\n",
      "<span class=\"icon icon-star\" role=\"button\">\n",
      "<span class=\"screen-reader-text\">favorite this post</span>\n",
      "</span>\n",
      "<time class=\"result-date\" datetime=\"2020-09-10 13:05\" title=\"Thu 10 Sep 01:05:08 PM\">Sep 10</time>\n",
      "<a class=\"result-title hdrlnk\" data-id=\"7193746279\" href=\"https://desmoines.craigslist.org/rvd/d/clinton-2014-keystone-springdale-293rk/7193746279.html\">2014 Keystone Springdale 293RK</a>\n",
      "<span class=\"result-meta\">\n",
      "<span class=\"result-price\">$14,900</span>\n",
      "<span class=\"result-hood\"> (Clinton, MO)</span>\n",
      "<span class=\"result-tags\">\n",
      "<span class=\"pictag\">pic</span>\n",
      "</span>\n",
      "<span class=\"banish icon icon-trash\" role=\"button\">\n",
      "<span class=\"screen-reader-text\">hide this posting</span>\n",
      "</span>\n",
      "<span aria-hidden=\"true\" class=\"unbanish icon icon-trash red\" role=\"button\"></span>\n",
      "<a class=\"restore-link\" href=\"#\">\n",
      "<span class=\"restore-narrow-text\">restore</span>\n",
      "<span class=\"restore-wide-text\">restore this posting</span>\n",
      "</a>\n",
      "</span>\n",
      "</p>\n",
      "</li>\n"
     ]
    }
   ],
   "source": [
    "print (postings[0])"
   ]
  },
  {
   "cell_type": "markdown",
   "metadata": {
    "slideshow": {
     "slide_type": "subslide"
    }
   },
   "source": [
    "### Get data for a single posting to ensure this works"
   ]
  },
  {
   "cell_type": "code",
   "execution_count": 7,
   "metadata": {
    "slideshow": {
     "slide_type": "subslide"
    }
   },
   "outputs": [
    {
     "name": "stdout",
     "output_type": "stream",
     "text": [
      "$14,900\n",
      "2020-09-10 13:05\n"
     ]
    }
   ],
   "source": [
    "# Get price for first listing\n",
    "post_1_price = postings[0].a.text\n",
    "post_1_price = post_1_price.strip()\n",
    "print(post_1_price)\n",
    "# Get timestamp for first listing\n",
    "post_1_time = postings[0].find('time', class_= 'result-date')\n",
    "post_1_datetime = post_1_time['datetime']\n",
    "print(post_1_datetime)"
   ]
  },
  {
   "cell_type": "code",
   "execution_count": 8,
   "metadata": {
    "slideshow": {
     "slide_type": "subslide"
    }
   },
   "outputs": [
    {
     "name": "stdout",
     "output_type": "stream",
     "text": [
      "https://desmoines.craigslist.org/rvd/d/clinton-2014-keystone-springdale-293rk/7193746279.html 2014 Keystone Springdale 293RK\n"
     ]
    }
   ],
   "source": [
    "# Get text of title of first listing\n",
    "post_1_title = postings[0].find('a', class_= 'result-title hdrlnk')\n",
    "post_1_link = post_1_title['href']\n",
    "print( post_1_link,post_1_title.text)"
   ]
  },
  {
   "cell_type": "code",
   "execution_count": 9,
   "metadata": {
    "slideshow": {
     "slide_type": "subslide"
    }
   },
   "outputs": [
    {
     "name": "stdout",
     "output_type": "stream",
     "text": [
      " (Clinton, MO)\n"
     ]
    }
   ],
   "source": [
    "post_1_location = postings[0].find(class_= 'result-hood')\n",
    "print(post_1_location.text)"
   ]
  },
  {
   "cell_type": "markdown",
   "metadata": {
    "slideshow": {
     "slide_type": "subslide"
    }
   },
   "source": [
    "### Now gather data for all listings"
   ]
  },
  {
   "cell_type": "code",
   "execution_count": 10,
   "metadata": {
    "slideshow": {
     "slide_type": "subslide"
    }
   },
   "outputs": [],
   "source": [
    "from time import sleep\n",
    "import re # regex library\n",
    "from random import randint #avoid throttling by not sending too many requests one after the other\n",
    "from warnings import warn\n",
    "from time import time\n",
    "from IPython.core.display import clear_output\n",
    "import numpy as np"
   ]
  },
  {
   "cell_type": "code",
   "execution_count": 11,
   "metadata": {
    "slideshow": {
     "slide_type": "subslide"
    }
   },
   "outputs": [
    {
     "name": "stdout",
     "output_type": "stream",
     "text": [
      "184\n"
     ]
    }
   ],
   "source": [
    "results_num = html.find('div', class_= 'search-legend')\n",
    "results_total = int(results_num.find('span', class_='totalcount').text)\n",
    "print(results_total)"
   ]
  },
  {
   "cell_type": "code",
   "execution_count": 12,
   "metadata": {
    "slideshow": {
     "slide_type": "subslide"
    }
   },
   "outputs": [
    {
     "name": "stdout",
     "output_type": "stream",
     "text": [
      "[  0 120]\n"
     ]
    }
   ],
   "source": [
    "pages = np.arange(0, results_total+1, 120)\n",
    "print(pages)"
   ]
  },
  {
   "cell_type": "code",
   "execution_count": 13,
   "metadata": {
    "slideshow": {
     "slide_type": "subslide"
    }
   },
   "outputs": [],
   "source": [
    "iterations = 0\n",
    "\n",
    "post_timing = []\n",
    "post_hoods = []\n",
    "post_title_texts = []\n",
    "post_prices = []\n",
    "post_links = []"
   ]
  },
  {
   "cell_type": "code",
   "execution_count": 14,
   "metadata": {
    "slideshow": {
     "slide_type": "subslide"
    }
   },
   "outputs": [
    {
     "name": "stdout",
     "output_type": "stream",
     "text": [
      "Page 1 scraped successfully!\n",
      "Page 2 scraped successfully!\n",
      "\n",
      "\n",
      "Scrape complete!\n"
     ]
    }
   ],
   "source": [
    "for page in pages:\n",
    "    \n",
    "    #get request\n",
    "    response = get(\"https://desmoines.craigslist.org/d/recreational-vehicles/search/rva?\" \n",
    "                   + \"s=\" #the parameter for defining the page number \n",
    "                   + str(page) #the page number in the pages array from earlier\n",
    "                   )\n",
    "\n",
    "    sleep(randint(1,5))\n",
    "     \n",
    "    #throw warning for status codes that are not 200\n",
    "    if response.status_code != 200:\n",
    "        warn('Request: {}; Status code: {}'.format(requests, response.status_code))\n",
    "        \n",
    "    #define the html text\n",
    "    page_html = BeautifulSoup(response.text, 'html.parser')\n",
    "    \n",
    "    #define the posts\n",
    "    posts = page_html.find_all('li', class_= 'result-row')\n",
    "        \n",
    "    #extract data item-wise\n",
    "    for post in posts:\n",
    "\n",
    "        if post.find('span', class_ = 'result-hood') is not None:\n",
    "\n",
    "            #posting date\n",
    "            #grab the datetime element 0 for date and 1 for time\n",
    "            post_datetime = post.find('time', class_= 'result-date')['datetime']\n",
    "            post_timing.append(post_datetime)\n",
    "\n",
    "            #neighborhoods\n",
    "            post_hood = post.find('span', class_= 'result-hood').text\n",
    "            post_hoods.append(post_hood)\n",
    "\n",
    "            #title text\n",
    "            post_title = post.find('a', class_='result-title hdrlnk')\n",
    "            post_title_text = post_title.text\n",
    "            post_title_texts.append(post_title_text)\n",
    "\n",
    "            #post link\n",
    "            post_link = post_title['href']\n",
    "            post_links.append(post_link)\n",
    "            \n",
    "            #removes the \\n whitespace from each side, removes the currency symbol, and turns it into an int\n",
    "            if post.a.text == \"\":\n",
    "                post_price = 0\n",
    "            else:\n",
    "                post_price = int((post.a.text.strip().replace(\"$\", \"\")).replace(\",\", \"\")) \n",
    "            post_prices.append(post_price)\n",
    "            \n",
    "    iterations += 1\n",
    "    print(\"Page \" + str(iterations) + \" scraped successfully!\")\n",
    "\n",
    "print(\"\\n\")\n",
    "\n",
    "print(\"Scrape complete!\")"
   ]
  },
  {
   "cell_type": "code",
   "execution_count": null,
   "metadata": {
    "slideshow": {
     "slide_type": "subslide"
    }
   },
   "outputs": [],
   "source": [
    "# I can now load all my lists into a dictionary of lists (or whatever data structure makes the most sense)\n",
    "all_listing_dict = {}\n",
    "for listing in range (0,len(post_title_texts)):\n",
    "    all_listing_dict[listing]=[post_timing[listing],post_hoods[listing],post_title_texts[listing],post_prices[listing],post_links[listing]]\n",
    "\n",
    "print(all_listing_dict)\n",
    "#print(all_listing_dict[0])\n",
    "#print(all_listing_dict[1])"
   ]
  },
  {
   "cell_type": "code",
   "execution_count": null,
   "metadata": {
    "slideshow": {
     "slide_type": "subslide"
    }
   },
   "outputs": [],
   "source": [
    "for item in all_listing_dict:\n",
    "    print(all_listing_dict[item][3])"
   ]
  },
  {
   "cell_type": "markdown",
   "metadata": {
    "slideshow": {
     "slide_type": "slide"
    }
   },
   "source": [
    "### Topic 1 Continuted: File Input Example"
   ]
  },
  {
   "cell_type": "code",
   "execution_count": null,
   "metadata": {
    "slideshow": {
     "slide_type": "subslide"
    }
   },
   "outputs": [],
   "source": [
    "# This example assumes you have the Moby_Dick_Chapter_1.txt file in the same directory as your program\n",
    "with open('Moby_Dick_Chapter_1.txt','r') as input_file:\n",
    "    for line in input_file:\n",
    "        print(line)\n"
   ]
  },
  {
   "cell_type": "code",
   "execution_count": null,
   "metadata": {
    "slideshow": {
     "slide_type": "subslide"
    }
   },
   "outputs": [],
   "source": [
    "# This example assumes you have the Moby_Dick_Chapter_1.txt file in the same directory as your program\n",
    "import re\n",
    "moby_dick_word_count = {}\n",
    "\n",
    "with open('Moby_Dick_Chapter_1.txt','r') as input_file:\n",
    "    for line in input_file:\n",
    "        # First lowercase all characters in the line\n",
    "        line = line.lower()\n",
    "        # Next clean the line of any punctuation\n",
    "        line_clean =  re.sub(r'[^\\w\\s]', '', line)\n",
    "        # Now split the line into words\n",
    "        line_split = line_clean.split()\n",
    "        # Now we can add the words to our dictionary\n",
    "        for word in line_split:\n",
    "            if word in moby_dick_word_count.keys():\n",
    "                moby_dick_word_count[word] += 1\n",
    "            else:\n",
    "                moby_dick_word_count[word] = 1\n",
    "print(moby_dick_word_count)"
   ]
  },
  {
   "cell_type": "code",
   "execution_count": null,
   "metadata": {
    "slideshow": {
     "slide_type": "subslide"
    }
   },
   "outputs": [],
   "source": [
    "sorted(moby_dick_word_count.items(), key=lambda x: x[1], reverse=True)"
   ]
  },
  {
   "cell_type": "code",
   "execution_count": null,
   "metadata": {
    "slideshow": {
     "slide_type": "subslide"
    }
   },
   "outputs": [],
   "source": [
    "data_for_output = sorted(moby_dick_word_count.items(), key=lambda x: x[1], reverse=True)\n",
    "\n",
    "with open(\"moby_dick_word_counts.txt\",'w') as fileoutput:\n",
    "    for item in data_for_output:\n",
    "        #print(item)\n",
    "        fileoutput.write(item[0] + \" \" + str(item[1])+ \"\\n\")"
   ]
  },
  {
   "cell_type": "markdown",
   "metadata": {
    "slideshow": {
     "slide_type": "slide"
    }
   },
   "source": [
    "## Topic 2 - Intro to SciPy Package"
   ]
  },
  {
   "cell_type": "markdown",
   "metadata": {
    "slideshow": {
     "slide_type": "subslide"
    }
   },
   "source": [
    "### This topic contains some links to information about the power of the SciPy library"
   ]
  },
  {
   "cell_type": "markdown",
   "metadata": {
    "slideshow": {
     "slide_type": "slide"
    }
   },
   "source": [
    "## Topic 3 - NumPy Arrays"
   ]
  },
  {
   "cell_type": "markdown",
   "metadata": {
    "slideshow": {
     "slide_type": "subslide"
    }
   },
   "source": [
    "### Arrays, not the NumPy type first"
   ]
  },
  {
   "cell_type": "code",
   "execution_count": null,
   "metadata": {
    "slideshow": {
     "slide_type": "fragment"
    }
   },
   "outputs": [],
   "source": [
    "import array\n",
    "my_array = array.array('i',[5,4,3,2])\n",
    "print(my_array)"
   ]
  },
  {
   "cell_type": "code",
   "execution_count": null,
   "metadata": {
    "slideshow": {
     "slide_type": "subslide"
    }
   },
   "outputs": [],
   "source": [
    "my_array[0]"
   ]
  },
  {
   "cell_type": "code",
   "execution_count": null,
   "metadata": {
    "slideshow": {
     "slide_type": "subslide"
    }
   },
   "outputs": [],
   "source": [
    "print(my_array[0:2])\n",
    "my_array[1] = 5\n",
    "my_array.append(9)\n",
    "print(my_array)\n",
    "my_array.remove(9)\n",
    "print(my_array)"
   ]
  },
  {
   "cell_type": "code",
   "execution_count": null,
   "metadata": {
    "slideshow": {
     "slide_type": "subslide"
    }
   },
   "outputs": [],
   "source": [
    "my_array.pop()"
   ]
  },
  {
   "cell_type": "markdown",
   "metadata": {
    "slideshow": {
     "slide_type": "slide"
    }
   },
   "source": [
    "### NumPy"
   ]
  },
  {
   "cell_type": "code",
   "execution_count": null,
   "metadata": {
    "slideshow": {
     "slide_type": "fragment"
    }
   },
   "outputs": [],
   "source": [
    "import numpy as np\n",
    "my_narray = np.array([[1,2,3,4],[5,6,7,8],[9,10,11,12],[13,14,15,16]])\n",
    "print(my_narray)"
   ]
  },
  {
   "cell_type": "markdown",
   "metadata": {
    "slideshow": {
     "slide_type": "subslide"
    }
   },
   "source": [
    "### Common NumPy Properties"
   ]
  },
  {
   "cell_type": "code",
   "execution_count": null,
   "metadata": {
    "slideshow": {
     "slide_type": "fragment"
    }
   },
   "outputs": [],
   "source": [
    "# Output the shape of the array\n",
    "print(my_narray.shape)\n",
    "# Output the number of items in the array\n",
    "print(my_narray.size)\n",
    "# Output the datatype of the array items\n",
    "print(my_narray.dtype)"
   ]
  },
  {
   "cell_type": "markdown",
   "metadata": {
    "slideshow": {
     "slide_type": "subslide"
    }
   },
   "source": [
    "### Accessing data in a NumPy Array"
   ]
  },
  {
   "cell_type": "code",
   "execution_count": null,
   "metadata": {
    "slideshow": {
     "slide_type": "fragment"
    }
   },
   "outputs": [],
   "source": [
    "# Returns the maximum value in the entire array\n",
    "print(my_narray.max())\n",
    "# Sums the entire array\n",
    "print(my_narray.sum())"
   ]
  },
  {
   "attachments": {
    "axis%20order%20numpy%20resize.png": {
     "image/png": "[encoded data removed]"
    }
   },
   "cell_type": "markdown",
   "metadata": {
    "slideshow": {
     "slide_type": "subslide"
    }
   },
   "source": [
    "![axis%20order%20numpy%20resize.png](attachment:axis%20order%20numpy%20resize.png)"
   ]
  },
  {
   "cell_type": "code",
   "execution_count": null,
   "metadata": {
    "slideshow": {
     "slide_type": "subslide"
    }
   },
   "outputs": [],
   "source": [
    "print(my_narray)\n",
    "print(\"\")\n",
    "# Returns the maximum value on axis 0\n",
    "print(my_narray.max(axis=0))\n",
    "# Sums (collapses) the array along axis 1\n",
    "print(my_narray.sum(axis=1))"
   ]
  },
  {
   "cell_type": "code",
   "execution_count": null,
   "metadata": {
    "scrolled": true,
    "slideshow": {
     "slide_type": "subslide"
    }
   },
   "outputs": [],
   "source": [
    "print(my_narray)\n",
    "my_array_divide_by_3 = my_narray%3==0\n",
    "print(my_array_divide_by_3)"
   ]
  },
  {
   "cell_type": "code",
   "execution_count": null,
   "metadata": {
    "slideshow": {
     "slide_type": "subslide"
    }
   },
   "outputs": [],
   "source": [
    "my_narray_slice = my_narray[1:3,1:3]\n",
    "print(my_narray_slice)"
   ]
  },
  {
   "cell_type": "code",
   "execution_count": null,
   "metadata": {
    "slideshow": {
     "slide_type": "subslide"
    }
   },
   "outputs": [],
   "source": [
    "array_1 = np.array([[1,2],[3,4]])\n",
    "array_2 = np.array([[3,4],[5,6]])"
   ]
  },
  {
   "cell_type": "code",
   "execution_count": null,
   "metadata": {
    "slideshow": {
     "slide_type": "subslide"
    }
   },
   "outputs": [],
   "source": [
    "array_sum = np.add(array_1,array_2)\n",
    "print(array_sum)"
   ]
  },
  {
   "cell_type": "code",
   "execution_count": null,
   "metadata": {
    "slideshow": {
     "slide_type": "subslide"
    }
   },
   "outputs": [],
   "source": [
    "array_sum = np.multiply(array_1,array_2)\n",
    "print(array_sum)"
   ]
  },
  {
   "cell_type": "markdown",
   "metadata": {
    "slideshow": {
     "slide_type": "slide"
    }
   },
   "source": [
    "## Topic 4 - Manipulation of NumPy Arrays"
   ]
  },
  {
   "cell_type": "markdown",
   "metadata": {
    "slideshow": {
     "slide_type": "fragment"
    }
   },
   "source": [
    "### There are a ton of different ways that NumPy arrays can be manipulated.  Let's have a look at a few of them."
   ]
  },
  {
   "cell_type": "markdown",
   "metadata": {
    "slideshow": {
     "slide_type": "subslide"
    }
   },
   "source": [
    "### I'll start by creating a 2x6 array"
   ]
  },
  {
   "cell_type": "code",
   "execution_count": null,
   "metadata": {
    "slideshow": {
     "slide_type": "fragment"
    }
   },
   "outputs": [],
   "source": [
    "import numpy as np\n",
    "another_narray = np.array([[1,2,3,4,5,6],[7,8,9,10,11,12]])\n",
    "print(another_narray)"
   ]
  },
  {
   "cell_type": "markdown",
   "metadata": {
    "slideshow": {
     "slide_type": "subslide"
    }
   },
   "source": [
    "### Let's mess with the shape of my array"
   ]
  },
  {
   "cell_type": "code",
   "execution_count": null,
   "metadata": {
    "slideshow": {
     "slide_type": "subslide"
    }
   },
   "outputs": [],
   "source": [
    "# Resize an array in place (replaces existing array variable)\n",
    "another_narray.resize(6,2)\n",
    "print(another_narray)"
   ]
  },
  {
   "cell_type": "code",
   "execution_count": null,
   "metadata": {
    "slideshow": {
     "slide_type": "subslide"
    }
   },
   "outputs": [],
   "source": [
    "# Transpose array axes and overwrite existing array\n",
    "another_narray = another_narray.transpose()\n",
    "print(another_narray)"
   ]
  },
  {
   "cell_type": "code",
   "execution_count": null,
   "metadata": {
    "slideshow": {
     "slide_type": "subslide"
    }
   },
   "outputs": [],
   "source": [
    "# Flatten my array\n",
    "another_narray = another_narray.flatten()\n",
    "print(another_narray)"
   ]
  },
  {
   "cell_type": "code",
   "execution_count": null,
   "metadata": {
    "slideshow": {
     "slide_type": "subslide"
    }
   },
   "outputs": [],
   "source": [
    "# Sort my array\n",
    "another_narray.sort()\n",
    "print(another_narray)"
   ]
  },
  {
   "cell_type": "code",
   "execution_count": null,
   "metadata": {
    "slideshow": {
     "slide_type": "subslide"
    }
   },
   "outputs": [],
   "source": [
    "# Now break it back into a 2x6, giving me exactly what I started with...\n",
    "another_narray.resize (2,6)\n",
    "print(another_narray)"
   ]
  }
 ],
 "metadata": {
  "celltoolbar": "Slideshow",
  "kernelspec": {
   "display_name": "Python 3",
   "language": "python",
   "name": "python3"
  },
  "language_info": {
   "codemirror_mode": {
    "name": "ipython",
    "version": 3
   },
   "file_extension": ".py",
   "mimetype": "text/x-python",
   "name": "python",
   "nbconvert_exporter": "python",
   "pygments_lexer": "ipython3",
   "version": "3.7.6"
  }
 },
 "nbformat": 4,
 "nbformat_minor": 2
}
